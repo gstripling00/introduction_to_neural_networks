{
  "cells": [
    {
      "cell_type": "markdown",
      "metadata": {
        "id": "view-in-github",
        "colab_type": "text"
      },
      "source": [
        "<a href=\"https://colab.research.google.com/github/gstripling00/introduction_to_neural_networks/blob/main/simple_neural_network_using_keras.ipynb\" target=\"_parent\"><img src=\"https://colab.research.google.com/assets/colab-badge.svg\" alt=\"Open In Colab\"/></a>"
      ]
    },
    {
      "cell_type": "markdown",
      "metadata": {
        "id": "DGPlYumZnO1t"
      },
      "source": [
        "# Simple Neural Network using Keras\n",
        "\n",
        "\n",
        "## Introduction \n",
        "I created a prediction model for sales analysis. In this model, we need to feed the advertising budget of TV, radio, and newspapers to the model and the model will forecast the possible sales. For designing the model, the machine learning method I opted for is simple linear regression, and the programming was done in Jupyter notebook.\n",
        "\n",
        "## Dataset\n",
        "The advertising dataset captures the sales revenue generated with respect to advertisement costs across numerous platforms like radio, TV, and newspapers.\n",
        "\n",
        "### Features:\n",
        "\n",
        "#### Digital: advertising dollars spent on Internet.\n",
        "#### TV: advertising dollars spent on TV.\n",
        "#### Radio: advertising dollars spent on Radio.\n",
        "#### Newspaper: advertising dollars spent on Newspaper.\n",
        "\n",
        "### Target (Label):\n",
        "#### Sales budget"
      ]
    },
    {
      "cell_type": "markdown",
      "metadata": {
        "id": "AsHg6SD2nO1v"
      },
      "source": [
        "### Import Libraries"
      ]
    },
    {
      "cell_type": "code",
      "execution_count": 2,
      "metadata": {
        "id": "gEXV-RxPnO1w"
      },
      "outputs": [],
      "source": [
        "# Importing Pandas, a data processing and CSV file I/O libraries\n",
        "import os \n",
        "import pandas as pd\n",
        "import numpy as np\n",
        "import matplotlib.pyplot as plt\n",
        "import seaborn as sns # Seaborn is a Python data visualization library based on matplotlib. \n",
        "%matplotlib inline   \n",
        "import sklearn\n",
        "\n",
        "##Import the libraries\n",
        "#import tensorflow as tf\n",
        "from tensorflow import keras\n",
        "from keras.models import Sequential\n",
        "from keras.layers import Dense\n",
        "\n",
        "from sklearn.model_selection import train_test_split\n",
        "from keras.callbacks import EarlyStopping\n",
        "\n",
        "# Keras specific\n",
        "#import keras\n"
      ]
    },
    {
      "cell_type": "markdown",
      "metadata": {
        "id": "dr2TkzKRnO1z"
      },
      "source": [
        "###  Load the Dataset\n",
        "\n",
        "You will use the [USA housing prices](https://www.kaggle.com/kanths028/usa-housing) dataset found on Kaggle.  The data contains the following columns:\n",
        "\n",
        "* 'Avg. Area Income': Avg. Income of residents of the city house is located in.\n",
        "* 'Avg. Area House Age': Avg Age of Houses in same city\n",
        "* 'Avg. Area Number of Rooms': Avg Number of Rooms for Houses in same city\n",
        "* 'Avg. Area Number of Bedrooms': Avg Number of Bedrooms for Houses in same city\n",
        "* 'Area Population': Population of city house is located in\n",
        "* 'Price': Price that the house sold at\n",
        "* 'Address': Address for the house"
      ]
    },
    {
      "cell_type": "code",
      "source": [
        "# Next, you read the dataset into a Pandas dataframe.\n",
        "\n",
        "url = 'https://github.com/gstripling00/introduction_to_neural_networks/blob/Datasets/Advertising_2023.csv?raw=true'\n",
        "advertising_df= pd.read_csv(url,index_col=0)"
      ],
      "metadata": {
        "id": "wSDtqpd-Dk9H"
      },
      "execution_count": 3,
      "outputs": []
    },
    {
      "cell_type": "code",
      "source": [
        "advertising_df.head()"
      ],
      "metadata": {
        "colab": {
          "base_uri": "https://localhost:8080/",
          "height": 206
        },
        "id": "Ue_jPccWnT30",
        "outputId": "a5553945-f7c7-4015-fd01-9d0a3d69eff4"
      },
      "execution_count": 4,
      "outputs": [
        {
          "output_type": "execute_result",
          "data": {
            "text/plain": [
              "   digital     TV  radio  newspaper  sales\n",
              "1   345.15  156.0   37.8       69.2   22.1\n",
              "2    66.75   46.0   39.3       45.1   10.4\n",
              "3    25.80   18.3   45.9       69.3    9.3\n",
              "4   227.25  145.1   41.3       58.5   18.5\n",
              "5   271.20  165.2   10.8       58.4   12.9"
            ],
            "text/html": [
              "\n",
              "  <div id=\"df-7705d032-a5dd-4b9a-b120-b975818dbfff\">\n",
              "    <div class=\"colab-df-container\">\n",
              "      <div>\n",
              "<style scoped>\n",
              "    .dataframe tbody tr th:only-of-type {\n",
              "        vertical-align: middle;\n",
              "    }\n",
              "\n",
              "    .dataframe tbody tr th {\n",
              "        vertical-align: top;\n",
              "    }\n",
              "\n",
              "    .dataframe thead th {\n",
              "        text-align: right;\n",
              "    }\n",
              "</style>\n",
              "<table border=\"1\" class=\"dataframe\">\n",
              "  <thead>\n",
              "    <tr style=\"text-align: right;\">\n",
              "      <th></th>\n",
              "      <th>digital</th>\n",
              "      <th>TV</th>\n",
              "      <th>radio</th>\n",
              "      <th>newspaper</th>\n",
              "      <th>sales</th>\n",
              "    </tr>\n",
              "  </thead>\n",
              "  <tbody>\n",
              "    <tr>\n",
              "      <th>1</th>\n",
              "      <td>345.15</td>\n",
              "      <td>156.0</td>\n",
              "      <td>37.8</td>\n",
              "      <td>69.2</td>\n",
              "      <td>22.1</td>\n",
              "    </tr>\n",
              "    <tr>\n",
              "      <th>2</th>\n",
              "      <td>66.75</td>\n",
              "      <td>46.0</td>\n",
              "      <td>39.3</td>\n",
              "      <td>45.1</td>\n",
              "      <td>10.4</td>\n",
              "    </tr>\n",
              "    <tr>\n",
              "      <th>3</th>\n",
              "      <td>25.80</td>\n",
              "      <td>18.3</td>\n",
              "      <td>45.9</td>\n",
              "      <td>69.3</td>\n",
              "      <td>9.3</td>\n",
              "    </tr>\n",
              "    <tr>\n",
              "      <th>4</th>\n",
              "      <td>227.25</td>\n",
              "      <td>145.1</td>\n",
              "      <td>41.3</td>\n",
              "      <td>58.5</td>\n",
              "      <td>18.5</td>\n",
              "    </tr>\n",
              "    <tr>\n",
              "      <th>5</th>\n",
              "      <td>271.20</td>\n",
              "      <td>165.2</td>\n",
              "      <td>10.8</td>\n",
              "      <td>58.4</td>\n",
              "      <td>12.9</td>\n",
              "    </tr>\n",
              "  </tbody>\n",
              "</table>\n",
              "</div>\n",
              "      <button class=\"colab-df-convert\" onclick=\"convertToInteractive('df-7705d032-a5dd-4b9a-b120-b975818dbfff')\"\n",
              "              title=\"Convert this dataframe to an interactive table.\"\n",
              "              style=\"display:none;\">\n",
              "        \n",
              "  <svg xmlns=\"http://www.w3.org/2000/svg\" height=\"24px\"viewBox=\"0 0 24 24\"\n",
              "       width=\"24px\">\n",
              "    <path d=\"M0 0h24v24H0V0z\" fill=\"none\"/>\n",
              "    <path d=\"M18.56 5.44l.94 2.06.94-2.06 2.06-.94-2.06-.94-.94-2.06-.94 2.06-2.06.94zm-11 1L8.5 8.5l.94-2.06 2.06-.94-2.06-.94L8.5 2.5l-.94 2.06-2.06.94zm10 10l.94 2.06.94-2.06 2.06-.94-2.06-.94-.94-2.06-.94 2.06-2.06.94z\"/><path d=\"M17.41 7.96l-1.37-1.37c-.4-.4-.92-.59-1.43-.59-.52 0-1.04.2-1.43.59L10.3 9.45l-7.72 7.72c-.78.78-.78 2.05 0 2.83L4 21.41c.39.39.9.59 1.41.59.51 0 1.02-.2 1.41-.59l7.78-7.78 2.81-2.81c.8-.78.8-2.07 0-2.86zM5.41 20L4 18.59l7.72-7.72 1.47 1.35L5.41 20z\"/>\n",
              "  </svg>\n",
              "      </button>\n",
              "      \n",
              "  <style>\n",
              "    .colab-df-container {\n",
              "      display:flex;\n",
              "      flex-wrap:wrap;\n",
              "      gap: 12px;\n",
              "    }\n",
              "\n",
              "    .colab-df-convert {\n",
              "      background-color: #E8F0FE;\n",
              "      border: none;\n",
              "      border-radius: 50%;\n",
              "      cursor: pointer;\n",
              "      display: none;\n",
              "      fill: #1967D2;\n",
              "      height: 32px;\n",
              "      padding: 0 0 0 0;\n",
              "      width: 32px;\n",
              "    }\n",
              "\n",
              "    .colab-df-convert:hover {\n",
              "      background-color: #E2EBFA;\n",
              "      box-shadow: 0px 1px 2px rgba(60, 64, 67, 0.3), 0px 1px 3px 1px rgba(60, 64, 67, 0.15);\n",
              "      fill: #174EA6;\n",
              "    }\n",
              "\n",
              "    [theme=dark] .colab-df-convert {\n",
              "      background-color: #3B4455;\n",
              "      fill: #D2E3FC;\n",
              "    }\n",
              "\n",
              "    [theme=dark] .colab-df-convert:hover {\n",
              "      background-color: #434B5C;\n",
              "      box-shadow: 0px 1px 3px 1px rgba(0, 0, 0, 0.15);\n",
              "      filter: drop-shadow(0px 1px 2px rgba(0, 0, 0, 0.3));\n",
              "      fill: #FFFFFF;\n",
              "    }\n",
              "  </style>\n",
              "\n",
              "      <script>\n",
              "        const buttonEl =\n",
              "          document.querySelector('#df-7705d032-a5dd-4b9a-b120-b975818dbfff button.colab-df-convert');\n",
              "        buttonEl.style.display =\n",
              "          google.colab.kernel.accessAllowed ? 'block' : 'none';\n",
              "\n",
              "        async function convertToInteractive(key) {\n",
              "          const element = document.querySelector('#df-7705d032-a5dd-4b9a-b120-b975818dbfff');\n",
              "          const dataTable =\n",
              "            await google.colab.kernel.invokeFunction('convertToInteractive',\n",
              "                                                     [key], {});\n",
              "          if (!dataTable) return;\n",
              "\n",
              "          const docLinkHtml = 'Like what you see? Visit the ' +\n",
              "            '<a target=\"_blank\" href=https://colab.research.google.com/notebooks/data_table.ipynb>data table notebook</a>'\n",
              "            + ' to learn more about interactive tables.';\n",
              "          element.innerHTML = '';\n",
              "          dataTable['output_type'] = 'display_data';\n",
              "          await google.colab.output.renderOutput(dataTable, element);\n",
              "          const docLink = document.createElement('div');\n",
              "          docLink.innerHTML = docLinkHtml;\n",
              "          element.appendChild(docLink);\n",
              "        }\n",
              "      </script>\n",
              "    </div>\n",
              "  </div>\n",
              "  "
            ]
          },
          "metadata": {},
          "execution_count": 4
        }
      ]
    },
    {
      "cell_type": "code",
      "source": [
        "# Pandas info() function is used to get a concise summary of the dataframe.\n",
        "advertising_df.info()"
      ],
      "metadata": {
        "colab": {
          "base_uri": "https://localhost:8080/"
        },
        "id": "coiKjFmcnaHU",
        "outputId": "e0317103-ba60-47c8-8b70-e58c2c686c69"
      },
      "execution_count": 5,
      "outputs": [
        {
          "output_type": "stream",
          "name": "stdout",
          "text": [
            "<class 'pandas.core.frame.DataFrame'>\n",
            "Int64Index: 1199 entries, 1 to 1197\n",
            "Data columns (total 5 columns):\n",
            " #   Column     Non-Null Count  Dtype  \n",
            "---  ------     --------------  -----  \n",
            " 0   digital    1199 non-null   float64\n",
            " 1   TV         1199 non-null   float64\n",
            " 2   radio      1199 non-null   float64\n",
            " 3   newspaper  1199 non-null   float64\n",
            " 4   sales      1199 non-null   float64\n",
            "dtypes: float64(5)\n",
            "memory usage: 56.2 KB\n"
          ]
        }
      ]
    },
    {
      "cell_type": "code",
      "source": [
        "'''====== Data Exploration and Preprocessing ======'''\n",
        "\n",
        "#shape of dataframe - 1199 rows, five columns\n",
        "advertising_df.shape"
      ],
      "metadata": {
        "colab": {
          "base_uri": "https://localhost:8080/"
        },
        "id": "IzyfOhGaEzlL",
        "outputId": "3d9ce73d-bfdf-4076-f309-bdb1249b031c"
      },
      "execution_count": 7,
      "outputs": [
        {
          "output_type": "execute_result",
          "data": {
            "text/plain": [
              "(1199, 5)"
            ]
          },
          "metadata": {},
          "execution_count": 7
        }
      ]
    },
    {
      "cell_type": "markdown",
      "metadata": {
        "id": "6nNrSEBnBk71"
      },
      "source": [
        "Let's check for any null values."
      ]
    },
    {
      "cell_type": "code",
      "execution_count": 8,
      "metadata": {
        "colab": {
          "base_uri": "https://localhost:8080/"
        },
        "id": "P7gHdfMdBk71",
        "outputId": "37500e16-28cb-40e0-aa9c-8b23c0db9922"
      },
      "outputs": [
        {
          "output_type": "execute_result",
          "data": {
            "text/plain": [
              "digital      0\n",
              "TV           0\n",
              "radio        0\n",
              "newspaper    0\n",
              "sales        0\n",
              "dtype: int64"
            ]
          },
          "metadata": {},
          "execution_count": 8
        }
      ],
      "source": [
        "# The isnull() method is used to check and manage NULL values in a data frame.\n",
        "advertising_df.isnull().sum()"
      ]
    },
    {
      "cell_type": "code",
      "source": [
        "#check there are any NAN values\n",
        "advertising_df.isnull().values.any()"
      ],
      "metadata": {
        "colab": {
          "base_uri": "https://localhost:8080/"
        },
        "id": "hGbU2YpwFBIC",
        "outputId": "d7d7d97c-a561-4f3e-89ee-c5fc4a54ef56"
      },
      "execution_count": 9,
      "outputs": [
        {
          "output_type": "execute_result",
          "data": {
            "text/plain": [
              "False"
            ]
          },
          "metadata": {},
          "execution_count": 9
        }
      ]
    },
    {
      "cell_type": "code",
      "source": [
        "'''=== show the statistics analysis of each attributes ==='''\n",
        "\n",
        "#descriptive statistics \n",
        "advertising_df.describe()"
      ],
      "metadata": {
        "colab": {
          "base_uri": "https://localhost:8080/",
          "height": 300
        },
        "id": "tjdWVA7lFQe0",
        "outputId": "7b983215-f150-4094-cbe4-348322fb4cc3"
      },
      "execution_count": 10,
      "outputs": [
        {
          "output_type": "execute_result",
          "data": {
            "text/plain": [
              "           digital          TV        radio    newspaper        sales\n",
              "count  1199.000000  1199.00000  1199.000000  1199.000000  1199.000000\n",
              "mean    135.472394   146.61985    23.240617    30.529942    14.005505\n",
              "std     135.730821    85.61047    14.820827    21.712507     5.202804\n",
              "min       0.300000     0.70000     0.000000     0.300000     1.600000\n",
              "25%      24.250000    73.40000     9.950000    12.800000    10.300000\n",
              "50%      64.650000   149.70000    22.500000    25.600000    12.900000\n",
              "75%     256.950000   218.50000    36.500000    45.100000    17.400000\n",
              "max     444.600000   296.40000    49.600000   114.000000    27.000000"
            ],
            "text/html": [
              "\n",
              "  <div id=\"df-2ee87d16-64b9-49a2-aa92-b4a8d9071827\">\n",
              "    <div class=\"colab-df-container\">\n",
              "      <div>\n",
              "<style scoped>\n",
              "    .dataframe tbody tr th:only-of-type {\n",
              "        vertical-align: middle;\n",
              "    }\n",
              "\n",
              "    .dataframe tbody tr th {\n",
              "        vertical-align: top;\n",
              "    }\n",
              "\n",
              "    .dataframe thead th {\n",
              "        text-align: right;\n",
              "    }\n",
              "</style>\n",
              "<table border=\"1\" class=\"dataframe\">\n",
              "  <thead>\n",
              "    <tr style=\"text-align: right;\">\n",
              "      <th></th>\n",
              "      <th>digital</th>\n",
              "      <th>TV</th>\n",
              "      <th>radio</th>\n",
              "      <th>newspaper</th>\n",
              "      <th>sales</th>\n",
              "    </tr>\n",
              "  </thead>\n",
              "  <tbody>\n",
              "    <tr>\n",
              "      <th>count</th>\n",
              "      <td>1199.000000</td>\n",
              "      <td>1199.00000</td>\n",
              "      <td>1199.000000</td>\n",
              "      <td>1199.000000</td>\n",
              "      <td>1199.000000</td>\n",
              "    </tr>\n",
              "    <tr>\n",
              "      <th>mean</th>\n",
              "      <td>135.472394</td>\n",
              "      <td>146.61985</td>\n",
              "      <td>23.240617</td>\n",
              "      <td>30.529942</td>\n",
              "      <td>14.005505</td>\n",
              "    </tr>\n",
              "    <tr>\n",
              "      <th>std</th>\n",
              "      <td>135.730821</td>\n",
              "      <td>85.61047</td>\n",
              "      <td>14.820827</td>\n",
              "      <td>21.712507</td>\n",
              "      <td>5.202804</td>\n",
              "    </tr>\n",
              "    <tr>\n",
              "      <th>min</th>\n",
              "      <td>0.300000</td>\n",
              "      <td>0.70000</td>\n",
              "      <td>0.000000</td>\n",
              "      <td>0.300000</td>\n",
              "      <td>1.600000</td>\n",
              "    </tr>\n",
              "    <tr>\n",
              "      <th>25%</th>\n",
              "      <td>24.250000</td>\n",
              "      <td>73.40000</td>\n",
              "      <td>9.950000</td>\n",
              "      <td>12.800000</td>\n",
              "      <td>10.300000</td>\n",
              "    </tr>\n",
              "    <tr>\n",
              "      <th>50%</th>\n",
              "      <td>64.650000</td>\n",
              "      <td>149.70000</td>\n",
              "      <td>22.500000</td>\n",
              "      <td>25.600000</td>\n",
              "      <td>12.900000</td>\n",
              "    </tr>\n",
              "    <tr>\n",
              "      <th>75%</th>\n",
              "      <td>256.950000</td>\n",
              "      <td>218.50000</td>\n",
              "      <td>36.500000</td>\n",
              "      <td>45.100000</td>\n",
              "      <td>17.400000</td>\n",
              "    </tr>\n",
              "    <tr>\n",
              "      <th>max</th>\n",
              "      <td>444.600000</td>\n",
              "      <td>296.40000</td>\n",
              "      <td>49.600000</td>\n",
              "      <td>114.000000</td>\n",
              "      <td>27.000000</td>\n",
              "    </tr>\n",
              "  </tbody>\n",
              "</table>\n",
              "</div>\n",
              "      <button class=\"colab-df-convert\" onclick=\"convertToInteractive('df-2ee87d16-64b9-49a2-aa92-b4a8d9071827')\"\n",
              "              title=\"Convert this dataframe to an interactive table.\"\n",
              "              style=\"display:none;\">\n",
              "        \n",
              "  <svg xmlns=\"http://www.w3.org/2000/svg\" height=\"24px\"viewBox=\"0 0 24 24\"\n",
              "       width=\"24px\">\n",
              "    <path d=\"M0 0h24v24H0V0z\" fill=\"none\"/>\n",
              "    <path d=\"M18.56 5.44l.94 2.06.94-2.06 2.06-.94-2.06-.94-.94-2.06-.94 2.06-2.06.94zm-11 1L8.5 8.5l.94-2.06 2.06-.94-2.06-.94L8.5 2.5l-.94 2.06-2.06.94zm10 10l.94 2.06.94-2.06 2.06-.94-2.06-.94-.94-2.06-.94 2.06-2.06.94z\"/><path d=\"M17.41 7.96l-1.37-1.37c-.4-.4-.92-.59-1.43-.59-.52 0-1.04.2-1.43.59L10.3 9.45l-7.72 7.72c-.78.78-.78 2.05 0 2.83L4 21.41c.39.39.9.59 1.41.59.51 0 1.02-.2 1.41-.59l7.78-7.78 2.81-2.81c.8-.78.8-2.07 0-2.86zM5.41 20L4 18.59l7.72-7.72 1.47 1.35L5.41 20z\"/>\n",
              "  </svg>\n",
              "      </button>\n",
              "      \n",
              "  <style>\n",
              "    .colab-df-container {\n",
              "      display:flex;\n",
              "      flex-wrap:wrap;\n",
              "      gap: 12px;\n",
              "    }\n",
              "\n",
              "    .colab-df-convert {\n",
              "      background-color: #E8F0FE;\n",
              "      border: none;\n",
              "      border-radius: 50%;\n",
              "      cursor: pointer;\n",
              "      display: none;\n",
              "      fill: #1967D2;\n",
              "      height: 32px;\n",
              "      padding: 0 0 0 0;\n",
              "      width: 32px;\n",
              "    }\n",
              "\n",
              "    .colab-df-convert:hover {\n",
              "      background-color: #E2EBFA;\n",
              "      box-shadow: 0px 1px 2px rgba(60, 64, 67, 0.3), 0px 1px 3px 1px rgba(60, 64, 67, 0.15);\n",
              "      fill: #174EA6;\n",
              "    }\n",
              "\n",
              "    [theme=dark] .colab-df-convert {\n",
              "      background-color: #3B4455;\n",
              "      fill: #D2E3FC;\n",
              "    }\n",
              "\n",
              "    [theme=dark] .colab-df-convert:hover {\n",
              "      background-color: #434B5C;\n",
              "      box-shadow: 0px 1px 3px 1px rgba(0, 0, 0, 0.15);\n",
              "      filter: drop-shadow(0px 1px 2px rgba(0, 0, 0, 0.3));\n",
              "      fill: #FFFFFF;\n",
              "    }\n",
              "  </style>\n",
              "\n",
              "      <script>\n",
              "        const buttonEl =\n",
              "          document.querySelector('#df-2ee87d16-64b9-49a2-aa92-b4a8d9071827 button.colab-df-convert');\n",
              "        buttonEl.style.display =\n",
              "          google.colab.kernel.accessAllowed ? 'block' : 'none';\n",
              "\n",
              "        async function convertToInteractive(key) {\n",
              "          const element = document.querySelector('#df-2ee87d16-64b9-49a2-aa92-b4a8d9071827');\n",
              "          const dataTable =\n",
              "            await google.colab.kernel.invokeFunction('convertToInteractive',\n",
              "                                                     [key], {});\n",
              "          if (!dataTable) return;\n",
              "\n",
              "          const docLinkHtml = 'Like what you see? Visit the ' +\n",
              "            '<a target=\"_blank\" href=https://colab.research.google.com/notebooks/data_table.ipynb>data table notebook</a>'\n",
              "            + ' to learn more about interactive tables.';\n",
              "          element.innerHTML = '';\n",
              "          dataTable['output_type'] = 'display_data';\n",
              "          await google.colab.output.renderOutput(dataTable, element);\n",
              "          const docLink = document.createElement('div');\n",
              "          docLink.innerHTML = docLinkHtml;\n",
              "          element.appendChild(docLink);\n",
              "        }\n",
              "      </script>\n",
              "    </div>\n",
              "  </div>\n",
              "  "
            ]
          },
          "metadata": {},
          "execution_count": 10
        }
      ]
    },
    {
      "cell_type": "markdown",
      "metadata": {
        "id": "QWVdsrmgnO1_"
      },
      "source": [
        "## Exploratory Data Analysis (EDA)\n",
        "\n",
        "Let's create some simple plots to check out the data!  "
      ]
    },
    {
      "cell_type": "code",
      "source": [
        "# The heatmap is a way of representing the data in a 2-dimensional form. The data values are represented as colors in the graph.\n",
        "# The goal of the heatmap is to provide a colored visual summary of information.\n",
        "sns.heatmap(advertising_df.corr()) "
      ],
      "metadata": {
        "colab": {
          "base_uri": "https://localhost:8080/",
          "height": 286
        },
        "id": "qqsAMR1rov7F",
        "outputId": "193de5a0-4b31-4f09-c93c-5f8177d4248e"
      },
      "execution_count": 11,
      "outputs": [
        {
          "output_type": "execute_result",
          "data": {
            "text/plain": [
              "<Axes: >"
            ]
          },
          "metadata": {},
          "execution_count": 11
        },
        {
          "output_type": "display_data",
          "data": {
            "text/plain": [
              "<Figure size 432x288 with 2 Axes>"
            ],
            "image/png": "[encoded data removed]"
          },
          "metadata": {
            "needs_background": "light"
          }
        }
      ]
    },
    {
      "cell_type": "code",
      "source": [
        "## Another option is to plot the heatmap so that the values are shown.\n",
        "\n",
        "plt.figure(figsize=(10,5))\n",
        "sns.heatmap(advertising_df.corr(),annot=True,vmin=0,vmax=1,cmap='ocean')\n"
      ],
      "metadata": {
        "colab": {
          "base_uri": "https://localhost:8080/",
          "height": 341
        },
        "id": "i8bsyyVPm13-",
        "outputId": "ffc82c97-f315-49d5-f642-e52d91ff6cd1"
      },
      "execution_count": 12,
      "outputs": [
        {
          "output_type": "execute_result",
          "data": {
            "text/plain": [
              "<Axes: >"
            ]
          },
          "metadata": {},
          "execution_count": 12
        },
        {
          "output_type": "display_data",
          "data": {
            "text/plain": [
              "<Figure size 720x360 with 2 Axes>"
            ],
            "image/png": "[encoded data removed]"
          },
          "metadata": {
            "needs_background": "light"
          }
        }
      ]
    },
    {
      "cell_type": "code",
      "execution_count": 13,
      "metadata": {
        "colab": {
          "base_uri": "https://localhost:8080/",
          "height": 386
        },
        "id": "SOsTLClWnO2B",
        "outputId": "2ebef41b-fa4b-4c12-9038-aa32112ee326"
      },
      "outputs": [
        {
          "output_type": "execute_result",
          "data": {
            "text/plain": [
              "<seaborn.axisgrid.FacetGrid at 0x7fa06e762df0>"
            ]
          },
          "metadata": {},
          "execution_count": 13
        },
        {
          "output_type": "display_data",
          "data": {
            "text/plain": [
              "<Figure size 360x360 with 1 Axes>"
            ],
            "image/png": "[encoded data removed]"
          },
          "metadata": {
            "needs_background": "light"
          }
        }
      ],
      "source": [
        "# It is used basically for univariant set of observations and visualizes it through a histogram i.e. only one observation\n",
        "# and hence you choose one particular column of the dataset.\n",
        "sns.displot(advertising_df['sales'])"
      ]
    },
    {
      "cell_type": "code",
      "source": [
        "'''=== Show the linear relationship between features  and price. Thus, it provides that how the scattered \n",
        "      they are and which features has more impact in prediction of house price. ==='''\n",
        "\n",
        "# visiualize all variables  with sales\n",
        "from scipy import stats\n",
        "#creates figure\n",
        "plt.figure(figsize=(18, 18))\n",
        "\n",
        "for i, col in enumerate(advertising_df.columns[0:13]): #iterates over all columns except for price column (last one)\n",
        "    plt.subplot(5, 3, i+1) # each row three figure\n",
        "    x = advertising_df[col] #x-axis\n",
        "    y = advertising_df['sales'] #y-axis\n",
        "    plt.plot(x, y, 'o')\n",
        "    \n",
        "    # Create regression line\n",
        "    plt.plot(np.unique(x), np.poly1d(np.polyfit(x, y, 1)) (np.unique(x)), color='red')\n",
        "    plt.xlabel(col) # x-label\n",
        "    plt.ylabel('sales') # y-label\n",
        "    "
      ],
      "metadata": {
        "colab": {
          "base_uri": "https://localhost:8080/",
          "height": 390
        },
        "id": "otYqhhMapHhY",
        "outputId": "52269b29-fe8d-4dbe-857e-427e81074fd3"
      },
      "execution_count": 14,
      "outputs": [
        {
          "output_type": "display_data",
          "data": {
            "text/plain": [
              "<Figure size 1296x1296 with 5 Axes>"
            ],
            "image/png": "[encoded data removed]"
          },
          "metadata": {
            "needs_background": "light"
          }
        }
      ]
    },
    {
      "cell_type": "markdown",
      "metadata": {
        "id": "OIPKB4hanO2F"
      },
      "source": [
        "## Training a Linear Regression Model\n",
        "\n",
        "Regression is a supervised machine learning process.  It is similar to classification, but rather than predicting a label, you try to predict a continuous value.   Linear regression defines the relationship between a target variable (y) and a set of predictive features (x).  Simply stated, If you need to predict a number, then use regression. \n",
        "\n",
        "Let's now begin to train your regression model! You will need to first split up your data into an X array that contains the features to train on, and a y array with the target variable, in this case the Price column. You will toss out the Address column because it only has text info that the linear regression model can't use."
      ]
    },
    {
      "cell_type": "markdown",
      "metadata": {
        "id": "l0NjRPeFBk74"
      },
      "source": [
        "### X (features) and y (target) arrays\n",
        "\n",
        "Next, let's define the features and label.  Briefly, feature is input; label is output. This applies to both classification and regression problems."
      ]
    },
    {
      "cell_type": "code",
      "execution_count": 15,
      "metadata": {
        "id": "ZEEGuBAnnO2F"
      },
      "outputs": [],
      "source": [
        "X = advertising_df[['digital', 'TV', 'radio', 'newspaper']]\n",
        "y = advertising_df['sales']"
      ]
    },
    {
      "cell_type": "code",
      "source": [
        "'''=== Noramlization the features. Since it is seen that features have different ranges, it is best practice to\n",
        "normalize/standarize the feature before using them in the model ==='''\n",
        "\n",
        "#feature normalization\n",
        "normalized_feature =  keras.utils.normalize(X.values)\n",
        "print(normalized_feature)"
      ],
      "metadata": {
        "id": "hVOPQyd2HtxP",
        "outputId": "14be5068-64af-482e-d366-392cfce84f48",
        "colab": {
          "base_uri": "https://localhost:8080/"
        }
      },
      "execution_count": 16,
      "outputs": [
        {
          "output_type": "stream",
          "name": "stdout",
          "text": [
            "[[0.89211961 0.4032179  0.0977028  0.17886333]\n",
            " [0.66254734 0.45658693 0.39008405 0.44765371]\n",
            " [0.29009225 0.20576311 0.51609436 0.77920128]\n",
            " ...\n",
            " [0.06744611 0.99272247 0.05163843 0.08536149]\n",
            " [0.19480049 0.91868871 0.08898294 0.33188231]\n",
            " [0.06744611 0.99272247 0.05163843 0.08536149]]\n"
          ]
        }
      ]
    },
    {
      "cell_type": "markdown",
      "metadata": {
        "id": "X97FWdDOnO2H"
      },
      "source": [
        "## Train - Test - Split\n",
        "\n",
        "Now let's split the data into a training, validation, and test set XXXXXXXXx\n",
        "\n"
      ]
    },
    {
      "cell_type": "code",
      "execution_count": 17,
      "metadata": {
        "id": "fS99Llq8nO2J"
      },
      "outputs": [],
      "source": [
        "# Import train_test_split function from sklearn.model_selection\n",
        "from sklearn.model_selection import train_test_split\n",
        "\n",
        "# Split up the data into a training set\n",
        "X_train, X_test, y_train, y_test = train_test_split(X, y, test_size=0.4, random_state=101)"
      ]
    },
    {
      "cell_type": "markdown",
      "source": [
        "Now, we need to output the split files. We will specifically need the test.csv later for testing. You should see the files appear in the home directory under sample data."
      ],
      "metadata": {
        "id": "uRj2wlh_xQOX"
      }
    },
    {
      "cell_type": "code",
      "source": [
        "X_train.to_csv('/content/sample_data/adv-train.csv', encoding='utf-8', index=False)"
      ],
      "metadata": {
        "id": "QhdtrqCmxPm6"
      },
      "execution_count": 15,
      "outputs": []
    },
    {
      "cell_type": "code",
      "source": [
        "X_test.to_csv('/content/sample_data/adv-test.csv', encoding='utf-8', index=False)"
      ],
      "metadata": {
        "id": "97htYK6vxeaQ"
      },
      "execution_count": 16,
      "outputs": []
    },
    {
      "cell_type": "markdown",
      "source": [
        "# Building our network\n",
        "Because so few samples are available, we will be using a very small network with two hidden layers, each with 64 units. In general, the less training data you have, the worse overfitting will be, and using a small network is one way to mitigate overfitting."
      ],
      "metadata": {
        "id": "mdc8pL4TIb9k"
      }
    },
    {
      "cell_type": "code",
      "source": [
        "## Build the model\n",
        "model = Sequential()\n",
        "model.add(Dense(4,activation='relu')) \n",
        "model.add(Dense(3,activation='relu'))\n",
        "model.add(Dense(1))\n",
        "\n",
        "\n",
        "## Compile the Model Compilation - Before training a model, you need to configure the learning process, which is done via the compile method. It receives three arguments\n",
        "# for a mean squared error regression problem\n",
        "\n",
        "#model.compile(loss= \"mean_squared_error\" , \n",
        "              #optimizer=\"adam\", \n",
        "              #metrics=[\"mean_squared_error\"])\n",
        "\n",
        "#compile model\n",
        "model.compile(loss='mse', optimizer='adam', metrics=['mae']) # use metric as mean absolute error\n",
        "\n",
        "#inspect the model\n",
        "#model.summary()\n",
        "\n",
        "history = model.fit(\n",
        "    X_train, y_train,\n",
        "    validation_data = (X_test, y_test),\n",
        "    epochs = 32\n",
        ")"
      ],
      "metadata": {
        "id": "K-_Vage0th27",
        "colab": {
          "base_uri": "https://localhost:8080/"
        },
        "outputId": "c1dccfd8-3dfe-47b0-fa41-cada9a2283aa"
      },
      "execution_count": 17,
      "outputs": [
        {
          "output_type": "stream",
          "name": "stdout",
          "text": [
            "Epoch 1/32\n",
            "23/23 [==============================] - 2s 22ms/step - loss: 8689.5332 - mae: 80.4131 - val_loss: 6973.6406 - val_mae: 71.6802\n",
            "Epoch 2/32\n",
            "23/23 [==============================] - 0s 10ms/step - loss: 5374.7212 - mae: 62.7023 - val_loss: 4355.5361 - val_mae: 56.2837\n",
            "Epoch 3/32\n",
            "23/23 [==============================] - 0s 9ms/step - loss: 3440.4778 - mae: 49.8962 - val_loss: 2857.0474 - val_mae: 45.3804\n",
            "Epoch 4/32\n",
            "23/23 [==============================] - 0s 9ms/step - loss: 2296.4792 - mae: 40.6287 - val_loss: 1952.8998 - val_mae: 37.3711\n",
            "Epoch 5/32\n",
            "23/23 [==============================] - 0s 9ms/step - loss: 1590.7534 - mae: 33.7231 - val_loss: 1385.1990 - val_mae: 31.3772\n",
            "Epoch 6/32\n",
            "23/23 [==============================] - 0s 11ms/step - loss: 1143.1039 - mae: 28.5177 - val_loss: 1000.2090 - val_mae: 26.5722\n",
            "Epoch 7/32\n",
            "23/23 [==============================] - 0s 6ms/step - loss: 837.6332 - mae: 24.3511 - val_loss: 743.7238 - val_mae: 22.8250\n",
            "Epoch 8/32\n",
            "23/23 [==============================] - 0s 14ms/step - loss: 628.7428 - mae: 21.0178 - val_loss: 557.6727 - val_mae: 19.6657\n",
            "Epoch 9/32\n",
            "23/23 [==============================] - 0s 8ms/step - loss: 476.1472 - mae: 18.2404 - val_loss: 425.1719 - val_mae: 17.0708\n",
            "Epoch 10/32\n",
            "23/23 [==============================] - 0s 10ms/step - loss: 367.2396 - mae: 15.9253 - val_loss: 328.4721 - val_mae: 14.8998\n",
            "Epoch 11/32\n",
            "23/23 [==============================] - 0s 9ms/step - loss: 285.7091 - mae: 13.9763 - val_loss: 256.2069 - val_mae: 13.0664\n",
            "Epoch 12/32\n",
            "23/23 [==============================] - 0s 8ms/step - loss: 224.9147 - mae: 12.3246 - val_loss: 201.8078 - val_mae: 11.5401\n",
            "Epoch 13/32\n",
            "23/23 [==============================] - 0s 8ms/step - loss: 179.2881 - mae: 10.9371 - val_loss: 161.6202 - val_mae: 10.2567\n",
            "Epoch 14/32\n",
            "23/23 [==============================] - 0s 13ms/step - loss: 145.2926 - mae: 9.7678 - val_loss: 131.1131 - val_mae: 9.1759\n",
            "Epoch 15/32\n",
            "23/23 [==============================] - 0s 9ms/step - loss: 119.5438 - mae: 8.7763 - val_loss: 107.9772 - val_mae: 8.2655\n",
            "Epoch 16/32\n",
            "23/23 [==============================] - 0s 12ms/step - loss: 100.2232 - mae: 7.9390 - val_loss: 90.7449 - val_mae: 7.5066\n",
            "Epoch 17/32\n",
            "23/23 [==============================] - 0s 12ms/step - loss: 85.7229 - mae: 7.2410 - val_loss: 77.8625 - val_mae: 6.8991\n",
            "Epoch 18/32\n",
            "23/23 [==============================] - 0s 7ms/step - loss: 74.5370 - mae: 6.6738 - val_loss: 67.5061 - val_mae: 6.3791\n",
            "Epoch 19/32\n",
            "23/23 [==============================] - 0s 7ms/step - loss: 65.4585 - mae: 6.1786 - val_loss: 59.0651 - val_mae: 5.9227\n",
            "Epoch 20/32\n",
            "23/23 [==============================] - 0s 12ms/step - loss: 58.0885 - mae: 5.7583 - val_loss: 52.3175 - val_mae: 5.5344\n",
            "Epoch 21/32\n",
            "23/23 [==============================] - 0s 6ms/step - loss: 52.1556 - mae: 5.3974 - val_loss: 46.7895 - val_mae: 5.1948\n",
            "Epoch 22/32\n",
            "23/23 [==============================] - 0s 8ms/step - loss: 47.2628 - mae: 5.0820 - val_loss: 42.2853 - val_mae: 4.8988\n",
            "Epoch 23/32\n",
            "23/23 [==============================] - 0s 8ms/step - loss: 43.2259 - mae: 4.7995 - val_loss: 38.6093 - val_mae: 4.6417\n",
            "Epoch 24/32\n",
            "23/23 [==============================] - 0s 12ms/step - loss: 39.9596 - mae: 4.5603 - val_loss: 35.4635 - val_mae: 4.4149\n",
            "Epoch 25/32\n",
            "23/23 [==============================] - 0s 12ms/step - loss: 37.0555 - mae: 4.3492 - val_loss: 33.0644 - val_mae: 4.2345\n",
            "Epoch 26/32\n",
            "23/23 [==============================] - 0s 7ms/step - loss: 34.7705 - mae: 4.1753 - val_loss: 30.8511 - val_mae: 4.0600\n",
            "Epoch 27/32\n",
            "23/23 [==============================] - 0s 13ms/step - loss: 32.7254 - mae: 4.0062 - val_loss: 29.0534 - val_mae: 3.9119\n",
            "Epoch 28/32\n",
            "23/23 [==============================] - 0s 8ms/step - loss: 31.0757 - mae: 3.8697 - val_loss: 27.5013 - val_mae: 3.7799\n",
            "Epoch 29/32\n",
            "23/23 [==============================] - 0s 8ms/step - loss: 29.6152 - mae: 3.7415 - val_loss: 26.2382 - val_mae: 3.6650\n",
            "Epoch 30/32\n",
            "23/23 [==============================] - 0s 7ms/step - loss: 28.4009 - mae: 3.6340 - val_loss: 25.1473 - val_mae: 3.5628\n",
            "Epoch 31/32\n",
            "23/23 [==============================] - 0s 10ms/step - loss: 27.3517 - mae: 3.5350 - val_loss: 24.2365 - val_mae: 3.4763\n",
            "Epoch 32/32\n",
            "23/23 [==============================] - 0s 9ms/step - loss: 26.4421 - mae: 3.4446 - val_loss: 23.4442 - val_mae: 3.3968\n"
          ]
        }
      ]
    },
    {
      "cell_type": "code",
      "source": [
        "# show the graph of model loss in trainig and validation \n",
        "\n",
        "plt.figure(figsize=(15,8))\n",
        "plt.xlabel('Epoch')\n",
        "plt.ylabel('Mean Square Error')\n",
        "plt.plot(history.epoch, history.history['loss'],\n",
        "           label='Train Loss')\n",
        "plt.plot(history.epoch, history.history['val_loss'],\n",
        "           label = 'Val loss')\n",
        "plt.title('Model loss')\n",
        "plt.legend()\n",
        "\n",
        "## TALK ABOUT CONVERGENCE"
      ],
      "metadata": {
        "colab": {
          "base_uri": "https://localhost:8080/",
          "height": 530
        },
        "id": "U4qtAhNftJJN",
        "outputId": "0529f945-e773-4cf4-803d-bfe2e399aac3"
      },
      "execution_count": 18,
      "outputs": [
        {
          "output_type": "execute_result",
          "data": {
            "text/plain": [
              "<matplotlib.legend.Legend at 0x7fa7365cdb50>"
            ]
          },
          "metadata": {},
          "execution_count": 18
        },
        {
          "output_type": "display_data",
          "data": {
            "text/plain": [
              "<Figure size 1080x576 with 1 Axes>"
            ],
            "image/png": "[encoded data removed]"
          },
          "metadata": {
            "needs_background": "light"
          }
        }
      ]
    },
    {
      "cell_type": "code",
      "source": [
        "# Use matplotlib to draw the model's loss curves for training and validation\n",
        "def plot_curves(history, metrics):\n",
        "    nrows = 1\n",
        "    ncols = 2\n",
        "    fig = plt.figure(figsize=(10, 5))\n",
        "\n",
        "    for idx, key in enumerate(metrics):  \n",
        "        ax = fig.add_subplot(nrows, ncols, idx+1)\n",
        "        plt.plot(history.history[key])\n",
        "        plt.plot(history.history['val_{}'.format(key)])\n",
        "        plt.title('model {}'.format(key))\n",
        "        plt.ylabel(key)\n",
        "        plt.xlabel('epoch')\n",
        "        plt.legend(['train', 'validation'], loc='upper left');  "
      ],
      "metadata": {
        "id": "M5HDao7etJL1"
      },
      "execution_count": 19,
      "outputs": []
    },
    {
      "cell_type": "code",
      "source": [
        "plot_curves(history, ['loss', 'mae'])"
      ],
      "metadata": {
        "colab": {
          "base_uri": "https://localhost:8080/",
          "height": 350
        },
        "id": "siWyTZDJtJPE",
        "outputId": "6a5d2796-1bd5-4e66-f6b0-dc65c7033928"
      },
      "execution_count": 20,
      "outputs": [
        {
          "output_type": "display_data",
          "data": {
            "text/plain": [
              "<Figure size 720x360 with 2 Axes>"
            ],
            "image/png": "[encoded data removed]"
          },
          "metadata": {
            "needs_background": "light"
          }
        }
      ]
    },
    {
      "cell_type": "code",
      "source": [
        "'''=== predict the SALES =='''\n",
        "\n",
        "# predict SALES using the test data \n",
        "test_predictions = model.predict(X_test).flatten()\n",
        "print(test_predictions)\n"
      ],
      "metadata": {
        "colab": {
          "base_uri": "https://localhost:8080/"
        },
        "id": "p75QVFqwBwmk",
        "outputId": "d8d0c452-98c5-4ba3-fc02-1eb8225fdc5e"
      },
      "execution_count": 21,
      "outputs": [
        {
          "output_type": "stream",
          "name": "stdout",
          "text": [
            "15/15 [==============================] - 0s 3ms/step\n",
            "[26.789925  15.049367  20.067823  23.18337   17.776936  31.106901\n",
            " 13.374514  14.748987  14.123255  12.901587   6.0975666 16.375881\n",
            " 12.7635    12.641687  14.326943   7.916748  26.191452  14.215786\n",
            "  7.050012  18.5368    25.697254   5.9589424 12.916978  14.178512\n",
            "  7.6256037  4.259879  15.849777  14.265251  13.031542   9.915696\n",
            " 15.92128   10.911242  23.284908  18.120935  31.260395  37.317078\n",
            " 27.203712  24.621649  12.506098  12.620357  25.25353   10.309524\n",
            "  7.500252  16.20245   15.933886  10.149846  11.759074  27.203712\n",
            " 13.106961   8.979227  14.146557  14.326943  12.256336  13.353268\n",
            "  4.045974  21.245491  16.735012  19.494846  11.913572  13.713219\n",
            " 12.42844   16.703432  11.567942  15.457317  11.683344  14.210796\n",
            " 12.417122  23.79809    8.663316  25.12542    5.6815877 16.078566\n",
            "  7.794796  16.638126  23.595818  15.273891  19.354053  13.057198\n",
            " 10.911242  25.485262  14.78573   22.347694  15.051347  16.787441\n",
            " 14.434624  25.726326  10.391446  13.968866   4.448567  11.96739\n",
            " 17.233582   9.915696  12.885305  10.473808   8.54514   22.758213\n",
            "  6.738419  23.18337   24.43169   12.954363   7.133654  14.725653\n",
            " 10.263143  16.929577  27.335148  25.12542   10.114323   6.778162\n",
            "  9.153477  12.48649   12.916978   8.522731  11.1898    20.111116\n",
            " 18.840366  17.267153   7.133654  24.043999  29.30572   10.591025\n",
            " 10.911242  25.723186  22.347694   7.3949966 24.224262  22.170973\n",
            " 20.550198   6.5511036  7.492157  21.195982  11.056288   7.050012\n",
            " 22.005596  17.858767  16.983624  23.661942   6.883421  16.915497\n",
            " 15.032963  23.518166   6.5511036 23.595818  16.095482  16.735012\n",
            "  6.738419   4.6972504 12.008308  24.49305    6.236357  19.035864\n",
            " 14.215786  12.087977   9.791874  16.219797  28.5374    12.087977\n",
            " 23.595818  12.226715  23.125671  10.044247  17.267153  12.901587\n",
            " 19.511528  27.335148   5.422741  22.513977  13.5173645  4.101647\n",
            " 13.825826  12.891172  23.205227   9.542076  24.601448  23.769905\n",
            "  8.979227  12.901587  22.75203   26.866703  15.651777  22.344572\n",
            " 11.887171   6.7659154 14.856337  34.91887   23.30312    7.6256037\n",
            "  5.486822  15.166139  14.024622  21.817253  20.182358  12.877883\n",
            " 11.443975  12.42844   11.348103   7.133654  10.149846  20.643148\n",
            "  9.791874  12.026173   4.523878  10.799984   9.087015   9.95116\n",
            "  8.092037  15.457317   4.448567   0.4837255  8.769723   7.5753107\n",
            " 23.37603   12.456083  16.38588   14.78573   11.265687  25.067318\n",
            " 17.87082    6.535016  27.318172  11.887171   9.153477  25.25353\n",
            "  9.087015   6.236357  12.456083   6.535016   7.916748  22.513977\n",
            "  9.442523  12.712181  22.170973   8.092037  15.051347  10.49984\n",
            " 16.65265   16.52615    7.2564926 21.195982  22.344572   8.316509\n",
            " 14.053988  11.759074  17.797829  23.172266  17.797829  11.96739\n",
            "  4.448567   8.979227  15.004477  32.44907   13.096779  19.265364\n",
            " 17.232231   8.26947   20.066496   8.354628  19.123037  16.65265\n",
            "  9.282641  15.004397  10.799984  24.52593   17.87082   18.335835\n",
            " 13.713219  20.038754  23.728878  13.882914  16.017902  12.48649\n",
            " 12.087977  26.774513  17.295628  20.400204  16.52615   15.651777\n",
            "  8.843582  22.442057  26.360306  20.02253   29.30572    9.262724\n",
            " 21.368702   4.327654  19.123037  16.52736   31.332542  21.368702\n",
            "  4.701574  23.30312   10.379405  24.305355  11.443975  21.817253\n",
            " 12.364538  19.768135  10.533424  25.21462    6.905491  15.022723\n",
            " 26.301085  11.810326   6.1179075 24.959438   7.119686  22.326103\n",
            " 24.175655  11.040895  16.265003  15.274064  28.02438    3.1813223\n",
            " 11.2907    15.166139  20.111116   4.259879  13.025442  10.044247\n",
            " 10.591025  23.98151   22.656187  11.366762  16.616808  26.191452\n",
            " 16.219797  16.095482  19.07677   10.149846   8.71142   10.114323\n",
            " 13.5173645 12.885305   8.687305  28.464344  19.075233  19.511528\n",
            "  9.609158  12.712181  20.038754  11.024029   8.383075  28.464344\n",
            " 13.377672  16.095482  20.869476   7.119686  16.638126  10.467613\n",
            "  7.538454  25.697254  10.799984   4.523878  12.979898  21.436848\n",
            " 12.417122  15.29078   18.5307     7.423988  14.265251  20.44453\n",
            " 16.443054   5.870989  10.966356  16.703432  11.326662   5.870989\n",
            "  8.885145   9.1471    22.344572  22.377426  17.45509   16.787441\n",
            " 21.802917   4.045974   7.3224    17.232231   4.327654   6.236357\n",
            "  0.4837255 12.42844   11.954961  19.565437  24.621649  11.5035095\n",
            " 24.696457  17.880295   8.439532  15.317759  22.326103  17.949741\n",
            " 19.391514   9.886084  18.142368  16.375881  13.377672  15.933886\n",
            " 21.775621  24.621649   7.794796   8.545139  16.356743  22.75203\n",
            " 27.265348  15.273891  19.685387  17.10541   22.24899   19.324455\n",
            " 12.7635     4.101647  20.400204  19.361818  18.754063   6.9143543\n",
            "  8.663316   6.1179075 26.789925  11.968275  22.326103  13.825826\n",
            "  7.856018  16.356743  22.75203   20.02253   18.142368  19.487255\n",
            " 19.95237   11.040895  18.5368    23.661942  23.125671   5.486822\n",
            "  4.045974  13.924276  19.95237   20.02253   15.274064   7.477475\n",
            "  5.521409  14.725653  28.02438   19.825758  10.044247  16.527077\n",
            " 18.476658  17.018143  21.368702  22.005596   5.483629  15.373957\n",
            "  9.334715   7.119686  15.022723  29.75467   10.955112  14.065079\n",
            " 19.484512  19.324455  18.197937  12.456083  17.776936  20.869476\n",
            " 16.198133  32.782803  17.111595   5.9589424 19.324455   5.483629\n",
            " 28.5374    14.265251  23.284908  11.567942   9.915696  24.52593\n",
            " 20.303387  13.924276  11.567942  11.492151   4.259879  14.054656 ]\n"
          ]
        }
      ]
    },
    {
      "cell_type": "code",
      "source": [
        "# show the true value and predicted value in dataframe\n",
        "true_predicted = pd.DataFrame(list(zip(y_test, test_predictions)), \n",
        "                    columns=['True Value','Predicted Value'])\n",
        "true_predicted.head(10)"
      ],
      "metadata": {
        "colab": {
          "base_uri": "https://localhost:8080/",
          "height": 363
        },
        "id": "if37LiYZCbD0",
        "outputId": "152ba4d8-9a57-4746-8d1b-bc3226d5f731"
      },
      "execution_count": 22,
      "outputs": [
        {
          "output_type": "execute_result",
          "data": {
            "text/plain": [
              "   True Value  Predicted Value\n",
              "0        26.2        26.789925\n",
              "1        19.0        15.049367\n",
              "2        12.8        20.067823\n",
              "3        20.8        23.183371\n",
              "4        16.9        17.776936\n",
              "5        23.8        31.106901\n",
              "6         9.3        13.374514\n",
              "7        22.6        14.748987\n",
              "8        18.9        14.123255\n",
              "9        14.9        12.901587"
            ],
            "text/html": [
              "\n",
              "  <div id=\"df-fca3f614-a979-488a-965d-239c20ab9941\">\n",
              "    <div class=\"colab-df-container\">\n",
              "      <div>\n",
              "<style scoped>\n",
              "    .dataframe tbody tr th:only-of-type {\n",
              "        vertical-align: middle;\n",
              "    }\n",
              "\n",
              "    .dataframe tbody tr th {\n",
              "        vertical-align: top;\n",
              "    }\n",
              "\n",
              "    .dataframe thead th {\n",
              "        text-align: right;\n",
              "    }\n",
              "</style>\n",
              "<table border=\"1\" class=\"dataframe\">\n",
              "  <thead>\n",
              "    <tr style=\"text-align: right;\">\n",
              "      <th></th>\n",
              "      <th>True Value</th>\n",
              "      <th>Predicted Value</th>\n",
              "    </tr>\n",
              "  </thead>\n",
              "  <tbody>\n",
              "    <tr>\n",
              "      <th>0</th>\n",
              "      <td>26.2</td>\n",
              "      <td>26.789925</td>\n",
              "    </tr>\n",
              "    <tr>\n",
              "      <th>1</th>\n",
              "      <td>19.0</td>\n",
              "      <td>15.049367</td>\n",
              "    </tr>\n",
              "    <tr>\n",
              "      <th>2</th>\n",
              "      <td>12.8</td>\n",
              "      <td>20.067823</td>\n",
              "    </tr>\n",
              "    <tr>\n",
              "      <th>3</th>\n",
              "      <td>20.8</td>\n",
              "      <td>23.183371</td>\n",
              "    </tr>\n",
              "    <tr>\n",
              "      <th>4</th>\n",
              "      <td>16.9</td>\n",
              "      <td>17.776936</td>\n",
              "    </tr>\n",
              "    <tr>\n",
              "      <th>5</th>\n",
              "      <td>23.8</td>\n",
              "      <td>31.106901</td>\n",
              "    </tr>\n",
              "    <tr>\n",
              "      <th>6</th>\n",
              "      <td>9.3</td>\n",
              "      <td>13.374514</td>\n",
              "    </tr>\n",
              "    <tr>\n",
              "      <th>7</th>\n",
              "      <td>22.6</td>\n",
              "      <td>14.748987</td>\n",
              "    </tr>\n",
              "    <tr>\n",
              "      <th>8</th>\n",
              "      <td>18.9</td>\n",
              "      <td>14.123255</td>\n",
              "    </tr>\n",
              "    <tr>\n",
              "      <th>9</th>\n",
              "      <td>14.9</td>\n",
              "      <td>12.901587</td>\n",
              "    </tr>\n",
              "  </tbody>\n",
              "</table>\n",
              "</div>\n",
              "      <button class=\"colab-df-convert\" onclick=\"convertToInteractive('df-fca3f614-a979-488a-965d-239c20ab9941')\"\n",
              "              title=\"Convert this dataframe to an interactive table.\"\n",
              "              style=\"display:none;\">\n",
              "        \n",
              "  <svg xmlns=\"http://www.w3.org/2000/svg\" height=\"24px\"viewBox=\"0 0 24 24\"\n",
              "       width=\"24px\">\n",
              "    <path d=\"M0 0h24v24H0V0z\" fill=\"none\"/>\n",
              "    <path d=\"M18.56 5.44l.94 2.06.94-2.06 2.06-.94-2.06-.94-.94-2.06-.94 2.06-2.06.94zm-11 1L8.5 8.5l.94-2.06 2.06-.94-2.06-.94L8.5 2.5l-.94 2.06-2.06.94zm10 10l.94 2.06.94-2.06 2.06-.94-2.06-.94-.94-2.06-.94 2.06-2.06.94z\"/><path d=\"M17.41 7.96l-1.37-1.37c-.4-.4-.92-.59-1.43-.59-.52 0-1.04.2-1.43.59L10.3 9.45l-7.72 7.72c-.78.78-.78 2.05 0 2.83L4 21.41c.39.39.9.59 1.41.59.51 0 1.02-.2 1.41-.59l7.78-7.78 2.81-2.81c.8-.78.8-2.07 0-2.86zM5.41 20L4 18.59l7.72-7.72 1.47 1.35L5.41 20z\"/>\n",
              "  </svg>\n",
              "      </button>\n",
              "      \n",
              "  <style>\n",
              "    .colab-df-container {\n",
              "      display:flex;\n",
              "      flex-wrap:wrap;\n",
              "      gap: 12px;\n",
              "    }\n",
              "\n",
              "    .colab-df-convert {\n",
              "      background-color: #E8F0FE;\n",
              "      border: none;\n",
              "      border-radius: 50%;\n",
              "      cursor: pointer;\n",
              "      display: none;\n",
              "      fill: #1967D2;\n",
              "      height: 32px;\n",
              "      padding: 0 0 0 0;\n",
              "      width: 32px;\n",
              "    }\n",
              "\n",
              "    .colab-df-convert:hover {\n",
              "      background-color: #E2EBFA;\n",
              "      box-shadow: 0px 1px 2px rgba(60, 64, 67, 0.3), 0px 1px 3px 1px rgba(60, 64, 67, 0.15);\n",
              "      fill: #174EA6;\n",
              "    }\n",
              "\n",
              "    [theme=dark] .colab-df-convert {\n",
              "      background-color: #3B4455;\n",
              "      fill: #D2E3FC;\n",
              "    }\n",
              "\n",
              "    [theme=dark] .colab-df-convert:hover {\n",
              "      background-color: #434B5C;\n",
              "      box-shadow: 0px 1px 3px 1px rgba(0, 0, 0, 0.15);\n",
              "      filter: drop-shadow(0px 1px 2px rgba(0, 0, 0, 0.3));\n",
              "      fill: #FFFFFF;\n",
              "    }\n",
              "  </style>\n",
              "\n",
              "      <script>\n",
              "        const buttonEl =\n",
              "          document.querySelector('#df-fca3f614-a979-488a-965d-239c20ab9941 button.colab-df-convert');\n",
              "        buttonEl.style.display =\n",
              "          google.colab.kernel.accessAllowed ? 'block' : 'none';\n",
              "\n",
              "        async function convertToInteractive(key) {\n",
              "          const element = document.querySelector('#df-fca3f614-a979-488a-965d-239c20ab9941');\n",
              "          const dataTable =\n",
              "            await google.colab.kernel.invokeFunction('convertToInteractive',\n",
              "                                                     [key], {});\n",
              "          if (!dataTable) return;\n",
              "\n",
              "          const docLinkHtml = 'Like what you see? Visit the ' +\n",
              "            '<a target=\"_blank\" href=https://colab.research.google.com/notebooks/data_table.ipynb>data table notebook</a>'\n",
              "            + ' to learn more about interactive tables.';\n",
              "          element.innerHTML = '';\n",
              "          dataTable['output_type'] = 'display_data';\n",
              "          await google.colab.output.renderOutput(dataTable, element);\n",
              "          const docLink = document.createElement('div');\n",
              "          docLink.innerHTML = docLinkHtml;\n",
              "          element.appendChild(docLink);\n",
              "        }\n",
              "      </script>\n",
              "    </div>\n",
              "  </div>\n",
              "  "
            ]
          },
          "metadata": {},
          "execution_count": 22
        }
      ]
    },
    {
      "cell_type": "code",
      "source": [
        "# visualize the prediction uisng diagonal line\n",
        "y = test_predictions #y-axis\n",
        "x = y_test #x-axis\n",
        "fig, ax = plt.subplots(figsize=(10,6)) # create figure\n",
        "ax.scatter(x,y) #scatter plots for x,y\n",
        "ax.set(xlim=(0,55), ylim=(0, 55)) #set limit\n",
        "ax.plot(ax.get_xlim(), ax.get_ylim(), color ='red') # draw 45 degree diagonal in figure\n",
        "plt.xlabel('True Values')\n",
        "plt.ylabel('Predicted values')\n",
        "plt.title('Evaluation Result')\n",
        "plt.show()"
      ],
      "metadata": {
        "colab": {
          "base_uri": "https://localhost:8080/",
          "height": 404
        },
        "id": "XgkvEWW-BRJF",
        "outputId": "54f457f9-67d6-4088-8d99-97a45f965a1d"
      },
      "execution_count": 23,
      "outputs": [
        {
          "output_type": "display_data",
          "data": {
            "text/plain": [
              "<Figure size 720x432 with 1 Axes>"
            ],
            "image/png": "[encoded data removed]"
          },
          "metadata": {
            "needs_background": "light"
          }
        }
      ]
    },
    {
      "cell_type": "code",
      "source": [
        "#Accuracy of linear regression on the dataset\n",
        "\n",
        "\n",
        "plt.figure(figsize=(10,5))\n",
        "sns.regplot(x=y_test,y=test_predictions,scatter_kws={'color':'red'})"
      ],
      "metadata": {
        "colab": {
          "base_uri": "https://localhost:8080/",
          "height": 351
        },
        "id": "Wj4mwhHlBRL1",
        "outputId": "fc02a01f-7ee6-4b27-d50a-4c04106a0e01"
      },
      "execution_count": 24,
      "outputs": [
        {
          "output_type": "execute_result",
          "data": {
            "text/plain": [
              "<Axes: xlabel='sales'>"
            ]
          },
          "metadata": {},
          "execution_count": 24
        },
        {
          "output_type": "display_data",
          "data": {
            "text/plain": [
              "<Figure size 720x360 with 1 Axes>"
            ],
            "image/png": "[encoded data removed]"
          },
          "metadata": {
            "needs_background": "light"
          }
        }
      ]
    },
    {
      "cell_type": "code",
      "source": [
        "# Importing metrics from sklearn\n",
        "from sklearn import metrics\n",
        "\n",
        "# Show the values of MAE, MSE, RMSE\n",
        "print('MAE:', metrics.mean_absolute_error(y_test, test_predictions))\n",
        "print('MSE:', metrics.mean_squared_error(y_test, test_predictions))\n",
        "print('RMSE:', np.sqrt(metrics.mean_squared_error(y_test, test_predictions)))"
      ],
      "metadata": {
        "colab": {
          "base_uri": "https://localhost:8080/"
        },
        "id": "hFzNLIAOBba7",
        "outputId": "45ba7887-d360-40ac-f01b-61087e8732e8"
      },
      "execution_count": 25,
      "outputs": [
        {
          "output_type": "stream",
          "name": "stdout",
          "text": [
            "MAE: 3.396790623615186\n",
            "MSE: 23.44423075034723\n",
            "RMSE: 4.841924281765178\n"
          ]
        }
      ]
    },
    {
      "cell_type": "code",
      "source": [
        "#check the model performace in test dataset\n",
        "score = model.evaluate(X_test, y_test, verbose=1)\n",
        "print('loss value: ', score[0])\n",
        "print('Mean absolute error: ', score[1])"
      ],
      "metadata": {
        "colab": {
          "base_uri": "https://localhost:8080/"
        },
        "id": "Kc0qGSfg3wHL",
        "outputId": "0eaefbcb-ae25-4506-8eaf-cd8d70ef32c3"
      },
      "execution_count": 26,
      "outputs": [
        {
          "output_type": "stream",
          "name": "stdout",
          "text": [
            "15/15 [==============================] - 0s 3ms/step - loss: 23.4442 - mae: 3.3968\n",
            "loss value:  23.444231033325195\n",
            "Mean absolute error:  3.3967905044555664\n"
          ]
        }
      ]
    },
    {
      "cell_type": "code",
      "source": [
        "'''=== predict the SALES =='''\n",
        "\n",
        "# predict SALES using the test data \n",
        "test_predictions = model.predict(X_test).flatten()\n",
        "print(test_predictions)\n"
      ],
      "metadata": {
        "colab": {
          "base_uri": "https://localhost:8080/"
        },
        "id": "jHNfAACi3wN0",
        "outputId": "f41d9790-67dd-4537-9134-d339ad2f7669"
      },
      "execution_count": 27,
      "outputs": [
        {
          "output_type": "stream",
          "name": "stdout",
          "text": [
            "15/15 [==============================] - 0s 2ms/step\n",
            "[26.789925  15.049367  20.067823  23.18337   17.776936  31.106901\n",
            " 13.374514  14.748987  14.123255  12.901587   6.0975666 16.375881\n",
            " 12.7635    12.641687  14.326943   7.916748  26.191452  14.215786\n",
            "  7.050012  18.5368    25.697254   5.9589424 12.916978  14.178512\n",
            "  7.6256037  4.259879  15.849777  14.265251  13.031542   9.915696\n",
            " 15.92128   10.911242  23.284908  18.120935  31.260395  37.317078\n",
            " 27.203712  24.621649  12.506098  12.620357  25.25353   10.309524\n",
            "  7.500252  16.20245   15.933886  10.149846  11.759074  27.203712\n",
            " 13.106961   8.979227  14.146557  14.326943  12.256336  13.353268\n",
            "  4.045974  21.245491  16.735012  19.494846  11.913572  13.713219\n",
            " 12.42844   16.703432  11.567942  15.457317  11.683344  14.210796\n",
            " 12.417122  23.79809    8.663316  25.12542    5.6815877 16.078566\n",
            "  7.794796  16.638126  23.595818  15.273891  19.354053  13.057198\n",
            " 10.911242  25.485262  14.78573   22.347694  15.051347  16.787441\n",
            " 14.434624  25.726326  10.391446  13.968866   4.448567  11.96739\n",
            " 17.233582   9.915696  12.885305  10.473808   8.54514   22.758213\n",
            "  6.738419  23.18337   24.43169   12.954363   7.133654  14.725653\n",
            " 10.263143  16.929577  27.335148  25.12542   10.114323   6.778162\n",
            "  9.153477  12.48649   12.916978   8.522731  11.1898    20.111116\n",
            " 18.840366  17.267153   7.133654  24.043999  29.30572   10.591025\n",
            " 10.911242  25.723186  22.347694   7.3949966 24.224262  22.170973\n",
            " 20.550198   6.5511036  7.492157  21.195982  11.056288   7.050012\n",
            " 22.005596  17.858767  16.983624  23.661942   6.883421  16.915497\n",
            " 15.032963  23.518166   6.5511036 23.595818  16.095482  16.735012\n",
            "  6.738419   4.6972504 12.008308  24.49305    6.236357  19.035864\n",
            " 14.215786  12.087977   9.791874  16.219797  28.5374    12.087977\n",
            " 23.595818  12.226715  23.125671  10.044247  17.267153  12.901587\n",
            " 19.511528  27.335148   5.422741  22.513977  13.5173645  4.101647\n",
            " 13.825826  12.891172  23.205227   9.542076  24.601448  23.769905\n",
            "  8.979227  12.901587  22.75203   26.866703  15.651777  22.344572\n",
            " 11.887171   6.7659154 14.856337  34.91887   23.30312    7.6256037\n",
            "  5.486822  15.166139  14.024622  21.817253  20.182358  12.877883\n",
            " 11.443975  12.42844   11.348103   7.133654  10.149846  20.643148\n",
            "  9.791874  12.026173   4.523878  10.799984   9.087015   9.95116\n",
            "  8.092037  15.457317   4.448567   0.4837255  8.769723   7.5753107\n",
            " 23.37603   12.456083  16.38588   14.78573   11.265687  25.067318\n",
            " 17.87082    6.535016  27.318172  11.887171   9.153477  25.25353\n",
            "  9.087015   6.236357  12.456083   6.535016   7.916748  22.513977\n",
            "  9.442523  12.712181  22.170973   8.092037  15.051347  10.49984\n",
            " 16.65265   16.52615    7.2564926 21.195982  22.344572   8.316509\n",
            " 14.053988  11.759074  17.797829  23.172266  17.797829  11.96739\n",
            "  4.448567   8.979227  15.004477  32.44907   13.096779  19.265364\n",
            " 17.232231   8.26947   20.066496   8.354628  19.123037  16.65265\n",
            "  9.282641  15.004397  10.799984  24.52593   17.87082   18.335835\n",
            " 13.713219  20.038754  23.728878  13.882914  16.017902  12.48649\n",
            " 12.087977  26.774513  17.295628  20.400204  16.52615   15.651777\n",
            "  8.843582  22.442057  26.360306  20.02253   29.30572    9.262724\n",
            " 21.368702   4.327654  19.123037  16.52736   31.332542  21.368702\n",
            "  4.701574  23.30312   10.379405  24.305355  11.443975  21.817253\n",
            " 12.364538  19.768135  10.533424  25.21462    6.905491  15.022723\n",
            " 26.301085  11.810326   6.1179075 24.959438   7.119686  22.326103\n",
            " 24.175655  11.040895  16.265003  15.274064  28.02438    3.1813223\n",
            " 11.2907    15.166139  20.111116   4.259879  13.025442  10.044247\n",
            " 10.591025  23.98151   22.656187  11.366762  16.616808  26.191452\n",
            " 16.219797  16.095482  19.07677   10.149846   8.71142   10.114323\n",
            " 13.5173645 12.885305   8.687305  28.464344  19.075233  19.511528\n",
            "  9.609158  12.712181  20.038754  11.024029   8.383075  28.464344\n",
            " 13.377672  16.095482  20.869476   7.119686  16.638126  10.467613\n",
            "  7.538454  25.697254  10.799984   4.523878  12.979898  21.436848\n",
            " 12.417122  15.29078   18.5307     7.423988  14.265251  20.44453\n",
            " 16.443054   5.870989  10.966356  16.703432  11.326662   5.870989\n",
            "  8.885145   9.1471    22.344572  22.377426  17.45509   16.787441\n",
            " 21.802917   4.045974   7.3224    17.232231   4.327654   6.236357\n",
            "  0.4837255 12.42844   11.954961  19.565437  24.621649  11.5035095\n",
            " 24.696457  17.880295   8.439532  15.317759  22.326103  17.949741\n",
            " 19.391514   9.886084  18.142368  16.375881  13.377672  15.933886\n",
            " 21.775621  24.621649   7.794796   8.545139  16.356743  22.75203\n",
            " 27.265348  15.273891  19.685387  17.10541   22.24899   19.324455\n",
            " 12.7635     4.101647  20.400204  19.361818  18.754063   6.9143543\n",
            "  8.663316   6.1179075 26.789925  11.968275  22.326103  13.825826\n",
            "  7.856018  16.356743  22.75203   20.02253   18.142368  19.487255\n",
            " 19.95237   11.040895  18.5368    23.661942  23.125671   5.486822\n",
            "  4.045974  13.924276  19.95237   20.02253   15.274064   7.477475\n",
            "  5.521409  14.725653  28.02438   19.825758  10.044247  16.527077\n",
            " 18.476658  17.018143  21.368702  22.005596   5.483629  15.373957\n",
            "  9.334715   7.119686  15.022723  29.75467   10.955112  14.065079\n",
            " 19.484512  19.324455  18.197937  12.456083  17.776936  20.869476\n",
            " 16.198133  32.782803  17.111595   5.9589424 19.324455   5.483629\n",
            " 28.5374    14.265251  23.284908  11.567942   9.915696  24.52593\n",
            " 20.303387  13.924276  11.567942  11.492151   4.259879  14.054656 ]\n"
          ]
        }
      ]
    },
    {
      "cell_type": "code",
      "source": [
        "# show the true value and predicted value in dataframe\n",
        "true_predicted = pd.DataFrame(list(zip(y_test, test_predictions)), \n",
        "                    columns=['True Value','Predicted Value'])\n",
        "true_predicted.head(10)"
      ],
      "metadata": {
        "colab": {
          "base_uri": "https://localhost:8080/",
          "height": 363
        },
        "id": "2J9wMx_u3wQ_",
        "outputId": "cbb16743-bbf7-423c-9e9d-27571bd43080"
      },
      "execution_count": 28,
      "outputs": [
        {
          "output_type": "execute_result",
          "data": {
            "text/plain": [
              "   True Value  Predicted Value\n",
              "0        26.2        26.789925\n",
              "1        19.0        15.049367\n",
              "2        12.8        20.067823\n",
              "3        20.8        23.183371\n",
              "4        16.9        17.776936\n",
              "5        23.8        31.106901\n",
              "6         9.3        13.374514\n",
              "7        22.6        14.748987\n",
              "8        18.9        14.123255\n",
              "9        14.9        12.901587"
            ],
            "text/html": [
              "\n",
              "  <div id=\"df-aa2990ae-feba-40fe-8b66-70b17d755fe9\">\n",
              "    <div class=\"colab-df-container\">\n",
              "      <div>\n",
              "<style scoped>\n",
              "    .dataframe tbody tr th:only-of-type {\n",
              "        vertical-align: middle;\n",
              "    }\n",
              "\n",
              "    .dataframe tbody tr th {\n",
              "        vertical-align: top;\n",
              "    }\n",
              "\n",
              "    .dataframe thead th {\n",
              "        text-align: right;\n",
              "    }\n",
              "</style>\n",
              "<table border=\"1\" class=\"dataframe\">\n",
              "  <thead>\n",
              "    <tr style=\"text-align: right;\">\n",
              "      <th></th>\n",
              "      <th>True Value</th>\n",
              "      <th>Predicted Value</th>\n",
              "    </tr>\n",
              "  </thead>\n",
              "  <tbody>\n",
              "    <tr>\n",
              "      <th>0</th>\n",
              "      <td>26.2</td>\n",
              "      <td>26.789925</td>\n",
              "    </tr>\n",
              "    <tr>\n",
              "      <th>1</th>\n",
              "      <td>19.0</td>\n",
              "      <td>15.049367</td>\n",
              "    </tr>\n",
              "    <tr>\n",
              "      <th>2</th>\n",
              "      <td>12.8</td>\n",
              "      <td>20.067823</td>\n",
              "    </tr>\n",
              "    <tr>\n",
              "      <th>3</th>\n",
              "      <td>20.8</td>\n",
              "      <td>23.183371</td>\n",
              "    </tr>\n",
              "    <tr>\n",
              "      <th>4</th>\n",
              "      <td>16.9</td>\n",
              "      <td>17.776936</td>\n",
              "    </tr>\n",
              "    <tr>\n",
              "      <th>5</th>\n",
              "      <td>23.8</td>\n",
              "      <td>31.106901</td>\n",
              "    </tr>\n",
              "    <tr>\n",
              "      <th>6</th>\n",
              "      <td>9.3</td>\n",
              "      <td>13.374514</td>\n",
              "    </tr>\n",
              "    <tr>\n",
              "      <th>7</th>\n",
              "      <td>22.6</td>\n",
              "      <td>14.748987</td>\n",
              "    </tr>\n",
              "    <tr>\n",
              "      <th>8</th>\n",
              "      <td>18.9</td>\n",
              "      <td>14.123255</td>\n",
              "    </tr>\n",
              "    <tr>\n",
              "      <th>9</th>\n",
              "      <td>14.9</td>\n",
              "      <td>12.901587</td>\n",
              "    </tr>\n",
              "  </tbody>\n",
              "</table>\n",
              "</div>\n",
              "      <button class=\"colab-df-convert\" onclick=\"convertToInteractive('df-aa2990ae-feba-40fe-8b66-70b17d755fe9')\"\n",
              "              title=\"Convert this dataframe to an interactive table.\"\n",
              "              style=\"display:none;\">\n",
              "        \n",
              "  <svg xmlns=\"http://www.w3.org/2000/svg\" height=\"24px\"viewBox=\"0 0 24 24\"\n",
              "       width=\"24px\">\n",
              "    <path d=\"M0 0h24v24H0V0z\" fill=\"none\"/>\n",
              "    <path d=\"M18.56 5.44l.94 2.06.94-2.06 2.06-.94-2.06-.94-.94-2.06-.94 2.06-2.06.94zm-11 1L8.5 8.5l.94-2.06 2.06-.94-2.06-.94L8.5 2.5l-.94 2.06-2.06.94zm10 10l.94 2.06.94-2.06 2.06-.94-2.06-.94-.94-2.06-.94 2.06-2.06.94z\"/><path d=\"M17.41 7.96l-1.37-1.37c-.4-.4-.92-.59-1.43-.59-.52 0-1.04.2-1.43.59L10.3 9.45l-7.72 7.72c-.78.78-.78 2.05 0 2.83L4 21.41c.39.39.9.59 1.41.59.51 0 1.02-.2 1.41-.59l7.78-7.78 2.81-2.81c.8-.78.8-2.07 0-2.86zM5.41 20L4 18.59l7.72-7.72 1.47 1.35L5.41 20z\"/>\n",
              "  </svg>\n",
              "      </button>\n",
              "      \n",
              "  <style>\n",
              "    .colab-df-container {\n",
              "      display:flex;\n",
              "      flex-wrap:wrap;\n",
              "      gap: 12px;\n",
              "    }\n",
              "\n",
              "    .colab-df-convert {\n",
              "      background-color: #E8F0FE;\n",
              "      border: none;\n",
              "      border-radius: 50%;\n",
              "      cursor: pointer;\n",
              "      display: none;\n",
              "      fill: #1967D2;\n",
              "      height: 32px;\n",
              "      padding: 0 0 0 0;\n",
              "      width: 32px;\n",
              "    }\n",
              "\n",
              "    .colab-df-convert:hover {\n",
              "      background-color: #E2EBFA;\n",
              "      box-shadow: 0px 1px 2px rgba(60, 64, 67, 0.3), 0px 1px 3px 1px rgba(60, 64, 67, 0.15);\n",
              "      fill: #174EA6;\n",
              "    }\n",
              "\n",
              "    [theme=dark] .colab-df-convert {\n",
              "      background-color: #3B4455;\n",
              "      fill: #D2E3FC;\n",
              "    }\n",
              "\n",
              "    [theme=dark] .colab-df-convert:hover {\n",
              "      background-color: #434B5C;\n",
              "      box-shadow: 0px 1px 3px 1px rgba(0, 0, 0, 0.15);\n",
              "      filter: drop-shadow(0px 1px 2px rgba(0, 0, 0, 0.3));\n",
              "      fill: #FFFFFF;\n",
              "    }\n",
              "  </style>\n",
              "\n",
              "      <script>\n",
              "        const buttonEl =\n",
              "          document.querySelector('#df-aa2990ae-feba-40fe-8b66-70b17d755fe9 button.colab-df-convert');\n",
              "        buttonEl.style.display =\n",
              "          google.colab.kernel.accessAllowed ? 'block' : 'none';\n",
              "\n",
              "        async function convertToInteractive(key) {\n",
              "          const element = document.querySelector('#df-aa2990ae-feba-40fe-8b66-70b17d755fe9');\n",
              "          const dataTable =\n",
              "            await google.colab.kernel.invokeFunction('convertToInteractive',\n",
              "                                                     [key], {});\n",
              "          if (!dataTable) return;\n",
              "\n",
              "          const docLinkHtml = 'Like what you see? Visit the ' +\n",
              "            '<a target=\"_blank\" href=https://colab.research.google.com/notebooks/data_table.ipynb>data table notebook</a>'\n",
              "            + ' to learn more about interactive tables.';\n",
              "          element.innerHTML = '';\n",
              "          dataTable['output_type'] = 'display_data';\n",
              "          await google.colab.output.renderOutput(dataTable, element);\n",
              "          const docLink = document.createElement('div');\n",
              "          docLink.innerHTML = docLinkHtml;\n",
              "          element.appendChild(docLink);\n",
              "        }\n",
              "      </script>\n",
              "    </div>\n",
              "  </div>\n",
              "  "
            ]
          },
          "metadata": {},
          "execution_count": 28
        }
      ]
    },
    {
      "cell_type": "code",
      "source": [
        "# visualize the prediction uisng diagonal line\n",
        "y = test_predictions #y-axis\n",
        "x = y_test #x-axis\n",
        "fig, ax = plt.subplots(figsize=(10,6)) # create figure\n",
        "ax.scatter(x,y) #scatter plots for x,y\n",
        "ax.set(xlim=(0,55), ylim=(0, 55)) #set limit\n",
        "ax.plot(ax.get_xlim(), ax.get_ylim(), color ='red') # draw 45 degree diagonal in figure\n",
        "plt.xlabel('True Values')\n",
        "plt.ylabel('Predicted values')\n",
        "plt.title('Evaluation Result')\n",
        "plt.show()"
      ],
      "metadata": {
        "colab": {
          "base_uri": "https://localhost:8080/",
          "height": 404
        },
        "id": "AieP723k4MNQ",
        "outputId": "c1635001-cad9-4777-c6d1-6548779dcf06"
      },
      "execution_count": 29,
      "outputs": [
        {
          "output_type": "display_data",
          "data": {
            "text/plain": [
              "<Figure size 720x432 with 1 Axes>"
            ],
            "image/png": "[encoded data removed]"
          },
          "metadata": {
            "needs_background": "light"
          }
        }
      ]
    },
    {
      "cell_type": "markdown",
      "source": [
        "\n",
        "\n",
        "##Accuracy of linear regression on the dataset\n",
        "\n",
        "The linear regression graph is created by train data and the model line is shown by the blue line which is created using test data and predicted data as we can see most of the red dots are on the line, thus we can say that model has produced the best-fit line."
      ],
      "metadata": {
        "id": "g2Wkfcm9C1Eq"
      }
    },
    {
      "cell_type": "code",
      "source": [
        "#Accuracy of linear regression on the dataset\n",
        "\n",
        "\n",
        "\n",
        "plt.figure(figsize=(10,5))\n",
        "sns.regplot(x=y_test,y=test_predictions,scatter_kws={'color':'red'})"
      ],
      "metadata": {
        "colab": {
          "base_uri": "https://localhost:8080/",
          "height": 351
        },
        "id": "Y-2efUAC6EmJ",
        "outputId": "82a3fc8c-409d-4d67-962a-6bef40e71799"
      },
      "execution_count": 30,
      "outputs": [
        {
          "output_type": "execute_result",
          "data": {
            "text/plain": [
              "<Axes: xlabel='sales'>"
            ]
          },
          "metadata": {},
          "execution_count": 30
        },
        {
          "output_type": "display_data",
          "data": {
            "text/plain": [
              "<Figure size 720x360 with 1 Axes>"
            ],
            "image/png": "[encoded data removed]"
          },
          "metadata": {
            "needs_background": "light"
          }
        }
      ]
    },
    {
      "cell_type": "code",
      "source": [
        "# show the graph of model loss in trainig and validation \n",
        "\n",
        "plt.figure(figsize=(15,8))\n",
        "plt.xlabel('Epoch')\n",
        "plt.ylabel('Mean Square Error')\n",
        "plt.plot(history.epoch, history.history['loss'],\n",
        "           label='Train Loss')\n",
        "plt.plot(history.epoch, history.history['val_loss'],\n",
        "           label = 'Val loss')\n",
        "plt.title('Model loss')\n",
        "plt.legend()"
      ],
      "metadata": {
        "colab": {
          "base_uri": "https://localhost:8080/",
          "height": 530
        },
        "id": "0WOUkSI_FiG-",
        "outputId": "54b19df6-1419-4ff9-8bec-297c95883c92"
      },
      "execution_count": 31,
      "outputs": [
        {
          "output_type": "execute_result",
          "data": {
            "text/plain": [
              "<matplotlib.legend.Legend at 0x7fa736db52e0>"
            ]
          },
          "metadata": {},
          "execution_count": 31
        },
        {
          "output_type": "display_data",
          "data": {
            "text/plain": [
              "<Figure size 1080x576 with 1 Axes>"
            ],
            "image/png": "[encoded data removed]"
          },
          "metadata": {
            "needs_background": "light"
          }
        }
      ]
    },
    {
      "cell_type": "code",
      "source": [
        "plt.plot(history.history['loss'])\n",
        "plt.plot(history.history['val_loss'])\n",
        "plt.title('Model loss')\n",
        "plt.ylabel('Loss')\n",
        "plt.xlabel('Epoch')\n",
        "plt.legend(['Train', 'Val'], loc='upper right')\n",
        "plt.show()"
      ],
      "metadata": {
        "id": "26yqDrQEFiLK",
        "colab": {
          "base_uri": "https://localhost:8080/",
          "height": 295
        },
        "outputId": "60464e56-2107-467a-9261-606584ffd1db"
      },
      "execution_count": 33,
      "outputs": [
        {
          "output_type": "display_data",
          "data": {
            "text/plain": [
              "<Figure size 432x288 with 1 Axes>"
            ],
            "image/png": "[encoded data removed]"
          },
          "metadata": {
            "needs_background": "light"
          }
        }
      ]
    },
    {
      "cell_type": "markdown",
      "source": [
        "Explaining above code snippet:\n",
        "\n",
        "We’ll explain each line of the above code snippet. The first two lines says that we want to plot the loss and the val_loss. The third line specifies the title of this graph, “Model Loss”. The fourth and fifth line tells us what the y and x axis should be labelled respectively. The sixth line includes a legend for our graph, and the location of the legend will be in the upper right. And the seventh line tells Jupyter notebook to display the graph."
      ],
      "metadata": {
        "id": "CH8GmxS1LTym"
      }
    },
    {
      "cell_type": "code",
      "source": [],
      "metadata": {
        "id": "NsJxFqZjH1qT"
      },
      "execution_count": null,
      "outputs": []
    },
    {
      "cell_type": "code",
      "source": [],
      "metadata": {
        "id": "xDfZkfE1H1tf"
      },
      "execution_count": null,
      "outputs": []
    },
    {
      "cell_type": "code",
      "source": [],
      "metadata": {
        "id": "S2kNsxHJH1xN"
      },
      "execution_count": null,
      "outputs": []
    },
    {
      "cell_type": "code",
      "source": [],
      "metadata": {
        "id": "FjEUDIC8Gng_"
      },
      "execution_count": null,
      "outputs": []
    },
    {
      "cell_type": "markdown",
      "source": [
        "# Preparing the data\n",
        "It would be problematic to feed into a neural network values that all take wildly different ranges. The network might be able to automatically adapt to such heterogeneous data, but it would definitely make learning more difficult. A widespread best practice to deal with such data is to do feature-wise normalization: for each feature in the input data (a column in the input data matrix), we will subtract the mean of the feature and divide by the standard deviation, so that the feature will be centered around 0 and will have a unit standard deviation. This is easily done in Numpy:"
      ],
      "metadata": {
        "id": "BMQKm1c_Iwar"
      }
    },
    {
      "cell_type": "markdown",
      "source": [
        "Our network ends with a single unit, and no activation (i.e. it will be linear layer). This is a typical setup for scalar regression (i.e. regression where we are trying to predict a single continuous value). Applying an activation function would constrain the range that the output can take; for instance if we applied a sigmoid activation function to our last layer, the network could only learn to predict values between 0 and 1. Here, because the last layer is purely linear, the network is free to learn to predict values in any range.\n",
        "\n",
        "Note that we are compiling the network with the mse loss function -- Mean Squared Error, the square of the difference between the predictions and the targets, a widely used loss function for regression problems.\n",
        "\n",
        "We are also monitoring a new metric during training: mae. This stands for Mean Absolute Error. It is simply the absolute value of the difference between the predictions and the targets. For instance, a MAE of 0.5 on this problem would mean that our predictions are off by $500 on average."
      ],
      "metadata": {
        "id": "T2Icu9NJI6BL"
      }
    },
    {
      "cell_type": "markdown",
      "source": [],
      "metadata": {
        "id": "eEaatH46I8WQ"
      }
    },
    {
      "cell_type": "markdown",
      "source": [
        "# Best Pracices\n",
        "\n",
        "Wrapping up\n",
        "Here's what you should take away from this example:\n",
        "\n",
        "Regression is done using different loss functions from classification; Mean Squared Error (MSE) is a commonly used loss function for\n",
        "regression.\n",
        "\n",
        "Similarly, evaluation metrics to be used for regression differ from those used for classification; naturally the concept of \"accuracy\"\n",
        "does not apply for regression. A common regression metric is Mean Absolute Error (MAE).\n",
        "\n",
        "When features in the input data have values in different ranges, each feature should be scaled independently as a preprocessing step.\n",
        "When there is little data available, using K-Fold validation is a great way to reliably evaluate a model.\n",
        "When little training data is available, it is preferable to use a small network with very few hidden layers (typically only one or two),\n",
        "in order to avoid severe overfitting.\n",
        "\n",
        "This example concludes our series of three introductory \n",
        "\n",
        "his example concludes our series of three introductory practical examples. You are now able to handle common types of problems with vector data input:\n",
        "\n",
        "Binary (2-class) classification.\n",
        "Multi-class, single-label classification.\n",
        "Scalar regression.\n",
        "In the next chapter, you will acquire a more formal understanding of some of the concepts you have encountered in these first examples, such as data preprocessing, model evaluation, and overfittin"
      ],
      "metadata": {
        "id": "K0i7TJrMJPFu"
      }
    },
    {
      "cell_type": "code",
      "source": [
        "'''=== Noramlization the features. Since it is seen that features have different ranges, it is best practice to\n",
        "normalize/standarize the feature before using them in the model ==='''\n",
        "\n",
        "#feature normalization\n",
        "normalized_feature =  keras.utils.normalize(feature.values)\n",
        "print(normalized_feature)"
      ],
      "metadata": {
        "id": "4jiL4PWxGnj1"
      },
      "execution_count": null,
      "outputs": []
    },
    {
      "cell_type": "markdown",
      "source": [],
      "metadata": {
        "id": "CPO3V-E1CyRV"
      }
    },
    {
      "cell_type": "code",
      "source": [
        "# Importing metrics from sklearn\n",
        "from sklearn import metrics\n",
        "\n",
        "# Show the values of MAE, MSE, RMSE\n",
        "print('MAE:', metrics.mean_absolute_error(y_test, test_predictions))\n",
        "print('MSE:', metrics.mean_squared_error(y_test, test_predictions))\n",
        "print('RMSE:', np.sqrt(metrics.mean_squared_error(y_test, test_predictions)))"
      ],
      "metadata": {
        "id": "Id0afKgD4MQE"
      },
      "execution_count": null,
      "outputs": []
    },
    {
      "cell_type": "code",
      "source": [],
      "metadata": {
        "id": "It3zO_VZ4MSw"
      },
      "execution_count": null,
      "outputs": []
    },
    {
      "cell_type": "code",
      "source": [],
      "metadata": {
        "id": "O5nuZ9BR4MV1"
      },
      "execution_count": null,
      "outputs": []
    },
    {
      "cell_type": "code",
      "source": [],
      "metadata": {
        "id": "WpjjsSsJ4MYC"
      },
      "execution_count": null,
      "outputs": []
    },
    {
      "cell_type": "code",
      "source": [
        "diff = pd.DataFrame({'Actual': y_test, 'Predicted': test_predictions})\n",
        "\n",
        "diff.head(5)"
      ],
      "metadata": {
        "id": "ZDkyOBcwtJR9"
      },
      "execution_count": null,
      "outputs": []
    },
    {
      "cell_type": "code",
      "source": [],
      "metadata": {
        "id": "vy9ewk9mtJUR"
      },
      "execution_count": null,
      "outputs": []
    },
    {
      "cell_type": "code",
      "source": [],
      "metadata": {
        "id": "ylMtn4GYtJXE"
      },
      "execution_count": null,
      "outputs": []
    },
    {
      "cell_type": "code",
      "source": [],
      "metadata": {
        "id": "rAikaiZZeom1"
      },
      "execution_count": null,
      "outputs": []
    },
    {
      "cell_type": "code",
      "source": [],
      "metadata": {
        "id": "jvJBxwN0eovy"
      },
      "execution_count": null,
      "outputs": []
    },
    {
      "cell_type": "code",
      "source": [],
      "metadata": {
        "id": "0hX9dhp9eoyy"
      },
      "execution_count": null,
      "outputs": []
    },
    {
      "cell_type": "code",
      "source": [],
      "metadata": {
        "id": "z6q-Z-y1eo5D"
      },
      "execution_count": null,
      "outputs": []
    },
    {
      "cell_type": "code",
      "source": [],
      "metadata": {
        "id": "B25EQ7Mreo9S"
      },
      "execution_count": null,
      "outputs": []
    },
    {
      "cell_type": "code",
      "source": [],
      "metadata": {
        "id": "7D6CFxulepA3"
      },
      "execution_count": null,
      "outputs": []
    },
    {
      "cell_type": "code",
      "source": [
        "#Note that after 32 Epochs we could have \"stopped early\" rather than go ghrough 150 eochs since the\n",
        "#numbers are so close MSE is around $163K."
      ],
      "metadata": {
        "id": "4ugb7VFyw3zf"
      },
      "execution_count": null,
      "outputs": []
    },
    {
      "cell_type": "code",
      "source": [
        "## Build the model\n",
        "model = Sequential()\n",
        "model.add(Dense(32, input_dim=4, activation= \"relu\"))\n",
        "model.add(Dense(32, activation= \"relu\"))\n",
        "model.add(Dense(1, activation='linear', name='sales'))\n",
        "\n",
        "\n",
        "## Compile the Model\n",
        "model.compile(loss= \"mean_squared_error\" , \n",
        "              optimizer=\"adam\", \n",
        "              metrics=[\"mean_squared_error\"])\n",
        "\n",
        "\n",
        "## Fit the Model\n",
        "\n",
        "early_stop = EarlyStopping(monitor='val_loss', patience=15) # stops training when it doesn't show improvemnet.\n",
        "\n",
        "history = model.fit(X_train, y_train,\n",
        "          batch_size=32, epochs=100,\n",
        "          validation_data = (X_test, y_test))\n",
        "\n",
        "#train model and perform validation test\n",
        "\n",
        "\n"
      ],
      "metadata": {
        "id": "MCXZzWnsKJjL"
      },
      "execution_count": null,
      "outputs": []
    },
    {
      "cell_type": "markdown",
      "source": [
        "NOTHING PAST HERE"
      ],
      "metadata": {
        "id": "A9LUsykitlcd"
      }
    },
    {
      "cell_type": "markdown",
      "metadata": {
        "id": "uh_3f6dgnO2K"
      },
      "source": [
        "## Creating and Training the Model"
      ]
    },
    {
      "cell_type": "markdown",
      "metadata": {
        "id": "hQi2T_gbnO2P"
      },
      "source": [
        "## Model Evaluation\n",
        "\n",
        "Let's evaluate the model by checking out it's coefficients and how you can interpret them."
      ]
    },
    {
      "cell_type": "markdown",
      "source": [],
      "metadata": {
        "id": "wejQSiBitPby"
      }
    },
    {
      "cell_type": "markdown",
      "metadata": {
        "id": "aKW2IiSynO2b"
      },
      "source": [
        "**Residual Histogram**"
      ]
    },
    {
      "cell_type": "markdown",
      "metadata": {
        "id": "Znh-A9YrnO2d"
      },
      "source": [
        "## Regression Evaluation Metrics\n",
        "\n",
        "\n",
        "Here are three common evaluation metrics for regression problems:\n",
        "\n",
        "**Mean Absolute Error** (MAE) is the mean of the absolute value of the errors:\n",
        "\n",
        "$$\\frac 1n\\sum_{i=1}^n|y_i-\\hat{y}_i|$$\n",
        "\n",
        "**Mean Squared Error** (MSE) is the mean of the squared errors:\n",
        "\n",
        "$$\\frac 1n\\sum_{i=1}^n(y_i-\\hat{y}_i)^2$$\n",
        "\n",
        "**Root Mean Squared Error** (RMSE) is the square root of the mean of the squared errors:\n",
        "\n",
        "$$\\sqrt{\\frac 1n\\sum_{i=1}^n(y_i-\\hat{y}_i)^2}$$\n",
        "\n",
        "Comparing these metrics:\n",
        "\n",
        "- **MAE** is the easiest to understand, because it's the average error.\n",
        "- **MSE** is more popular than MAE, because MSE \"punishes\" larger errors, which tends to be useful in the real world.\n",
        "- **RMSE** is even more popular than MSE, because RMSE is interpretable in the \"y\" units.\n",
        "\n",
        "All of these are **loss functions**, because you want to minimize them."
      ]
    },
    {
      "cell_type": "code",
      "execution_count": null,
      "metadata": {
        "id": "ePMew8WdnO2d"
      },
      "outputs": [],
      "source": [
        "# Importing metrics from sklearn\n",
        "from sklearn import metrics"
      ]
    },
    {
      "cell_type": "code",
      "execution_count": null,
      "metadata": {
        "id": "Ev152sRanO2f"
      },
      "outputs": [],
      "source": [
        "# Importing metrics from sklearn\n",
        "from sklearn import metrics\n",
        "\n",
        "# Show the values of MAE, MSE, RMSE\n",
        "print('MAE:', metrics.mean_absolute_error(y_test, test_predictions))\n",
        "print('MSE:', metrics.mean_squared_error(y_test, test_predictions))\n",
        "print('RMSE:', np.sqrt(metrics.mean_squared_error(y_test, test_predictions)))"
      ]
    }
  ],
  "metadata": {
    "colab": {
      "provenance": [],
      "include_colab_link": true
    },
    "environment": {
      "kernel": "python3",
      "name": "tf2-gpu.2-6.m87",
      "type": "gcloud",
      "uri": "gcr.io/deeplearning-platform-release/tf2-gpu.2-6:m87"
    },
    "kernelspec": {
      "display_name": "Python 3",
      "language": "python",
      "name": "python3"
    },
    "language_info": {
      "codemirror_mode": {
        "name": "ipython",
        "version": 3
      },
      "file_extension": ".py",
      "mimetype": "text/x-python",
      "name": "python",
      "nbconvert_exporter": "python",
      "pygments_lexer": "ipython3",
      "version": "3.7.12"
    }
  },
  "nbformat": 4,
  "nbformat_minor": 0
}