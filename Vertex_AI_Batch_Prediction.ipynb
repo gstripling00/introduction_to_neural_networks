{
  "cells": [
    {
      "cell_type": "markdown",
      "metadata": {
        "id": "view-in-github",
        "colab_type": "text"
      },
      "source": [
        "<a href=\"https://colab.research.google.com/github/gstripling00/introduction_to_neural_networks/blob/Notebooks/Vertex_AI_Batch_Prediction.ipynb\" target=\"_parent\"><img src=\"https://colab.research.google.com/assets/colab-badge.svg\" alt=\"Open In Colab\"/></a>"
      ]
    },
    {
      "cell_type": "markdown",
      "metadata": {
        "id": "2HayZwm7VAYe"
      },
      "source": [
        "# Vertex AI Batch Prediction\n",
        "\n",
        "This is the **third** part of a series. I recommend to check out the previous articles as prerequisite for this part. \n",
        "\n",
        "1. [Train Machine Learning models with Vertex AI Training](https://medium.com/google-cloud/how-to-train-ml-models-with-vertex-ai-training-f9046bfbcfab)\n",
        "2. [Serving Machine Learning models with Google Vertex AI](https://medium.com/google-cloud/serving-machine-learning-models-with-google-vertex-ai-5d9644ededa3)\n",
        "3. TODO add article as soon as published\n",
        "\n",
        "\n",
        "Your feedback and questions are highly appreciated. <br>You can find me on Twitter [@HeyerSascha](https://twitter.com/HeyerSascha) or connect with me via [LinkedIn](https://www.linkedin.com/in/saschaheyer/). <br>Even better, subscribe to my [YouTube](https://www.youtube.com/channel/UC--Sm3D-rqCUeLXmraypdPQ) channel ❤️."
      ]
    },
    {
      "cell_type": "markdown",
      "source": [
        "## Authentication and Dependencies"
      ],
      "metadata": {
        "id": "_qu1pYosDmdG"
      }
    },
    {
      "cell_type": "code",
      "execution_count": null,
      "metadata": {
        "id": "hmHHZZQEVBmM"
      },
      "outputs": [],
      "source": [
        "from google.colab import auth\n",
        "auth.authenticate_user()"
      ]
    },
    {
      "cell_type": "code",
      "execution_count": null,
      "metadata": {
        "id": "-oHvleLfVCom"
      },
      "outputs": [],
      "source": [
        "! gcloud config set project sascha-playground-doit"
      ]
    },
    {
      "cell_type": "code",
      "execution_count": null,
      "metadata": {
        "id": "fk2abD_bXaoe"
      },
      "outputs": [],
      "source": [
        "!pip install google-cloud-aiplatform==1.20.0 \"shapely<2\" # temp workaround see https://github.com/googleapis/python-aiplatform/issues/1852"
      ]
    },
    {
      "cell_type": "markdown",
      "source": [
        "## Init SDK"
      ],
      "metadata": {
        "id": "viFI5VuGDpX-"
      }
    },
    {
      "cell_type": "code",
      "execution_count": null,
      "metadata": {
        "id": "ry4ARzQ4XXDY"
      },
      "outputs": [],
      "source": [
        "from google.cloud import aiplatform "
      ]
    },
    {
      "cell_type": "code",
      "execution_count": null,
      "metadata": {
        "id": "BkEmIRVIA-z2"
      },
      "outputs": [],
      "source": [
        "aiplatform.init(project='sascha-playground-doit')"
      ]
    },
    {
      "cell_type": "markdown",
      "metadata": {
        "id": "NBuOjWSLVDJ5"
      },
      "source": [
        "## Upload model\n",
        "\n",
        "If you want to know how the container-image (prediction container) was created check out my previous article: </br>[Serving Machine Learning models with Google Vertex AI](https://medium.com/google-cloud/serving-machine-learning-models-with-google-vertex-ai-5d9644ededa3)"
      ]
    },
    {
      "cell_type": "markdown",
      "metadata": {
        "id": "4bCoxllfZo67"
      },
      "source": [
        "### gcloud"
      ]
    },
    {
      "cell_type": "code",
      "execution_count": null,
      "metadata": {
        "id": "w-Rk_yvoVm9U"
      },
      "outputs": [],
      "source": [
        "!gcloud ai models upload \\\n",
        "  --container-ports=80 \\\n",
        "  --container-predict-route=\"/predict\" \\\n",
        "  --container-health-route=\"/health\" \\\n",
        "  --region=us-central1 \\\n",
        "  --display-name=sentiment-batch-example \\\n",
        "  --container-image-uri=gcr.io/sascha-playground-doit/sentiment-fast-api"
      ]
    },
    {
      "cell_type": "markdown",
      "metadata": {
        "id": "6HOxCDDd-nA4"
      },
      "source": [
        "### SDK"
      ]
    },
    {
      "cell_type": "code",
      "execution_count": null,
      "metadata": {
        "id": "l9OEYjMS-KkV"
      },
      "outputs": [],
      "source": [
        " model = aiplatform.Model.upload(\n",
        "        display_name=\"sentiment-batch-example\",\n",
        "        serving_container_image_uri=\"gcr.io/sascha-playground-doit/sentiment-fast-api\",\n",
        "        serving_container_predict_route=\"/predict\",\n",
        "        serving_container_health_route=\"/health\",\n",
        "        serving_container_ports=[80]\n",
        "    )"
      ]
    },
    {
      "cell_type": "markdown",
      "metadata": {
        "id": "hhT1lKzi-oPx"
      },
      "source": [
        "## Reference the model"
      ]
    },
    {
      "cell_type": "code",
      "execution_count": null,
      "metadata": {
        "id": "LeZMSPYcVz7V"
      },
      "outputs": [],
      "source": [
        "#you can use the following code to create a reference to a model if the model is already uploaded \n",
        "model = aiplatform.Model('projects/sascha-playground-doit/locations/us-central1/models/6575275247170224128')"
      ]
    },
    {
      "cell_type": "markdown",
      "source": [
        "## Start Batch Prediction / Cloud Storage"
      ],
      "metadata": {
        "id": "UUrdgxi7DzTS"
      }
    },
    {
      "cell_type": "code",
      "execution_count": null,
      "metadata": {
        "id": "tdnxFG_5ZG_g"
      },
      "outputs": [],
      "source": [
        "batch_prediction_job = model.batch_predict(\n",
        "    instances_format='jsonl',\n",
        "   job_display_name=f\"batch_predict_sentiment\",\n",
        "    gcs_source=['gs://doit-vertex-demo/batch/input/batch-key-2.jsonl'],\n",
        "    gcs_destination_prefix='gs://doit-vertex-demo/batch/output',\n",
        "    machine_type=\"n1-standard-4\",\n",
        "    starting_replica_count=4\n",
        ")"
      ]
    },
    {
      "cell_type": "markdown",
      "source": [
        "## Start Batch Prediction / BigQuery"
      ],
      "metadata": {
        "id": "DH0rnqZpD7Yt"
      }
    },
    {
      "cell_type": "code",
      "execution_count": null,
      "metadata": {
        "colab": {
          "background_save": true
        },
        "id": "65f09kmlbmqf"
      },
      "outputs": [],
      "source": [
        "batch_prediction_job = model.batch_predict(\n",
        "    job_display_name=f\"batch_predict_sentiment\",\n",
        "    machine_type=\"n1-standard-4\",\n",
        "    starting_replica_count=2,\n",
        "\n",
        "    instances_format=\"bigquery\",\n",
        "    predictions_format=\"bigquery\",\n",
        "    bigquery_source='bq://sascha-playground-doit.batch.data',\n",
        "    bigquery_destination_prefix=\"bq://sascha-playground-doit.batch\",\n",
        ")"
      ]
    },
    {
      "cell_type": "markdown",
      "metadata": {
        "id": "1W2K4KjGanLO"
      },
      "source": [
        "## IMDB Dataset preprocessing (dataset used in this notebook)\n",
        "Using the test dataset to run the batch prediction on. \n",
        "\n",
        "https://ai.stanford.edu/~amaas/data/sentiment/"
      ]
    },
    {
      "cell_type": "code",
      "execution_count": null,
      "metadata": {
        "id": "KaIBXwONaw_e"
      },
      "outputs": [],
      "source": [
        "!wget https://ai.stanford.edu/~amaas/data/sentiment/aclImdb_v1.tar.gz"
      ]
    },
    {
      "cell_type": "code",
      "execution_count": null,
      "metadata": {
        "id": "thkrIkO8a3Ng"
      },
      "outputs": [],
      "source": [
        "!tar -xvf \"/content/aclImdb_v1.tar.gz\""
      ]
    },
    {
      "cell_type": "code",
      "execution_count": null,
      "metadata": {
        "id": "fuVlQh_gbxJh"
      },
      "outputs": [],
      "source": [
        "!pip install jsonlines==3.1.0"
      ]
    },
    {
      "cell_type": "code",
      "execution_count": null,
      "metadata": {
        "id": "gZnbpYEEa9ww"
      },
      "outputs": [],
      "source": [
        "import jsonlines\n",
        "import os\n",
        "import csv\n",
        "\n",
        "sentences = []\n",
        "sentences_raw = []\n",
        "\n",
        "index = 0\n",
        "\n",
        "path = '/content/aclImdb/test/neg'\n",
        "for filename in os.listdir(path):\n",
        "    if filename.endswith(\"txt\"):\n",
        "      \n",
        "      with open(path + '/' + filename, \"r\") as file:\n",
        "        text = file.read()\n",
        "        sentence = {\"text\":text, \"key\": index, \"test\": \"test\"}\n",
        "        sentences.append(sentence)\n",
        "        sentences_raw.append(str(text))\n",
        "        index = index + 1\n",
        "\n",
        "path = '/content/aclImdb/test/pos'\n",
        "for filename in os.listdir(path):\n",
        "    if filename.endswith(\"txt\"):\n",
        "\n",
        "      with open(path + '/' + filename, \"r\") as file:\n",
        "        text = file.read()\n",
        "        sentence = {\"text\":text, \"key\": index, \"test\": \"test\"}\n",
        "        sentences.append(sentence)\n",
        "        sentences_raw.append(str(text))\n",
        "        index = index + 1\n",
        "\n",
        "with jsonlines.open('batch-key-2.jsonl', 'w') as writer:\n",
        "      writer.write_all(sentences)\n",
        "\n"
      ]
    },
    {
      "cell_type": "code",
      "execution_count": null,
      "metadata": {
        "id": "DUVJxRU-Qio1"
      },
      "outputs": [],
      "source": [
        "print(sentences_raw[1])"
      ]
    }
  ],
  "metadata": {
    "colab": {
      "provenance": [],
      "toc_visible": true,
      "include_colab_link": true
    },
    "kernelspec": {
      "display_name": "Python 3",
      "name": "python3"
    },
    "language_info": {
      "name": "python"
    }
  },
  "nbformat": 4,
  "nbformat_minor": 0
}