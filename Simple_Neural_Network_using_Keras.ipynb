{
  "cells": [
    {
      "cell_type": "markdown",
      "metadata": {
        "id": "view-in-github",
        "colab_type": "text"
      },
      "source": [
        "<a href=\"https://colab.research.google.com/github/gstripling00/introduction_to_neural_networks/blob/Notebooks/Simple_Neural_Network_using_Keras.ipynb\" target=\"_parent\"><img src=\"https://colab.research.google.com/assets/colab-badge.svg\" alt=\"Open In Colab\"/></a>"
      ]
    },
    {
      "cell_type": "markdown",
      "metadata": {
        "id": "DGPlYumZnO1t"
      },
      "source": [
        "# Simple Neural Network using Keras\n",
        "\n",
        "\n",
        "## Introduction \n",
        "I created a prediction model for sales analysis. In this model, we need to feed the advertising budget of TV, radio, and newspapers to the model and the model will forecast the possible sales. For designing the model, the machine learning method I opted for is simple linear regression, and the programming was done in Jupyter notebook.\n",
        "\n",
        "## Dataset\n",
        "The advertising dataset captures the sales revenue generated with respect to advertisement costs across numerous platforms like radio, TV, and newspapers.\n",
        "\n",
        "### Features:\n",
        "\n",
        "#### Digital: advertising dollars spent on Internet.\n",
        "#### TV: advertising dollars spent on TV.\n",
        "#### Radio: advertising dollars spent on Radio.\n",
        "#### Newspaper: advertising dollars spent on Newspaper.\n",
        "\n",
        "### Target (Label):\n",
        "#### Sales budget"
      ]
    },
    {
      "cell_type": "markdown",
      "metadata": {
        "id": "AsHg6SD2nO1v"
      },
      "source": [
        "### Import Libraries"
      ]
    },
    {
      "cell_type": "code",
      "execution_count": 1,
      "metadata": {
        "id": "gEXV-RxPnO1w"
      },
      "outputs": [],
      "source": [
        "# Importing Pandas, a data processing and CSV file I/O libraries\n",
        "import os \n",
        "import pandas as pd\n",
        "import numpy as np\n",
        "import matplotlib.pyplot as plt\n",
        "import seaborn as sns # Seaborn is a Python data visualization library based on matplotlib. \n",
        "%matplotlib inline   \n",
        "import sklearn\n",
        "\n",
        "##Import the libraries\n",
        "import tensorflow as tf\n",
        "from tensorflow import keras\n",
        "from keras.models import Sequential\n",
        "from keras.layers import Dense\n",
        "\n",
        "from sklearn.model_selection import train_test_split\n",
        "from keras.callbacks import EarlyStopping\n",
        "\n",
        "# Keras specific\n",
        "import keras\n"
      ]
    },
    {
      "cell_type": "markdown",
      "metadata": {
        "id": "dr2TkzKRnO1z"
      },
      "source": [
        "###  Load the Dataset\n",
        "\n",
        "You will use the [USA housing prices](https://www.kaggle.com/kanths028/usa-housing) dataset found on Kaggle.  The data contains the following columns:\n",
        "\n",
        "* 'Avg. Area Income': Avg. Income of residents of the city house is located in.\n",
        "* 'Avg. Area House Age': Avg Age of Houses in same city\n",
        "* 'Avg. Area Number of Rooms': Avg Number of Rooms for Houses in same city\n",
        "* 'Avg. Area Number of Bedrooms': Avg Number of Bedrooms for Houses in same city\n",
        "* 'Area Population': Population of city house is located in\n",
        "* 'Price': Price that the house sold at\n",
        "* 'Address': Address for the house"
      ]
    },
    {
      "cell_type": "code",
      "source": [
        "# Next, you read the dataset into a Pandas dataframe.\n",
        "\n",
        "url = 'https://github.com/gstripling00/introduction_to_neural_networks/blob/Datasets/Advertising_2023.csv?raw=true'\n",
        "advertising_df= pd.read_csv(url,index_col=0)"
      ],
      "metadata": {
        "id": "wSDtqpd-Dk9H"
      },
      "execution_count": 2,
      "outputs": []
    },
    {
      "cell_type": "code",
      "source": [
        "advertising_df.head()"
      ],
      "metadata": {
        "colab": {
          "base_uri": "https://localhost:8080/",
          "height": 206
        },
        "id": "Ue_jPccWnT30",
        "outputId": "02f383ef-5366-47c6-f32b-a583955ab833"
      },
      "execution_count": 3,
      "outputs": [
        {
          "output_type": "execute_result",
          "data": {
            "text/plain": [
              "   digital     TV  radio  newspaper  sales\n",
              "1   345.15  156.0   37.8       69.2   22.1\n",
              "2    66.75   46.0   39.3       45.1   10.4\n",
              "3    25.80   18.3   45.9       69.3    9.3\n",
              "4   227.25  145.1   41.3       58.5   18.5\n",
              "5   271.20  165.2   10.8       58.4   12.9"
            ],
            "text/html": [
              "\n",
              "  <div id=\"df-2e9899cf-da21-407e-8329-040d9e5b7dfb\">\n",
              "    <div class=\"colab-df-container\">\n",
              "      <div>\n",
              "<style scoped>\n",
              "    .dataframe tbody tr th:only-of-type {\n",
              "        vertical-align: middle;\n",
              "    }\n",
              "\n",
              "    .dataframe tbody tr th {\n",
              "        vertical-align: top;\n",
              "    }\n",
              "\n",
              "    .dataframe thead th {\n",
              "        text-align: right;\n",
              "    }\n",
              "</style>\n",
              "<table border=\"1\" class=\"dataframe\">\n",
              "  <thead>\n",
              "    <tr style=\"text-align: right;\">\n",
              "      <th></th>\n",
              "      <th>digital</th>\n",
              "      <th>TV</th>\n",
              "      <th>radio</th>\n",
              "      <th>newspaper</th>\n",
              "      <th>sales</th>\n",
              "    </tr>\n",
              "  </thead>\n",
              "  <tbody>\n",
              "    <tr>\n",
              "      <th>1</th>\n",
              "      <td>345.15</td>\n",
              "      <td>156.0</td>\n",
              "      <td>37.8</td>\n",
              "      <td>69.2</td>\n",
              "      <td>22.1</td>\n",
              "    </tr>\n",
              "    <tr>\n",
              "      <th>2</th>\n",
              "      <td>66.75</td>\n",
              "      <td>46.0</td>\n",
              "      <td>39.3</td>\n",
              "      <td>45.1</td>\n",
              "      <td>10.4</td>\n",
              "    </tr>\n",
              "    <tr>\n",
              "      <th>3</th>\n",
              "      <td>25.80</td>\n",
              "      <td>18.3</td>\n",
              "      <td>45.9</td>\n",
              "      <td>69.3</td>\n",
              "      <td>9.3</td>\n",
              "    </tr>\n",
              "    <tr>\n",
              "      <th>4</th>\n",
              "      <td>227.25</td>\n",
              "      <td>145.1</td>\n",
              "      <td>41.3</td>\n",
              "      <td>58.5</td>\n",
              "      <td>18.5</td>\n",
              "    </tr>\n",
              "    <tr>\n",
              "      <th>5</th>\n",
              "      <td>271.20</td>\n",
              "      <td>165.2</td>\n",
              "      <td>10.8</td>\n",
              "      <td>58.4</td>\n",
              "      <td>12.9</td>\n",
              "    </tr>\n",
              "  </tbody>\n",
              "</table>\n",
              "</div>\n",
              "      <button class=\"colab-df-convert\" onclick=\"convertToInteractive('df-2e9899cf-da21-407e-8329-040d9e5b7dfb')\"\n",
              "              title=\"Convert this dataframe to an interactive table.\"\n",
              "              style=\"display:none;\">\n",
              "        \n",
              "  <svg xmlns=\"http://www.w3.org/2000/svg\" height=\"24px\"viewBox=\"0 0 24 24\"\n",
              "       width=\"24px\">\n",
              "    <path d=\"M0 0h24v24H0V0z\" fill=\"none\"/>\n",
              "    <path d=\"M18.56 5.44l.94 2.06.94-2.06 2.06-.94-2.06-.94-.94-2.06-.94 2.06-2.06.94zm-11 1L8.5 8.5l.94-2.06 2.06-.94-2.06-.94L8.5 2.5l-.94 2.06-2.06.94zm10 10l.94 2.06.94-2.06 2.06-.94-2.06-.94-.94-2.06-.94 2.06-2.06.94z\"/><path d=\"M17.41 7.96l-1.37-1.37c-.4-.4-.92-.59-1.43-.59-.52 0-1.04.2-1.43.59L10.3 9.45l-7.72 7.72c-.78.78-.78 2.05 0 2.83L4 21.41c.39.39.9.59 1.41.59.51 0 1.02-.2 1.41-.59l7.78-7.78 2.81-2.81c.8-.78.8-2.07 0-2.86zM5.41 20L4 18.59l7.72-7.72 1.47 1.35L5.41 20z\"/>\n",
              "  </svg>\n",
              "      </button>\n",
              "      \n",
              "  <style>\n",
              "    .colab-df-container {\n",
              "      display:flex;\n",
              "      flex-wrap:wrap;\n",
              "      gap: 12px;\n",
              "    }\n",
              "\n",
              "    .colab-df-convert {\n",
              "      background-color: #E8F0FE;\n",
              "      border: none;\n",
              "      border-radius: 50%;\n",
              "      cursor: pointer;\n",
              "      display: none;\n",
              "      fill: #1967D2;\n",
              "      height: 32px;\n",
              "      padding: 0 0 0 0;\n",
              "      width: 32px;\n",
              "    }\n",
              "\n",
              "    .colab-df-convert:hover {\n",
              "      background-color: #E2EBFA;\n",
              "      box-shadow: 0px 1px 2px rgba(60, 64, 67, 0.3), 0px 1px 3px 1px rgba(60, 64, 67, 0.15);\n",
              "      fill: #174EA6;\n",
              "    }\n",
              "\n",
              "    [theme=dark] .colab-df-convert {\n",
              "      background-color: #3B4455;\n",
              "      fill: #D2E3FC;\n",
              "    }\n",
              "\n",
              "    [theme=dark] .colab-df-convert:hover {\n",
              "      background-color: #434B5C;\n",
              "      box-shadow: 0px 1px 3px 1px rgba(0, 0, 0, 0.15);\n",
              "      filter: drop-shadow(0px 1px 2px rgba(0, 0, 0, 0.3));\n",
              "      fill: #FFFFFF;\n",
              "    }\n",
              "  </style>\n",
              "\n",
              "      <script>\n",
              "        const buttonEl =\n",
              "          document.querySelector('#df-2e9899cf-da21-407e-8329-040d9e5b7dfb button.colab-df-convert');\n",
              "        buttonEl.style.display =\n",
              "          google.colab.kernel.accessAllowed ? 'block' : 'none';\n",
              "\n",
              "        async function convertToInteractive(key) {\n",
              "          const element = document.querySelector('#df-2e9899cf-da21-407e-8329-040d9e5b7dfb');\n",
              "          const dataTable =\n",
              "            await google.colab.kernel.invokeFunction('convertToInteractive',\n",
              "                                                     [key], {});\n",
              "          if (!dataTable) return;\n",
              "\n",
              "          const docLinkHtml = 'Like what you see? Visit the ' +\n",
              "            '<a target=\"_blank\" href=https://colab.research.google.com/notebooks/data_table.ipynb>data table notebook</a>'\n",
              "            + ' to learn more about interactive tables.';\n",
              "          element.innerHTML = '';\n",
              "          dataTable['output_type'] = 'display_data';\n",
              "          await google.colab.output.renderOutput(dataTable, element);\n",
              "          const docLink = document.createElement('div');\n",
              "          docLink.innerHTML = docLinkHtml;\n",
              "          element.appendChild(docLink);\n",
              "        }\n",
              "      </script>\n",
              "    </div>\n",
              "  </div>\n",
              "  "
            ]
          },
          "metadata": {},
          "execution_count": 3
        }
      ]
    },
    {
      "cell_type": "code",
      "source": [
        "# Pandas info() function is used to get a concise summary of the dataframe.\n",
        "advertising_df.info()"
      ],
      "metadata": {
        "colab": {
          "base_uri": "https://localhost:8080/"
        },
        "id": "coiKjFmcnaHU",
        "outputId": "18088928-2d73-4ddd-dd71-e14d4a3d4ab1"
      },
      "execution_count": 4,
      "outputs": [
        {
          "output_type": "stream",
          "name": "stdout",
          "text": [
            "<class 'pandas.core.frame.DataFrame'>\n",
            "Int64Index: 1199 entries, 1 to 1197\n",
            "Data columns (total 5 columns):\n",
            " #   Column     Non-Null Count  Dtype  \n",
            "---  ------     --------------  -----  \n",
            " 0   digital    1199 non-null   float64\n",
            " 1   TV         1199 non-null   float64\n",
            " 2   radio      1199 non-null   float64\n",
            " 3   newspaper  1199 non-null   float64\n",
            " 4   sales      1199 non-null   float64\n",
            "dtypes: float64(5)\n",
            "memory usage: 56.2 KB\n"
          ]
        }
      ]
    },
    {
      "cell_type": "code",
      "source": [
        "'''====== Data Exploration and Preprocessing ======'''\n",
        "\n",
        "#shape of dataframe - 1199 rows, five columns\n",
        "advertising_df.shape"
      ],
      "metadata": {
        "colab": {
          "base_uri": "https://localhost:8080/"
        },
        "id": "IzyfOhGaEzlL",
        "outputId": "758523b6-ece8-4a47-da78-a96dfccde9b5"
      },
      "execution_count": 5,
      "outputs": [
        {
          "output_type": "execute_result",
          "data": {
            "text/plain": [
              "(1199, 5)"
            ]
          },
          "metadata": {},
          "execution_count": 5
        }
      ]
    },
    {
      "cell_type": "markdown",
      "metadata": {
        "id": "6nNrSEBnBk71"
      },
      "source": [
        "Let's check for any null values."
      ]
    },
    {
      "cell_type": "code",
      "execution_count": 6,
      "metadata": {
        "colab": {
          "base_uri": "https://localhost:8080/"
        },
        "id": "P7gHdfMdBk71",
        "outputId": "cfc52e32-8314-4f23-b83c-a5a8c3f3b750"
      },
      "outputs": [
        {
          "output_type": "execute_result",
          "data": {
            "text/plain": [
              "digital      0\n",
              "TV           0\n",
              "radio        0\n",
              "newspaper    0\n",
              "sales        0\n",
              "dtype: int64"
            ]
          },
          "metadata": {},
          "execution_count": 6
        }
      ],
      "source": [
        "# The isnull() method is used to check and manage NULL values in a data frame.\n",
        "advertising_df.isnull().sum()"
      ]
    },
    {
      "cell_type": "code",
      "source": [
        "#check there are any NAN values\n",
        "advertising_df.isnull().values.any()"
      ],
      "metadata": {
        "colab": {
          "base_uri": "https://localhost:8080/"
        },
        "id": "hGbU2YpwFBIC",
        "outputId": "af057201-a571-48be-9dcd-0c9bd5ed4c6d"
      },
      "execution_count": 7,
      "outputs": [
        {
          "output_type": "execute_result",
          "data": {
            "text/plain": [
              "False"
            ]
          },
          "metadata": {},
          "execution_count": 7
        }
      ]
    },
    {
      "cell_type": "code",
      "source": [
        "'''=== show the statistics analysis of each attributes ==='''\n",
        "\n",
        "#descriptive statistics \n",
        "advertising_df.describe()"
      ],
      "metadata": {
        "colab": {
          "base_uri": "https://localhost:8080/",
          "height": 300
        },
        "id": "tjdWVA7lFQe0",
        "outputId": "cd7aebb5-9a59-4823-828c-cc6e15543ea0"
      },
      "execution_count": 8,
      "outputs": [
        {
          "output_type": "execute_result",
          "data": {
            "text/plain": [
              "           digital          TV        radio    newspaper        sales\n",
              "count  1199.000000  1199.00000  1199.000000  1199.000000  1199.000000\n",
              "mean    135.472394   146.61985    23.240617    30.529942    14.005505\n",
              "std     135.730821    85.61047    14.820827    21.712507     5.202804\n",
              "min       0.300000     0.70000     0.000000     0.300000     1.600000\n",
              "25%      24.250000    73.40000     9.950000    12.800000    10.300000\n",
              "50%      64.650000   149.70000    22.500000    25.600000    12.900000\n",
              "75%     256.950000   218.50000    36.500000    45.100000    17.400000\n",
              "max     444.600000   296.40000    49.600000   114.000000    27.000000"
            ],
            "text/html": [
              "\n",
              "  <div id=\"df-b655502c-af55-42e7-a96c-ee35b6808adf\">\n",
              "    <div class=\"colab-df-container\">\n",
              "      <div>\n",
              "<style scoped>\n",
              "    .dataframe tbody tr th:only-of-type {\n",
              "        vertical-align: middle;\n",
              "    }\n",
              "\n",
              "    .dataframe tbody tr th {\n",
              "        vertical-align: top;\n",
              "    }\n",
              "\n",
              "    .dataframe thead th {\n",
              "        text-align: right;\n",
              "    }\n",
              "</style>\n",
              "<table border=\"1\" class=\"dataframe\">\n",
              "  <thead>\n",
              "    <tr style=\"text-align: right;\">\n",
              "      <th></th>\n",
              "      <th>digital</th>\n",
              "      <th>TV</th>\n",
              "      <th>radio</th>\n",
              "      <th>newspaper</th>\n",
              "      <th>sales</th>\n",
              "    </tr>\n",
              "  </thead>\n",
              "  <tbody>\n",
              "    <tr>\n",
              "      <th>count</th>\n",
              "      <td>1199.000000</td>\n",
              "      <td>1199.00000</td>\n",
              "      <td>1199.000000</td>\n",
              "      <td>1199.000000</td>\n",
              "      <td>1199.000000</td>\n",
              "    </tr>\n",
              "    <tr>\n",
              "      <th>mean</th>\n",
              "      <td>135.472394</td>\n",
              "      <td>146.61985</td>\n",
              "      <td>23.240617</td>\n",
              "      <td>30.529942</td>\n",
              "      <td>14.005505</td>\n",
              "    </tr>\n",
              "    <tr>\n",
              "      <th>std</th>\n",
              "      <td>135.730821</td>\n",
              "      <td>85.61047</td>\n",
              "      <td>14.820827</td>\n",
              "      <td>21.712507</td>\n",
              "      <td>5.202804</td>\n",
              "    </tr>\n",
              "    <tr>\n",
              "      <th>min</th>\n",
              "      <td>0.300000</td>\n",
              "      <td>0.70000</td>\n",
              "      <td>0.000000</td>\n",
              "      <td>0.300000</td>\n",
              "      <td>1.600000</td>\n",
              "    </tr>\n",
              "    <tr>\n",
              "      <th>25%</th>\n",
              "      <td>24.250000</td>\n",
              "      <td>73.40000</td>\n",
              "      <td>9.950000</td>\n",
              "      <td>12.800000</td>\n",
              "      <td>10.300000</td>\n",
              "    </tr>\n",
              "    <tr>\n",
              "      <th>50%</th>\n",
              "      <td>64.650000</td>\n",
              "      <td>149.70000</td>\n",
              "      <td>22.500000</td>\n",
              "      <td>25.600000</td>\n",
              "      <td>12.900000</td>\n",
              "    </tr>\n",
              "    <tr>\n",
              "      <th>75%</th>\n",
              "      <td>256.950000</td>\n",
              "      <td>218.50000</td>\n",
              "      <td>36.500000</td>\n",
              "      <td>45.100000</td>\n",
              "      <td>17.400000</td>\n",
              "    </tr>\n",
              "    <tr>\n",
              "      <th>max</th>\n",
              "      <td>444.600000</td>\n",
              "      <td>296.40000</td>\n",
              "      <td>49.600000</td>\n",
              "      <td>114.000000</td>\n",
              "      <td>27.000000</td>\n",
              "    </tr>\n",
              "  </tbody>\n",
              "</table>\n",
              "</div>\n",
              "      <button class=\"colab-df-convert\" onclick=\"convertToInteractive('df-b655502c-af55-42e7-a96c-ee35b6808adf')\"\n",
              "              title=\"Convert this dataframe to an interactive table.\"\n",
              "              style=\"display:none;\">\n",
              "        \n",
              "  <svg xmlns=\"http://www.w3.org/2000/svg\" height=\"24px\"viewBox=\"0 0 24 24\"\n",
              "       width=\"24px\">\n",
              "    <path d=\"M0 0h24v24H0V0z\" fill=\"none\"/>\n",
              "    <path d=\"M18.56 5.44l.94 2.06.94-2.06 2.06-.94-2.06-.94-.94-2.06-.94 2.06-2.06.94zm-11 1L8.5 8.5l.94-2.06 2.06-.94-2.06-.94L8.5 2.5l-.94 2.06-2.06.94zm10 10l.94 2.06.94-2.06 2.06-.94-2.06-.94-.94-2.06-.94 2.06-2.06.94z\"/><path d=\"M17.41 7.96l-1.37-1.37c-.4-.4-.92-.59-1.43-.59-.52 0-1.04.2-1.43.59L10.3 9.45l-7.72 7.72c-.78.78-.78 2.05 0 2.83L4 21.41c.39.39.9.59 1.41.59.51 0 1.02-.2 1.41-.59l7.78-7.78 2.81-2.81c.8-.78.8-2.07 0-2.86zM5.41 20L4 18.59l7.72-7.72 1.47 1.35L5.41 20z\"/>\n",
              "  </svg>\n",
              "      </button>\n",
              "      \n",
              "  <style>\n",
              "    .colab-df-container {\n",
              "      display:flex;\n",
              "      flex-wrap:wrap;\n",
              "      gap: 12px;\n",
              "    }\n",
              "\n",
              "    .colab-df-convert {\n",
              "      background-color: #E8F0FE;\n",
              "      border: none;\n",
              "      border-radius: 50%;\n",
              "      cursor: pointer;\n",
              "      display: none;\n",
              "      fill: #1967D2;\n",
              "      height: 32px;\n",
              "      padding: 0 0 0 0;\n",
              "      width: 32px;\n",
              "    }\n",
              "\n",
              "    .colab-df-convert:hover {\n",
              "      background-color: #E2EBFA;\n",
              "      box-shadow: 0px 1px 2px rgba(60, 64, 67, 0.3), 0px 1px 3px 1px rgba(60, 64, 67, 0.15);\n",
              "      fill: #174EA6;\n",
              "    }\n",
              "\n",
              "    [theme=dark] .colab-df-convert {\n",
              "      background-color: #3B4455;\n",
              "      fill: #D2E3FC;\n",
              "    }\n",
              "\n",
              "    [theme=dark] .colab-df-convert:hover {\n",
              "      background-color: #434B5C;\n",
              "      box-shadow: 0px 1px 3px 1px rgba(0, 0, 0, 0.15);\n",
              "      filter: drop-shadow(0px 1px 2px rgba(0, 0, 0, 0.3));\n",
              "      fill: #FFFFFF;\n",
              "    }\n",
              "  </style>\n",
              "\n",
              "      <script>\n",
              "        const buttonEl =\n",
              "          document.querySelector('#df-b655502c-af55-42e7-a96c-ee35b6808adf button.colab-df-convert');\n",
              "        buttonEl.style.display =\n",
              "          google.colab.kernel.accessAllowed ? 'block' : 'none';\n",
              "\n",
              "        async function convertToInteractive(key) {\n",
              "          const element = document.querySelector('#df-b655502c-af55-42e7-a96c-ee35b6808adf');\n",
              "          const dataTable =\n",
              "            await google.colab.kernel.invokeFunction('convertToInteractive',\n",
              "                                                     [key], {});\n",
              "          if (!dataTable) return;\n",
              "\n",
              "          const docLinkHtml = 'Like what you see? Visit the ' +\n",
              "            '<a target=\"_blank\" href=https://colab.research.google.com/notebooks/data_table.ipynb>data table notebook</a>'\n",
              "            + ' to learn more about interactive tables.';\n",
              "          element.innerHTML = '';\n",
              "          dataTable['output_type'] = 'display_data';\n",
              "          await google.colab.output.renderOutput(dataTable, element);\n",
              "          const docLink = document.createElement('div');\n",
              "          docLink.innerHTML = docLinkHtml;\n",
              "          element.appendChild(docLink);\n",
              "        }\n",
              "      </script>\n",
              "    </div>\n",
              "  </div>\n",
              "  "
            ]
          },
          "metadata": {},
          "execution_count": 8
        }
      ]
    },
    {
      "cell_type": "markdown",
      "metadata": {
        "id": "QWVdsrmgnO1_"
      },
      "source": [
        "## Exploratory Data Analysis (EDA)\n",
        "\n",
        "Let's create some simple plots to check out the data!  "
      ]
    },
    {
      "cell_type": "code",
      "source": [
        "# The heatmap is a way of representing the data in a 2-dimensional form. The data values are represented as colors in the graph.\n",
        "# The goal of the heatmap is to provide a colored visual summary of information.\n",
        "sns.heatmap(advertising_df.corr()) "
      ],
      "metadata": {
        "colab": {
          "base_uri": "https://localhost:8080/",
          "height": 287
        },
        "id": "qqsAMR1rov7F",
        "outputId": "971bd709-6d84-4782-848d-9a6c921e311f"
      },
      "execution_count": 9,
      "outputs": [
        {
          "output_type": "execute_result",
          "data": {
            "text/plain": [
              "<Axes: >"
            ]
          },
          "metadata": {},
          "execution_count": 9
        },
        {
          "output_type": "display_data",
          "data": {
            "text/plain": [
              "<Figure size 432x288 with 2 Axes>"
            ],
            "image/png": "[encoded data removed]"
          },
          "metadata": {
            "needs_background": "light"
          }
        }
      ]
    },
    {
      "cell_type": "code",
      "source": [
        "## Another option is to plot the heatmap so that the values are shown.\n",
        "\n",
        "plt.figure(figsize=(10,5))\n",
        "sns.heatmap(advertising_df.corr(),annot=True,vmin=0,vmax=1,cmap='ocean')\n"
      ],
      "metadata": {
        "colab": {
          "base_uri": "https://localhost:8080/",
          "height": 342
        },
        "id": "i8bsyyVPm13-",
        "outputId": "1f1990f6-739e-494e-c76c-70b705d716ee"
      },
      "execution_count": 10,
      "outputs": [
        {
          "output_type": "execute_result",
          "data": {
            "text/plain": [
              "<Axes: >"
            ]
          },
          "metadata": {},
          "execution_count": 10
        },
        {
          "output_type": "display_data",
          "data": {
            "text/plain": [
              "<Figure size 720x360 with 2 Axes>"
            ],
            "image/png": "[encoded data removed]"
          },
          "metadata": {
            "needs_background": "light"
          }
        }
      ]
    },
    {
      "cell_type": "code",
      "execution_count": 11,
      "metadata": {
        "colab": {
          "base_uri": "https://localhost:8080/",
          "height": 387
        },
        "id": "SOsTLClWnO2B",
        "outputId": "6ed468cc-eeae-499f-e160-949751ec2c14"
      },
      "outputs": [
        {
          "output_type": "execute_result",
          "data": {
            "text/plain": [
              "<seaborn.axisgrid.FacetGrid at 0x7f628f65ff40>"
            ]
          },
          "metadata": {},
          "execution_count": 11
        },
        {
          "output_type": "display_data",
          "data": {
            "text/plain": [
              "<Figure size 360x360 with 1 Axes>"
            ],
            "image/png": "[encoded data removed]"
          },
          "metadata": {
            "needs_background": "light"
          }
        }
      ],
      "source": [
        "# It is used basically for univariant set of observations and visualizes it through a histogram i.e. only one observation\n",
        "# and hence you choose one particular column of the dataset.\n",
        "sns.displot(advertising_df['sales'])"
      ]
    },
    {
      "cell_type": "code",
      "source": [
        "'''=== Show the linear relationship between features  and price. Thus, it provides that how the scattered \n",
        "      they are and which features has more impact in prediction of house price. ==='''\n",
        "\n",
        "# visiualize all variables  with sales\n",
        "from scipy import stats\n",
        "#creates figure\n",
        "plt.figure(figsize=(18, 18))\n",
        "\n",
        "for i, col in enumerate(advertising_df.columns[0:13]): #iterates over all columns except for price column (last one)\n",
        "    plt.subplot(5, 3, i+1) # each row three figure\n",
        "    x = advertising_df[col] #x-axis\n",
        "    y = advertising_df['sales'] #y-axis\n",
        "    plt.plot(x, y, 'o')\n",
        "    \n",
        "    # Create regression line\n",
        "    plt.plot(np.unique(x), np.poly1d(np.polyfit(x, y, 1)) (np.unique(x)), color='red')\n",
        "    plt.xlabel(col) # x-label\n",
        "    plt.ylabel('sales') # y-label\n",
        "    "
      ],
      "metadata": {
        "colab": {
          "base_uri": "https://localhost:8080/",
          "height": 348
        },
        "id": "otYqhhMapHhY",
        "outputId": "7fb0185e-5dbe-470a-d7b0-94c460f55e55"
      },
      "execution_count": 12,
      "outputs": [
        {
          "output_type": "display_data",
          "data": {
            "text/plain": [
              "<Figure size 1296x1296 with 5 Axes>"
            ],
            "image/png": "[encoded data removed]"
          },
          "metadata": {
            "needs_background": "light"
          }
        }
      ]
    },
    {
      "cell_type": "markdown",
      "metadata": {
        "id": "OIPKB4hanO2F"
      },
      "source": [
        "## Training a Linear Regression Model\n",
        "\n",
        "Regression is a supervised machine learning process.  It is similar to classification, but rather than predicting a label, you try to predict a continuous value.   Linear regression defines the relationship between a target variable (y) and a set of predictive features (x).  Simply stated, If you need to predict a number, then use regression. \n",
        "\n",
        "Let's now begin to train your regression model! You will need to first split up your data into an X array that contains the features to train on, and a y array with the target variable, in this case the Price column. You will toss out the Address column because it only has text info that the linear regression model can't use."
      ]
    },
    {
      "cell_type": "markdown",
      "metadata": {
        "id": "l0NjRPeFBk74"
      },
      "source": [
        "### X (features) and y (target) arrays\n",
        "\n",
        "Next, let's define the features and label.  Briefly, feature is input; label is output. This applies to both classification and regression problems."
      ]
    },
    {
      "cell_type": "code",
      "execution_count": 13,
      "metadata": {
        "id": "ZEEGuBAnnO2F"
      },
      "outputs": [],
      "source": [
        "X = advertising_df[['digital', 'TV', 'radio', 'newspaper']]\n",
        "y = advertising_df['sales']"
      ]
    },
    {
      "cell_type": "markdown",
      "metadata": {
        "id": "X97FWdDOnO2H"
      },
      "source": [
        "## Train - Test - Split\n",
        "\n",
        "Now let's split the data into a training, validation, and test set XXXXXXXXx\n",
        "\n"
      ]
    },
    {
      "cell_type": "code",
      "execution_count": 14,
      "metadata": {
        "id": "fS99Llq8nO2J"
      },
      "outputs": [],
      "source": [
        "# Import train_test_split function from sklearn.model_selection\n",
        "from sklearn.model_selection import train_test_split\n",
        "\n",
        "# Split up the data into a training set\n",
        "X_train, X_test, y_train, y_test = train_test_split(X, y, test_size=0.4, random_state=101)"
      ]
    },
    {
      "cell_type": "markdown",
      "source": [
        "Now, we need to output the split files. We will specifically need the test.csv later for testing. You should see the files appear in the home directory under sample data."
      ],
      "metadata": {
        "id": "uRj2wlh_xQOX"
      }
    },
    {
      "cell_type": "code",
      "source": [
        "X_train.to_csv('/content/sample_data/adv-train.csv', encoding='utf-8', index=False)"
      ],
      "metadata": {
        "id": "QhdtrqCmxPm6"
      },
      "execution_count": 16,
      "outputs": []
    },
    {
      "cell_type": "code",
      "source": [
        "X_test.to_csv('/content/sample_data/adv-test.csv', encoding='utf-8', index=False)"
      ],
      "metadata": {
        "id": "97htYK6vxeaQ"
      },
      "execution_count": 17,
      "outputs": []
    },
    {
      "cell_type": "code",
      "source": [
        "## Build the model\n",
        "model = Sequential()\n",
        "model.add(Dense(4,activation='relu')) \n",
        "model.add(Dense(3,activation='relu'))\n",
        "model.add(Dense(1))\n",
        "\n",
        "\n",
        "## Compile the Model Compilation - Before training a model, you need to configure the learning process, which is done via the compile method. It receives three arguments\n",
        "# for a mean squared error regression problem\n",
        "\n",
        "#model.compile(loss= \"mean_squared_error\" , \n",
        "              #optimizer=\"adam\", \n",
        "              #metrics=[\"mean_squared_error\"])\n",
        "\n",
        "#compile model\n",
        "model.compile(loss='mse', optimizer='adam', metrics=['mae']) # use metric as mean absolute error\n",
        "\n",
        "#inspect the model\n",
        "#model.summary()\n",
        "\n",
        "history = model.fit(\n",
        "    X_train, y_train,\n",
        "    validation_data = (X_test, y_test),\n",
        "    epochs = 32\n",
        ")"
      ],
      "metadata": {
        "id": "K-_Vage0th27",
        "colab": {
          "base_uri": "https://localhost:8080/"
        },
        "outputId": "b62989a5-fd38-4eb4-9aee-fc02c4d7fdc3"
      },
      "execution_count": 18,
      "outputs": [
        {
          "output_type": "stream",
          "name": "stdout",
          "text": [
            "Epoch 1/150\n",
            "23/23 [==============================] - 1s 15ms/step - loss: 74.8497 - mae: 7.5493 - val_loss: 63.7178 - val_mae: 7.0512\n",
            "Epoch 2/150\n",
            "23/23 [==============================] - 0s 7ms/step - loss: 49.3231 - mae: 6.1127 - val_loss: 45.2596 - val_mae: 5.8634\n",
            "Epoch 3/150\n",
            "23/23 [==============================] - 0s 8ms/step - loss: 37.0925 - mae: 5.1859 - val_loss: 36.1786 - val_mae: 5.1136\n",
            "Epoch 4/150\n",
            "23/23 [==============================] - 0s 8ms/step - loss: 30.7668 - mae: 4.6407 - val_loss: 31.6010 - val_mae: 4.7075\n",
            "Epoch 5/150\n",
            "23/23 [==============================] - 0s 7ms/step - loss: 27.2615 - mae: 4.3347 - val_loss: 28.6364 - val_mae: 4.4501\n",
            "Epoch 6/150\n",
            "23/23 [==============================] - 0s 8ms/step - loss: 24.8632 - mae: 4.1118 - val_loss: 26.3680 - val_mae: 4.2398\n",
            "Epoch 7/150\n",
            "23/23 [==============================] - 0s 8ms/step - loss: 23.0685 - mae: 3.9542 - val_loss: 24.5517 - val_mae: 4.0925\n",
            "Epoch 8/150\n",
            "23/23 [==============================] - 0s 10ms/step - loss: 21.6094 - mae: 3.8424 - val_loss: 23.0093 - val_mae: 3.9537\n",
            "Epoch 9/150\n",
            "23/23 [==============================] - 0s 7ms/step - loss: 20.4205 - mae: 3.7117 - val_loss: 21.7247 - val_mae: 3.8326\n",
            "Epoch 10/150\n",
            "23/23 [==============================] - 0s 6ms/step - loss: 19.2997 - mae: 3.6354 - val_loss: 20.5622 - val_mae: 3.7290\n",
            "Epoch 11/150\n",
            "23/23 [==============================] - 0s 7ms/step - loss: 18.3827 - mae: 3.5408 - val_loss: 19.5182 - val_mae: 3.6219\n",
            "Epoch 12/150\n",
            "23/23 [==============================] - 1s 27ms/step - loss: 17.5750 - mae: 3.4732 - val_loss: 18.6757 - val_mae: 3.5559\n",
            "Epoch 13/150\n",
            "23/23 [==============================] - 0s 7ms/step - loss: 16.8311 - mae: 3.3895 - val_loss: 17.7513 - val_mae: 3.4439\n",
            "Epoch 14/150\n",
            "23/23 [==============================] - 0s 7ms/step - loss: 16.1095 - mae: 3.3209 - val_loss: 17.1438 - val_mae: 3.4079\n",
            "Epoch 15/150\n",
            "23/23 [==============================] - 0s 7ms/step - loss: 15.5122 - mae: 3.2716 - val_loss: 16.3412 - val_mae: 3.3018\n",
            "Epoch 16/150\n",
            "23/23 [==============================] - 0s 5ms/step - loss: 14.9217 - mae: 3.1894 - val_loss: 15.7088 - val_mae: 3.2294\n",
            "Epoch 17/150\n",
            "23/23 [==============================] - 0s 5ms/step - loss: 14.3674 - mae: 3.1473 - val_loss: 15.2216 - val_mae: 3.1960\n",
            "Epoch 18/150\n",
            "23/23 [==============================] - 0s 4ms/step - loss: 13.9182 - mae: 3.1039 - val_loss: 14.6237 - val_mae: 3.1194\n",
            "Epoch 19/150\n",
            "23/23 [==============================] - 0s 4ms/step - loss: 13.4518 - mae: 3.0294 - val_loss: 14.1119 - val_mae: 3.0541\n",
            "Epoch 20/150\n",
            "23/23 [==============================] - 0s 4ms/step - loss: 13.0032 - mae: 2.9812 - val_loss: 13.6550 - val_mae: 3.0043\n",
            "Epoch 21/150\n",
            "23/23 [==============================] - 0s 4ms/step - loss: 12.6268 - mae: 2.9528 - val_loss: 13.2659 - val_mae: 2.9674\n",
            "Epoch 22/150\n",
            "23/23 [==============================] - 0s 6ms/step - loss: 12.2391 - mae: 2.8920 - val_loss: 12.7930 - val_mae: 2.8955\n",
            "Epoch 23/150\n",
            "23/23 [==============================] - 0s 4ms/step - loss: 11.8761 - mae: 2.8478 - val_loss: 12.4369 - val_mae: 2.8602\n",
            "Epoch 24/150\n",
            "23/23 [==============================] - 0s 7ms/step - loss: 11.5549 - mae: 2.8207 - val_loss: 12.1073 - val_mae: 2.8265\n",
            "Epoch 25/150\n",
            "23/23 [==============================] - 0s 4ms/step - loss: 11.2120 - mae: 2.7658 - val_loss: 11.7118 - val_mae: 2.7454\n",
            "Epoch 26/150\n",
            "23/23 [==============================] - 0s 6ms/step - loss: 10.8939 - mae: 2.7212 - val_loss: 11.4243 - val_mae: 2.7343\n",
            "Epoch 27/150\n",
            "23/23 [==============================] - 0s 4ms/step - loss: 10.6301 - mae: 2.7008 - val_loss: 11.0883 - val_mae: 2.6798\n",
            "Epoch 28/150\n",
            "23/23 [==============================] - 0s 6ms/step - loss: 10.3280 - mae: 2.6387 - val_loss: 10.8107 - val_mae: 2.6406\n",
            "Epoch 29/150\n",
            "23/23 [==============================] - 0s 4ms/step - loss: 10.0646 - mae: 2.6112 - val_loss: 10.5463 - val_mae: 2.6100\n",
            "Epoch 30/150\n",
            "23/23 [==============================] - 0s 4ms/step - loss: 9.8369 - mae: 2.5780 - val_loss: 10.3592 - val_mae: 2.5960\n",
            "Epoch 31/150\n",
            "23/23 [==============================] - 0s 4ms/step - loss: 9.5972 - mae: 2.5377 - val_loss: 10.0568 - val_mae: 2.5431\n",
            "Epoch 32/150\n",
            "23/23 [==============================] - 0s 4ms/step - loss: 9.3803 - mae: 2.5238 - val_loss: 9.7840 - val_mae: 2.4922\n",
            "Epoch 33/150\n",
            "23/23 [==============================] - 0s 4ms/step - loss: 9.1264 - mae: 2.4822 - val_loss: 9.6044 - val_mae: 2.4766\n",
            "Epoch 34/150\n",
            "23/23 [==============================] - 0s 4ms/step - loss: 8.8767 - mae: 2.4442 - val_loss: 9.3604 - val_mae: 2.4371\n",
            "Epoch 35/150\n",
            "23/23 [==============================] - 0s 5ms/step - loss: 8.6496 - mae: 2.4128 - val_loss: 9.1443 - val_mae: 2.3996\n",
            "Epoch 36/150\n",
            "23/23 [==============================] - 0s 4ms/step - loss: 8.4441 - mae: 2.3918 - val_loss: 8.9138 - val_mae: 2.3589\n",
            "Epoch 37/150\n",
            "23/23 [==============================] - 0s 4ms/step - loss: 8.2255 - mae: 2.3518 - val_loss: 8.7276 - val_mae: 2.3380\n",
            "Epoch 38/150\n",
            "23/23 [==============================] - 0s 4ms/step - loss: 8.0177 - mae: 2.3201 - val_loss: 8.5872 - val_mae: 2.3230\n",
            "Epoch 39/150\n",
            "23/23 [==============================] - 0s 4ms/step - loss: 7.8493 - mae: 2.3006 - val_loss: 8.3278 - val_mae: 2.2602\n",
            "Epoch 40/150\n",
            "23/23 [==============================] - 0s 4ms/step - loss: 7.6861 - mae: 2.2714 - val_loss: 8.1445 - val_mae: 2.2335\n",
            "Epoch 41/150\n",
            "23/23 [==============================] - 0s 5ms/step - loss: 7.4876 - mae: 2.2384 - val_loss: 7.9832 - val_mae: 2.2275\n",
            "Epoch 42/150\n",
            "23/23 [==============================] - 0s 4ms/step - loss: 7.3604 - mae: 2.2118 - val_loss: 7.7699 - val_mae: 2.1731\n",
            "Epoch 43/150\n",
            "23/23 [==============================] - 0s 6ms/step - loss: 7.1684 - mae: 2.1903 - val_loss: 7.6586 - val_mae: 2.1678\n",
            "Epoch 44/150\n",
            "23/23 [==============================] - 0s 5ms/step - loss: 7.0036 - mae: 2.1524 - val_loss: 7.4576 - val_mae: 2.1274\n",
            "Epoch 45/150\n",
            "23/23 [==============================] - 0s 6ms/step - loss: 6.8384 - mae: 2.1224 - val_loss: 7.3545 - val_mae: 2.1167\n",
            "Epoch 46/150\n",
            "23/23 [==============================] - 0s 4ms/step - loss: 6.7173 - mae: 2.1096 - val_loss: 7.1761 - val_mae: 2.0772\n",
            "Epoch 47/150\n",
            "23/23 [==============================] - 0s 5ms/step - loss: 6.5662 - mae: 2.0847 - val_loss: 7.0513 - val_mae: 2.0598\n",
            "Epoch 48/150\n",
            "23/23 [==============================] - 0s 6ms/step - loss: 6.4199 - mae: 2.0627 - val_loss: 6.8990 - val_mae: 2.0350\n",
            "Epoch 49/150\n",
            "23/23 [==============================] - 0s 4ms/step - loss: 6.3200 - mae: 2.0329 - val_loss: 6.8132 - val_mae: 2.0337\n",
            "Epoch 50/150\n",
            "23/23 [==============================] - 0s 4ms/step - loss: 6.1434 - mae: 2.0089 - val_loss: 6.6231 - val_mae: 1.9860\n",
            "Epoch 51/150\n",
            "23/23 [==============================] - 0s 4ms/step - loss: 6.0213 - mae: 1.9758 - val_loss: 6.5495 - val_mae: 1.9769\n",
            "Epoch 52/150\n",
            "23/23 [==============================] - 0s 5ms/step - loss: 5.8945 - mae: 1.9606 - val_loss: 6.3880 - val_mae: 1.9410\n",
            "Epoch 53/150\n",
            "23/23 [==============================] - 0s 4ms/step - loss: 5.7758 - mae: 1.9431 - val_loss: 6.2837 - val_mae: 1.9280\n",
            "Epoch 54/150\n",
            "23/23 [==============================] - 0s 6ms/step - loss: 5.6415 - mae: 1.9047 - val_loss: 6.1797 - val_mae: 1.9058\n",
            "Epoch 55/150\n",
            "23/23 [==============================] - 0s 6ms/step - loss: 5.4963 - mae: 1.8869 - val_loss: 6.0344 - val_mae: 1.8657\n",
            "Epoch 56/150\n",
            "23/23 [==============================] - 0s 8ms/step - loss: 5.3452 - mae: 1.8581 - val_loss: 5.9071 - val_mae: 1.8465\n",
            "Epoch 57/150\n",
            "23/23 [==============================] - 0s 8ms/step - loss: 5.1979 - mae: 1.8198 - val_loss: 5.7976 - val_mae: 1.8305\n",
            "Epoch 58/150\n",
            "23/23 [==============================] - 0s 8ms/step - loss: 5.0730 - mae: 1.8035 - val_loss: 5.6548 - val_mae: 1.7910\n",
            "Epoch 59/150\n",
            "23/23 [==============================] - 0s 7ms/step - loss: 4.9553 - mae: 1.7747 - val_loss: 5.5672 - val_mae: 1.7728\n",
            "Epoch 60/150\n",
            "23/23 [==============================] - 0s 8ms/step - loss: 4.8419 - mae: 1.7469 - val_loss: 5.4620 - val_mae: 1.7602\n",
            "Epoch 61/150\n",
            "23/23 [==============================] - 0s 7ms/step - loss: 4.7357 - mae: 1.7222 - val_loss: 5.2941 - val_mae: 1.7319\n",
            "Epoch 62/150\n",
            "23/23 [==============================] - 0s 8ms/step - loss: 4.6416 - mae: 1.7120 - val_loss: 5.2191 - val_mae: 1.7246\n",
            "Epoch 63/150\n",
            "23/23 [==============================] - 0s 7ms/step - loss: 4.5742 - mae: 1.6872 - val_loss: 5.1530 - val_mae: 1.7239\n",
            "Epoch 64/150\n",
            "23/23 [==============================] - 0s 8ms/step - loss: 4.5177 - mae: 1.6749 - val_loss: 5.0560 - val_mae: 1.6837\n",
            "Epoch 65/150\n",
            "23/23 [==============================] - 0s 8ms/step - loss: 4.4329 - mae: 1.6630 - val_loss: 4.9941 - val_mae: 1.6916\n",
            "Epoch 66/150\n",
            "23/23 [==============================] - 0s 8ms/step - loss: 4.3967 - mae: 1.6528 - val_loss: 4.9042 - val_mae: 1.6638\n",
            "Epoch 67/150\n",
            "23/23 [==============================] - 0s 8ms/step - loss: 4.3223 - mae: 1.6387 - val_loss: 4.8751 - val_mae: 1.6722\n",
            "Epoch 68/150\n",
            "23/23 [==============================] - 0s 6ms/step - loss: 4.2855 - mae: 1.6312 - val_loss: 4.8313 - val_mae: 1.6620\n",
            "Epoch 69/150\n",
            "23/23 [==============================] - 0s 8ms/step - loss: 4.2123 - mae: 1.6118 - val_loss: 4.7338 - val_mae: 1.6364\n",
            "Epoch 70/150\n",
            "23/23 [==============================] - 0s 6ms/step - loss: 4.1779 - mae: 1.6085 - val_loss: 4.6582 - val_mae: 1.6169\n",
            "Epoch 71/150\n",
            "23/23 [==============================] - 0s 7ms/step - loss: 4.1041 - mae: 1.5817 - val_loss: 4.6804 - val_mae: 1.6308\n",
            "Epoch 72/150\n",
            "23/23 [==============================] - 0s 4ms/step - loss: 4.1136 - mae: 1.6022 - val_loss: 4.5819 - val_mae: 1.5964\n",
            "Epoch 73/150\n",
            "23/23 [==============================] - 0s 6ms/step - loss: 4.0918 - mae: 1.5907 - val_loss: 4.5318 - val_mae: 1.5878\n",
            "Epoch 74/150\n",
            "23/23 [==============================] - 0s 4ms/step - loss: 3.9964 - mae: 1.5529 - val_loss: 4.5179 - val_mae: 1.5954\n",
            "Epoch 75/150\n",
            "23/23 [==============================] - 0s 6ms/step - loss: 3.9247 - mae: 1.5581 - val_loss: 4.4364 - val_mae: 1.5652\n",
            "Epoch 76/150\n",
            "23/23 [==============================] - 0s 4ms/step - loss: 3.9209 - mae: 1.5308 - val_loss: 4.4038 - val_mae: 1.5644\n",
            "Epoch 77/150\n",
            "23/23 [==============================] - 0s 4ms/step - loss: 3.8532 - mae: 1.5307 - val_loss: 4.3327 - val_mae: 1.5433\n",
            "Epoch 78/150\n",
            "23/23 [==============================] - 0s 4ms/step - loss: 3.8266 - mae: 1.5148 - val_loss: 4.3469 - val_mae: 1.5572\n",
            "Epoch 79/150\n",
            "23/23 [==============================] - 0s 5ms/step - loss: 3.7740 - mae: 1.5154 - val_loss: 4.2757 - val_mae: 1.5302\n",
            "Epoch 80/150\n",
            "23/23 [==============================] - 0s 6ms/step - loss: 3.7487 - mae: 1.5041 - val_loss: 4.2267 - val_mae: 1.5200\n",
            "Epoch 81/150\n",
            "23/23 [==============================] - 0s 4ms/step - loss: 3.7300 - mae: 1.4834 - val_loss: 4.3444 - val_mae: 1.5647\n",
            "Epoch 82/150\n",
            "23/23 [==============================] - 0s 5ms/step - loss: 3.6817 - mae: 1.4994 - val_loss: 4.1635 - val_mae: 1.5002\n",
            "Epoch 83/150\n",
            "23/23 [==============================] - 0s 6ms/step - loss: 3.6438 - mae: 1.4706 - val_loss: 4.1686 - val_mae: 1.5132\n",
            "Epoch 84/150\n",
            "23/23 [==============================] - 0s 6ms/step - loss: 3.6096 - mae: 1.4605 - val_loss: 4.1311 - val_mae: 1.5024\n",
            "Epoch 85/150\n",
            "23/23 [==============================] - 0s 7ms/step - loss: 3.5902 - mae: 1.4714 - val_loss: 4.0559 - val_mae: 1.4766\n",
            "Epoch 86/150\n",
            "23/23 [==============================] - 0s 6ms/step - loss: 3.5558 - mae: 1.4568 - val_loss: 4.0193 - val_mae: 1.4698\n",
            "Epoch 87/150\n",
            "23/23 [==============================] - 0s 4ms/step - loss: 3.5249 - mae: 1.4322 - val_loss: 4.0499 - val_mae: 1.4795\n",
            "Epoch 88/150\n",
            "23/23 [==============================] - 0s 4ms/step - loss: 3.4906 - mae: 1.4377 - val_loss: 3.9599 - val_mae: 1.4613\n",
            "Epoch 89/150\n",
            "23/23 [==============================] - 0s 9ms/step - loss: 3.4544 - mae: 1.4255 - val_loss: 3.9376 - val_mae: 1.4515\n",
            "Epoch 90/150\n",
            "23/23 [==============================] - 0s 8ms/step - loss: 3.4288 - mae: 1.4163 - val_loss: 3.9556 - val_mae: 1.4637\n",
            "Epoch 91/150\n",
            "23/23 [==============================] - 0s 6ms/step - loss: 3.4401 - mae: 1.4357 - val_loss: 3.8849 - val_mae: 1.4430\n",
            "Epoch 92/150\n",
            "23/23 [==============================] - 0s 8ms/step - loss: 3.4094 - mae: 1.4074 - val_loss: 3.8561 - val_mae: 1.4296\n",
            "Epoch 93/150\n",
            "23/23 [==============================] - 0s 10ms/step - loss: 3.3506 - mae: 1.3911 - val_loss: 3.9135 - val_mae: 1.4519\n",
            "Epoch 94/150\n",
            "23/23 [==============================] - 0s 9ms/step - loss: 3.3564 - mae: 1.4071 - val_loss: 3.7903 - val_mae: 1.4202\n",
            "Epoch 95/150\n",
            "23/23 [==============================] - 0s 7ms/step - loss: 3.3082 - mae: 1.3912 - val_loss: 3.7846 - val_mae: 1.4190\n",
            "Epoch 96/150\n",
            "23/23 [==============================] - 0s 9ms/step - loss: 3.2785 - mae: 1.3849 - val_loss: 3.7539 - val_mae: 1.4074\n",
            "Epoch 97/150\n",
            "23/23 [==============================] - 0s 11ms/step - loss: 3.2734 - mae: 1.3705 - val_loss: 3.7479 - val_mae: 1.4013\n",
            "Epoch 98/150\n",
            "23/23 [==============================] - 0s 8ms/step - loss: 3.2543 - mae: 1.3705 - val_loss: 3.7057 - val_mae: 1.3945\n",
            "Epoch 99/150\n",
            "23/23 [==============================] - 0s 8ms/step - loss: 3.2298 - mae: 1.3640 - val_loss: 3.7227 - val_mae: 1.3947\n",
            "Epoch 100/150\n",
            "23/23 [==============================] - 0s 9ms/step - loss: 3.2055 - mae: 1.3608 - val_loss: 3.6788 - val_mae: 1.3888\n",
            "Epoch 101/150\n",
            "23/23 [==============================] - 0s 11ms/step - loss: 3.1923 - mae: 1.3537 - val_loss: 3.6559 - val_mae: 1.3790\n",
            "Epoch 102/150\n",
            "23/23 [==============================] - 0s 13ms/step - loss: 3.1683 - mae: 1.3465 - val_loss: 3.6341 - val_mae: 1.3795\n",
            "Epoch 103/150\n",
            "23/23 [==============================] - 0s 7ms/step - loss: 3.1607 - mae: 1.3420 - val_loss: 3.6709 - val_mae: 1.3878\n",
            "Epoch 104/150\n",
            "23/23 [==============================] - 0s 5ms/step - loss: 3.1359 - mae: 1.3386 - val_loss: 3.5492 - val_mae: 1.3650\n",
            "Epoch 105/150\n",
            "23/23 [==============================] - 0s 5ms/step - loss: 3.1201 - mae: 1.3432 - val_loss: 3.5261 - val_mae: 1.3594\n",
            "Epoch 106/150\n",
            "23/23 [==============================] - 0s 4ms/step - loss: 3.1297 - mae: 1.3273 - val_loss: 3.5602 - val_mae: 1.3619\n",
            "Epoch 107/150\n",
            "23/23 [==============================] - 0s 7ms/step - loss: 3.0875 - mae: 1.3253 - val_loss: 3.5362 - val_mae: 1.3620\n",
            "Epoch 108/150\n",
            "23/23 [==============================] - 0s 4ms/step - loss: 3.0748 - mae: 1.3237 - val_loss: 3.4981 - val_mae: 1.3457\n",
            "Epoch 109/150\n",
            "23/23 [==============================] - 0s 6ms/step - loss: 3.0694 - mae: 1.3200 - val_loss: 3.5640 - val_mae: 1.3673\n",
            "Epoch 110/150\n",
            "23/23 [==============================] - 0s 4ms/step - loss: 3.0434 - mae: 1.3175 - val_loss: 3.4521 - val_mae: 1.3437\n",
            "Epoch 111/150\n",
            "23/23 [==============================] - 0s 5ms/step - loss: 3.0330 - mae: 1.3124 - val_loss: 3.4345 - val_mae: 1.3358\n",
            "Epoch 112/150\n",
            "23/23 [==============================] - 0s 4ms/step - loss: 3.0181 - mae: 1.3096 - val_loss: 3.4214 - val_mae: 1.3341\n",
            "Epoch 113/150\n",
            "23/23 [==============================] - 0s 4ms/step - loss: 3.0565 - mae: 1.3273 - val_loss: 3.3924 - val_mae: 1.3332\n",
            "Epoch 114/150\n",
            "23/23 [==============================] - 0s 4ms/step - loss: 3.0092 - mae: 1.3053 - val_loss: 3.4060 - val_mae: 1.3257\n",
            "Epoch 115/150\n",
            "23/23 [==============================] - 0s 4ms/step - loss: 2.9827 - mae: 1.2999 - val_loss: 3.3804 - val_mae: 1.3202\n",
            "Epoch 116/150\n",
            "23/23 [==============================] - 0s 4ms/step - loss: 2.9904 - mae: 1.2947 - val_loss: 3.3490 - val_mae: 1.3185\n",
            "Epoch 117/150\n",
            "23/23 [==============================] - 0s 4ms/step - loss: 2.9677 - mae: 1.2988 - val_loss: 3.3303 - val_mae: 1.3131\n",
            "Epoch 118/150\n",
            "23/23 [==============================] - 0s 4ms/step - loss: 2.9593 - mae: 1.2958 - val_loss: 3.3896 - val_mae: 1.3262\n",
            "Epoch 119/150\n",
            "23/23 [==============================] - 0s 7ms/step - loss: 2.9383 - mae: 1.2883 - val_loss: 3.3017 - val_mae: 1.3087\n",
            "Epoch 120/150\n",
            "23/23 [==============================] - 0s 5ms/step - loss: 2.9446 - mae: 1.2883 - val_loss: 3.4066 - val_mae: 1.3316\n",
            "Epoch 121/150\n",
            "23/23 [==============================] - 0s 4ms/step - loss: 2.9401 - mae: 1.2903 - val_loss: 3.2941 - val_mae: 1.3045\n",
            "Epoch 122/150\n",
            "23/23 [==============================] - 0s 5ms/step - loss: 2.9149 - mae: 1.2799 - val_loss: 3.3197 - val_mae: 1.3083\n",
            "Epoch 123/150\n",
            "23/23 [==============================] - 0s 4ms/step - loss: 2.8993 - mae: 1.2832 - val_loss: 3.2898 - val_mae: 1.3050\n",
            "Epoch 124/150\n",
            "23/23 [==============================] - 0s 5ms/step - loss: 2.9065 - mae: 1.2854 - val_loss: 3.2361 - val_mae: 1.2946\n",
            "Epoch 125/150\n",
            "23/23 [==============================] - 0s 4ms/step - loss: 2.8872 - mae: 1.2718 - val_loss: 3.2394 - val_mae: 1.2882\n",
            "Epoch 126/150\n",
            "23/23 [==============================] - 0s 5ms/step - loss: 2.8913 - mae: 1.2736 - val_loss: 3.1898 - val_mae: 1.2863\n",
            "Epoch 127/150\n",
            "23/23 [==============================] - 0s 5ms/step - loss: 2.8855 - mae: 1.2751 - val_loss: 3.2092 - val_mae: 1.2835\n",
            "Epoch 128/150\n",
            "23/23 [==============================] - 0s 6ms/step - loss: 2.8625 - mae: 1.2695 - val_loss: 3.2711 - val_mae: 1.2968\n",
            "Epoch 129/150\n",
            "23/23 [==============================] - 0s 4ms/step - loss: 2.8527 - mae: 1.2727 - val_loss: 3.1459 - val_mae: 1.2839\n",
            "Epoch 130/150\n",
            "23/23 [==============================] - 0s 4ms/step - loss: 2.8391 - mae: 1.2663 - val_loss: 3.2338 - val_mae: 1.2890\n",
            "Epoch 131/150\n",
            "23/23 [==============================] - 0s 4ms/step - loss: 2.8340 - mae: 1.2546 - val_loss: 3.1531 - val_mae: 1.2700\n",
            "Epoch 132/150\n",
            "23/23 [==============================] - 0s 6ms/step - loss: 2.8417 - mae: 1.2627 - val_loss: 3.1353 - val_mae: 1.2730\n",
            "Epoch 133/150\n",
            "23/23 [==============================] - 0s 7ms/step - loss: 2.8241 - mae: 1.2556 - val_loss: 3.1390 - val_mae: 1.2698\n",
            "Epoch 134/150\n",
            "23/23 [==============================] - 0s 4ms/step - loss: 2.8105 - mae: 1.2584 - val_loss: 3.0945 - val_mae: 1.2667\n",
            "Epoch 135/150\n",
            "23/23 [==============================] - 0s 4ms/step - loss: 2.8169 - mae: 1.2524 - val_loss: 3.1186 - val_mae: 1.2604\n",
            "Epoch 136/150\n",
            "23/23 [==============================] - 0s 5ms/step - loss: 2.8116 - mae: 1.2540 - val_loss: 3.2628 - val_mae: 1.3060\n",
            "Epoch 137/150\n",
            "23/23 [==============================] - 0s 4ms/step - loss: 2.8329 - mae: 1.2765 - val_loss: 3.0715 - val_mae: 1.2571\n",
            "Epoch 138/150\n",
            "23/23 [==============================] - 0s 6ms/step - loss: 2.7859 - mae: 1.2478 - val_loss: 3.0507 - val_mae: 1.2548\n",
            "Epoch 139/150\n",
            "23/23 [==============================] - 0s 4ms/step - loss: 2.7994 - mae: 1.2569 - val_loss: 3.0382 - val_mae: 1.2543\n",
            "Epoch 140/150\n",
            "23/23 [==============================] - 0s 5ms/step - loss: 2.8303 - mae: 1.2614 - val_loss: 3.1321 - val_mae: 1.2641\n",
            "Epoch 141/150\n",
            "23/23 [==============================] - 0s 6ms/step - loss: 2.8127 - mae: 1.2494 - val_loss: 3.1774 - val_mae: 1.2823\n",
            "Epoch 142/150\n",
            "23/23 [==============================] - 0s 8ms/step - loss: 2.7666 - mae: 1.2511 - val_loss: 3.0152 - val_mae: 1.2456\n",
            "Epoch 143/150\n",
            "23/23 [==============================] - 0s 8ms/step - loss: 2.7796 - mae: 1.2449 - val_loss: 3.0600 - val_mae: 1.2483\n",
            "Epoch 144/150\n",
            "23/23 [==============================] - 0s 8ms/step - loss: 2.7569 - mae: 1.2310 - val_loss: 3.0063 - val_mae: 1.2393\n",
            "Epoch 145/150\n",
            "23/23 [==============================] - 0s 6ms/step - loss: 2.7511 - mae: 1.2407 - val_loss: 2.9892 - val_mae: 1.2418\n",
            "Epoch 146/150\n",
            "23/23 [==============================] - 0s 7ms/step - loss: 2.7564 - mae: 1.2367 - val_loss: 2.9708 - val_mae: 1.2350\n",
            "Epoch 147/150\n",
            "23/23 [==============================] - 0s 7ms/step - loss: 2.7408 - mae: 1.2330 - val_loss: 3.0053 - val_mae: 1.2361\n",
            "Epoch 148/150\n",
            "23/23 [==============================] - 0s 7ms/step - loss: 2.7554 - mae: 1.2363 - val_loss: 3.0082 - val_mae: 1.2381\n",
            "Epoch 149/150\n",
            "23/23 [==============================] - 0s 9ms/step - loss: 2.7342 - mae: 1.2331 - val_loss: 3.0964 - val_mae: 1.2626\n",
            "Epoch 150/150\n",
            "23/23 [==============================] - 0s 6ms/step - loss: 2.7370 - mae: 1.2429 - val_loss: 2.9353 - val_mae: 1.2301\n"
          ]
        }
      ]
    },
    {
      "cell_type": "code",
      "source": [
        "# show the graph of model loss in trainig and validation \n",
        "\n",
        "plt.figure(figsize=(15,8))\n",
        "plt.xlabel('Epoch')\n",
        "plt.ylabel('Mean Square Error')\n",
        "plt.plot(history.epoch, history.history['loss'],\n",
        "           label='Train Loss')\n",
        "plt.plot(history.epoch, history.history['val_loss'],\n",
        "           label = 'Val loss')\n",
        "plt.title('Model loss')\n",
        "plt.legend()\n",
        "\n",
        "## TALK ABOUT CONVERGENCE"
      ],
      "metadata": {
        "colab": {
          "base_uri": "https://localhost:8080/",
          "height": 504
        },
        "id": "U4qtAhNftJJN",
        "outputId": "9e66c0f7-b945-4cb4-ed3a-0e740c550268"
      },
      "execution_count": 19,
      "outputs": [
        {
          "output_type": "execute_result",
          "data": {
            "text/plain": [
              "<matplotlib.legend.Legend at 0x7f628ed2eca0>"
            ]
          },
          "metadata": {},
          "execution_count": 19
        },
        {
          "output_type": "display_data",
          "data": {
            "text/plain": [
              "<Figure size 1080x576 with 1 Axes>"
            ],
            "image/png": "[encoded data removed]"
          },
          "metadata": {
            "needs_background": "light"
          }
        }
      ]
    },
    {
      "cell_type": "code",
      "source": [
        "# Use matplotlib to draw the model's loss curves for training and validation\n",
        "def plot_curves(history, metrics):\n",
        "    nrows = 1\n",
        "    ncols = 2\n",
        "    fig = plt.figure(figsize=(10, 5))\n",
        "\n",
        "    for idx, key in enumerate(metrics):  \n",
        "        ax = fig.add_subplot(nrows, ncols, idx+1)\n",
        "        plt.plot(history.history[key])\n",
        "        plt.plot(history.history['val_{}'.format(key)])\n",
        "        plt.title('model {}'.format(key))\n",
        "        plt.ylabel(key)\n",
        "        plt.xlabel('epoch')\n",
        "        plt.legend(['train', 'validation'], loc='upper left');  "
      ],
      "metadata": {
        "id": "M5HDao7etJL1"
      },
      "execution_count": 20,
      "outputs": []
    },
    {
      "cell_type": "code",
      "source": [
        "plot_curves(history, ['loss', 'mae'])"
      ],
      "metadata": {
        "colab": {
          "base_uri": "https://localhost:8080/",
          "height": 350
        },
        "id": "siWyTZDJtJPE",
        "outputId": "17a98f92-8faa-4a28-e0fe-022c60d33f57"
      },
      "execution_count": 24,
      "outputs": [
        {
          "output_type": "display_data",
          "data": {
            "text/plain": [
              "<Figure size 720x360 with 2 Axes>"
            ],
            "image/png": "[encoded data removed]"
          },
          "metadata": {
            "needs_background": "light"
          }
        }
      ]
    },
    {
      "cell_type": "code",
      "source": [
        "#check the model performace in test dataset\n",
        "score = model.evaluate(X_test, y_test, verbose=1)\n",
        "print('loss value: ', score[0])\n",
        "print('Mean absolute error: ', score[1])"
      ],
      "metadata": {
        "colab": {
          "base_uri": "https://localhost:8080/"
        },
        "id": "Kc0qGSfg3wHL",
        "outputId": "f3d7df48-8805-4c5b-e7dd-cdc29b4b22e7"
      },
      "execution_count": 31,
      "outputs": [
        {
          "output_type": "stream",
          "name": "stdout",
          "text": [
            "15/15 [==============================] - 0s 3ms/step - loss: 2.9353 - mae: 1.2301\n",
            "loss value:  2.9352686405181885\n",
            "Mean absolute error:  1.2300933599472046\n"
          ]
        }
      ]
    },
    {
      "cell_type": "code",
      "source": [
        "'''=== predict the SALES =='''\n",
        "\n",
        "# predict SALES using the test data \n",
        "test_predictions = model.predict(X_test).flatten()\n",
        "print(test_predictions)\n"
      ],
      "metadata": {
        "colab": {
          "base_uri": "https://localhost:8080/"
        },
        "id": "jHNfAACi3wN0",
        "outputId": "c55b91ff-3cf1-4052-d808-38b27581c36b"
      },
      "execution_count": 33,
      "outputs": [
        {
          "output_type": "stream",
          "name": "stdout",
          "text": [
            "15/15 [==============================] - 0s 5ms/step\n",
            "[24.242981  17.615545  15.180934  21.073256  17.748863  23.687344\n",
            " 11.46493   20.175665  18.795527  14.778589   6.939116  16.44095\n",
            "  7.3442397  8.21145   11.511036   7.6814475 21.075594  14.529778\n",
            "  4.5014253 17.682878  23.896791   7.1654    11.686294  12.362489\n",
            "  9.634967   4.5212765 15.800166  18.197998  12.865475   9.782003\n",
            " 14.728499  16.035858  20.360146  16.09847    8.7966175  8.8001795\n",
            " 25.399445  15.092475  13.894523  16.028824  13.950454  15.129639\n",
            "  8.282825  15.015562  15.558661  14.436098   6.7644053 25.399445\n",
            " 13.532619  10.006586   8.81809   11.511036  11.758756  16.246264\n",
            "  4.9512334 18.256573  16.134172  20.630358   9.018981  14.186756\n",
            " 11.826313  11.163275  11.36517   14.352826   8.90522   11.656869\n",
            " 10.375013  22.536224   7.527002  21.643042   6.8142858 23.045895\n",
            "  8.749332  19.903223  12.606467  16.622845  17.214735  12.989614\n",
            " 16.035858  19.710693  16.799067  19.647053  16.532333  17.618595\n",
            " 14.729345  13.533946  12.7912245  9.71216    5.023283  12.318902\n",
            " 21.458908   9.782003  12.877205   9.096104  11.195449  20.265512\n",
            "  5.6238236 21.073256  24.216173  11.929799   5.1954813 15.393842\n",
            "  9.851715  10.385327  24.483559  21.643042   6.1577168  7.7241755\n",
            "  9.229393  11.033554  11.686294   6.5473146 11.580846  20.541952\n",
            " 12.66257   19.46774    5.1954813 19.603159  26.472391   8.72572\n",
            " 16.035858  20.867414  19.647053   3.5803823 22.75267   20.806063\n",
            " 19.365526   8.2802725  5.695242  24.429316  11.790489   4.5014253\n",
            " 19.487621  17.288033  12.344729  22.384638   8.863173  14.367302\n",
            " 14.102789  18.460245   8.2802725 12.606467  11.149155  16.134172\n",
            "  5.6238236  6.331489   9.527524  23.684515   9.385245  18.328735\n",
            " 14.529778  12.965667   9.076395   9.850749  25.789461  12.965667\n",
            " 12.606467  18.717148  20.867191   9.99632   19.46774   14.778589\n",
            " 19.431767  24.483559   7.3522353 17.506289   7.7709875  5.5996614\n",
            "  8.616612  11.158142  15.467153   9.681013  11.594197  22.288004\n",
            " 10.006586  14.778589  22.77205   21.662104  14.450935  21.94499\n",
            " 11.765646   6.704634  16.012003  24.792393  20.46653    9.634967\n",
            "  7.8477626 15.58214    7.5886364 20.23767   18.527409  14.02794\n",
            "  8.982233  11.826313  11.373894   5.1954813 14.436098  13.915876\n",
            "  9.076395  16.593033   4.16862   17.529167  15.7032175  8.528313\n",
            "  6.768784  14.352826   5.023283   3.1870756  9.422061   9.323076\n",
            " 21.421558  17.76272   15.519197  16.799067   9.558966  22.84114\n",
            " 16.184072   9.369652  10.311425  11.765646   9.229393  13.950454\n",
            " 15.7032175  9.385245  17.76272    9.369652   7.6814475 17.506289\n",
            " 10.372089  11.973638  20.806063   6.768784  16.532333   9.490478\n",
            " 15.308001  12.113055   6.606195  24.429316  21.94499    7.372317\n",
            " 12.880196   6.7644053 16.409506  23.1835    16.409506  12.318902\n",
            "  5.023283  10.006586  14.049987   6.9037447 11.552416  11.335233\n",
            " 12.070722   6.1156144 16.598116   9.644681  17.38033   15.308001\n",
            " 10.6867695 13.879525  17.529167  22.894438  16.184072  19.139872\n",
            " 14.186756  15.3880005 19.473814  17.346954  14.28369   11.033554\n",
            " 12.965667  24.464903  17.643782  13.076376  12.113055  14.450935\n",
            "  6.747828   7.31994   13.544255  16.678978  26.472391  11.281804\n",
            " 19.093115   5.432344  17.38033   15.330476  12.973191  19.093115\n",
            "  6.2814813 20.46653   12.271921  22.022917   8.982233  20.23767\n",
            " 11.8071375 18.582903  10.909951   7.7922792  7.4536815 21.520164\n",
            " 22.732288  14.642754   7.552197  21.38455    5.819528  13.211185\n",
            " 22.370064   9.80639   13.980415  20.164602  25.242058   7.2629476\n",
            "  9.562026  15.58214   20.541952   4.5212765 16.340519   9.996321\n",
            "  8.72572   21.22434   15.776839  18.771759  15.4295635 21.075594\n",
            "  9.850749  11.149155  18.685646  14.436098  13.582513   6.1577168\n",
            "  7.7709875 12.877205   9.3354225 25.18187   16.115917  19.431767\n",
            " 16.52509   11.973638  15.3880005 10.421518  11.700319  25.18187\n",
            " 13.472788  11.149155  18.210955   5.819528  19.903223  11.012863\n",
            "  3.461401  23.896791  17.529167   4.1686206 11.21276   18.697714\n",
            " 10.375013  11.09218   17.507877  11.5428705 18.197998  13.938249\n",
            " 13.966943   5.8381553  9.106076  11.163275   9.378255   5.8381553\n",
            " 10.022761  11.173217  21.94499   13.594789  14.851395  17.618595\n",
            " 12.693252   4.9512334  8.32353   12.070722   5.432344   9.385245\n",
            "  3.1870756 11.826313  10.6881    14.727859  15.092475  10.815315\n",
            " 13.774352  16.403778   7.1406717 16.863     13.211185  12.601495\n",
            " 17.411856  11.933431  16.030664  16.44095   13.472788  15.558661\n",
            " 20.00814   15.092475   8.749332  11.195449  16.55479   22.77205\n",
            " 24.235884  16.622845  22.745674  20.695734  13.216205  16.529242\n",
            "  7.3442397  5.5996614 13.076376  13.335562  17.557346   8.219017\n",
            "  7.527002   7.5521975 24.242981  12.335006  13.211185   8.616612\n",
            " 10.988654  16.55479   22.77205   16.678978  16.030664   7.913019\n",
            " 18.477123   9.80639   17.682878  22.384638  20.867191   7.8477626\n",
            "  4.9512334 13.739841  18.477123  16.678978  20.164602  10.910699\n",
            "  7.3729496 15.393842  25.242058   9.293999   9.996321  12.256993\n",
            " 17.197414  15.000101  19.093115  19.487621   4.068713  14.346665\n",
            " 10.433378   5.819528  21.520164  22.07754    9.814227  11.432452\n",
            " 18.68159   16.529242   8.9785385 17.76272   17.748863  18.210955\n",
            " 15.349041   8.480223  21.193441   7.1654    16.529242   4.068713\n",
            " 25.789461  18.197998  20.360146  11.36517    9.782003  22.894438\n",
            " 19.476345  13.739841  11.36517   14.539196   4.5212765 15.6921015]\n"
          ]
        }
      ]
    },
    {
      "cell_type": "code",
      "source": [
        "# show the true value and predicted value in dataframe\n",
        "true_predicted = pd.DataFrame(list(zip(y_test, test_predictions)), \n",
        "                    columns=['True Value','Predicted Value'])\n",
        "true_predicted.head(10)"
      ],
      "metadata": {
        "colab": {
          "base_uri": "https://localhost:8080/",
          "height": 363
        },
        "id": "2J9wMx_u3wQ_",
        "outputId": "d68f63d0-30cd-4f75-eaf2-dde6f443099c"
      },
      "execution_count": 35,
      "outputs": [
        {
          "output_type": "execute_result",
          "data": {
            "text/plain": [
              "   True Value  Predicted Value\n",
              "0        26.2        24.242981\n",
              "1        19.0        17.615545\n",
              "2        12.8        15.180934\n",
              "3        20.8        21.073256\n",
              "4        16.9        17.748863\n",
              "5        23.8        23.687344\n",
              "6         9.3        11.464930\n",
              "7        22.6        20.175665\n",
              "8        18.9        18.795527\n",
              "9        14.9        14.778589"
            ],
            "text/html": [
              "\n",
              "  <div id=\"df-31c94d2c-db91-4709-ac48-9b3555c48b20\">\n",
              "    <div class=\"colab-df-container\">\n",
              "      <div>\n",
              "<style scoped>\n",
              "    .dataframe tbody tr th:only-of-type {\n",
              "        vertical-align: middle;\n",
              "    }\n",
              "\n",
              "    .dataframe tbody tr th {\n",
              "        vertical-align: top;\n",
              "    }\n",
              "\n",
              "    .dataframe thead th {\n",
              "        text-align: right;\n",
              "    }\n",
              "</style>\n",
              "<table border=\"1\" class=\"dataframe\">\n",
              "  <thead>\n",
              "    <tr style=\"text-align: right;\">\n",
              "      <th></th>\n",
              "      <th>True Value</th>\n",
              "      <th>Predicted Value</th>\n",
              "    </tr>\n",
              "  </thead>\n",
              "  <tbody>\n",
              "    <tr>\n",
              "      <th>0</th>\n",
              "      <td>26.2</td>\n",
              "      <td>24.242981</td>\n",
              "    </tr>\n",
              "    <tr>\n",
              "      <th>1</th>\n",
              "      <td>19.0</td>\n",
              "      <td>17.615545</td>\n",
              "    </tr>\n",
              "    <tr>\n",
              "      <th>2</th>\n",
              "      <td>12.8</td>\n",
              "      <td>15.180934</td>\n",
              "    </tr>\n",
              "    <tr>\n",
              "      <th>3</th>\n",
              "      <td>20.8</td>\n",
              "      <td>21.073256</td>\n",
              "    </tr>\n",
              "    <tr>\n",
              "      <th>4</th>\n",
              "      <td>16.9</td>\n",
              "      <td>17.748863</td>\n",
              "    </tr>\n",
              "    <tr>\n",
              "      <th>5</th>\n",
              "      <td>23.8</td>\n",
              "      <td>23.687344</td>\n",
              "    </tr>\n",
              "    <tr>\n",
              "      <th>6</th>\n",
              "      <td>9.3</td>\n",
              "      <td>11.464930</td>\n",
              "    </tr>\n",
              "    <tr>\n",
              "      <th>7</th>\n",
              "      <td>22.6</td>\n",
              "      <td>20.175665</td>\n",
              "    </tr>\n",
              "    <tr>\n",
              "      <th>8</th>\n",
              "      <td>18.9</td>\n",
              "      <td>18.795527</td>\n",
              "    </tr>\n",
              "    <tr>\n",
              "      <th>9</th>\n",
              "      <td>14.9</td>\n",
              "      <td>14.778589</td>\n",
              "    </tr>\n",
              "  </tbody>\n",
              "</table>\n",
              "</div>\n",
              "      <button class=\"colab-df-convert\" onclick=\"convertToInteractive('df-31c94d2c-db91-4709-ac48-9b3555c48b20')\"\n",
              "              title=\"Convert this dataframe to an interactive table.\"\n",
              "              style=\"display:none;\">\n",
              "        \n",
              "  <svg xmlns=\"http://www.w3.org/2000/svg\" height=\"24px\"viewBox=\"0 0 24 24\"\n",
              "       width=\"24px\">\n",
              "    <path d=\"M0 0h24v24H0V0z\" fill=\"none\"/>\n",
              "    <path d=\"M18.56 5.44l.94 2.06.94-2.06 2.06-.94-2.06-.94-.94-2.06-.94 2.06-2.06.94zm-11 1L8.5 8.5l.94-2.06 2.06-.94-2.06-.94L8.5 2.5l-.94 2.06-2.06.94zm10 10l.94 2.06.94-2.06 2.06-.94-2.06-.94-.94-2.06-.94 2.06-2.06.94z\"/><path d=\"M17.41 7.96l-1.37-1.37c-.4-.4-.92-.59-1.43-.59-.52 0-1.04.2-1.43.59L10.3 9.45l-7.72 7.72c-.78.78-.78 2.05 0 2.83L4 21.41c.39.39.9.59 1.41.59.51 0 1.02-.2 1.41-.59l7.78-7.78 2.81-2.81c.8-.78.8-2.07 0-2.86zM5.41 20L4 18.59l7.72-7.72 1.47 1.35L5.41 20z\"/>\n",
              "  </svg>\n",
              "      </button>\n",
              "      \n",
              "  <style>\n",
              "    .colab-df-container {\n",
              "      display:flex;\n",
              "      flex-wrap:wrap;\n",
              "      gap: 12px;\n",
              "    }\n",
              "\n",
              "    .colab-df-convert {\n",
              "      background-color: #E8F0FE;\n",
              "      border: none;\n",
              "      border-radius: 50%;\n",
              "      cursor: pointer;\n",
              "      display: none;\n",
              "      fill: #1967D2;\n",
              "      height: 32px;\n",
              "      padding: 0 0 0 0;\n",
              "      width: 32px;\n",
              "    }\n",
              "\n",
              "    .colab-df-convert:hover {\n",
              "      background-color: #E2EBFA;\n",
              "      box-shadow: 0px 1px 2px rgba(60, 64, 67, 0.3), 0px 1px 3px 1px rgba(60, 64, 67, 0.15);\n",
              "      fill: #174EA6;\n",
              "    }\n",
              "\n",
              "    [theme=dark] .colab-df-convert {\n",
              "      background-color: #3B4455;\n",
              "      fill: #D2E3FC;\n",
              "    }\n",
              "\n",
              "    [theme=dark] .colab-df-convert:hover {\n",
              "      background-color: #434B5C;\n",
              "      box-shadow: 0px 1px 3px 1px rgba(0, 0, 0, 0.15);\n",
              "      filter: drop-shadow(0px 1px 2px rgba(0, 0, 0, 0.3));\n",
              "      fill: #FFFFFF;\n",
              "    }\n",
              "  </style>\n",
              "\n",
              "      <script>\n",
              "        const buttonEl =\n",
              "          document.querySelector('#df-31c94d2c-db91-4709-ac48-9b3555c48b20 button.colab-df-convert');\n",
              "        buttonEl.style.display =\n",
              "          google.colab.kernel.accessAllowed ? 'block' : 'none';\n",
              "\n",
              "        async function convertToInteractive(key) {\n",
              "          const element = document.querySelector('#df-31c94d2c-db91-4709-ac48-9b3555c48b20');\n",
              "          const dataTable =\n",
              "            await google.colab.kernel.invokeFunction('convertToInteractive',\n",
              "                                                     [key], {});\n",
              "          if (!dataTable) return;\n",
              "\n",
              "          const docLinkHtml = 'Like what you see? Visit the ' +\n",
              "            '<a target=\"_blank\" href=https://colab.research.google.com/notebooks/data_table.ipynb>data table notebook</a>'\n",
              "            + ' to learn more about interactive tables.';\n",
              "          element.innerHTML = '';\n",
              "          dataTable['output_type'] = 'display_data';\n",
              "          await google.colab.output.renderOutput(dataTable, element);\n",
              "          const docLink = document.createElement('div');\n",
              "          docLink.innerHTML = docLinkHtml;\n",
              "          element.appendChild(docLink);\n",
              "        }\n",
              "      </script>\n",
              "    </div>\n",
              "  </div>\n",
              "  "
            ]
          },
          "metadata": {},
          "execution_count": 35
        }
      ]
    },
    {
      "cell_type": "code",
      "source": [
        "# visualize the prediction uisng diagonal line\n",
        "y = test_predictions #y-axis\n",
        "x = y_test #x-axis\n",
        "fig, ax = plt.subplots(figsize=(10,6)) # create figure\n",
        "ax.scatter(x,y) #scatter plots for x,y\n",
        "ax.set(xlim=(0,55), ylim=(0, 55)) #set limit\n",
        "ax.plot(ax.get_xlim(), ax.get_ylim(), color ='red') # draw 45 degree diagonal in figure\n",
        "plt.xlabel('True Values')\n",
        "plt.ylabel('Predicted values')\n",
        "plt.title('Evaluation Result')\n",
        "plt.show()"
      ],
      "metadata": {
        "colab": {
          "base_uri": "https://localhost:8080/",
          "height": 404
        },
        "id": "AieP723k4MNQ",
        "outputId": "239599d6-60d9-4a8c-a413-e39839425bc2"
      },
      "execution_count": 37,
      "outputs": [
        {
          "output_type": "display_data",
          "data": {
            "text/plain": [
              "<Figure size 720x432 with 1 Axes>"
            ],
            "image/png": "[encoded data removed]"
          },
          "metadata": {
            "needs_background": "light"
          }
        }
      ]
    },
    {
      "cell_type": "code",
      "source": [
        "#Accuracy of linear regression on the dataset\n",
        "\n",
        "\n",
        "plt.figure(figsize=(10,5))\n",
        "sns.regplot(x=y_test,y=test_predictions,scatter_kws={'color':'red'})"
      ],
      "metadata": {
        "colab": {
          "base_uri": "https://localhost:8080/",
          "height": 352
        },
        "id": "Y-2efUAC6EmJ",
        "outputId": "9b9825a8-9686-4980-bd6d-6ff559283dbb"
      },
      "execution_count": 46,
      "outputs": [
        {
          "output_type": "execute_result",
          "data": {
            "text/plain": [
              "<Axes: xlabel='sales'>"
            ]
          },
          "metadata": {},
          "execution_count": 46
        },
        {
          "output_type": "display_data",
          "data": {
            "text/plain": [
              "<Figure size 720x360 with 1 Axes>"
            ],
            "image/png": "[encoded data removed]"
          },
          "metadata": {
            "needs_background": "light"
          }
        }
      ]
    },
    {
      "cell_type": "code",
      "source": [],
      "metadata": {
        "id": "yVI2A_k56Eyi"
      },
      "execution_count": null,
      "outputs": []
    },
    {
      "cell_type": "code",
      "source": [
        "# Importing metrics from sklearn\n",
        "from sklearn import metrics\n",
        "\n",
        "# Show the values of MAE, MSE, RMSE\n",
        "print('MAE:', metrics.mean_absolute_error(y_test, test_predictions))\n",
        "print('MSE:', metrics.mean_squared_error(y_test, test_predictions))\n",
        "print('RMSE:', np.sqrt(metrics.mean_squared_error(y_test, test_predictions)))"
      ],
      "metadata": {
        "colab": {
          "base_uri": "https://localhost:8080/"
        },
        "id": "Id0afKgD4MQE",
        "outputId": "d9557a2a-24c8-4d35-ae76-34925ee4a67d"
      },
      "execution_count": 42,
      "outputs": [
        {
          "output_type": "stream",
          "name": "stdout",
          "text": [
            "MAE: 1.2300932846466701\n",
            "MSE: 2.935268557986242\n",
            "RMSE: 1.7132625478852452\n"
          ]
        }
      ]
    },
    {
      "cell_type": "code",
      "source": [],
      "metadata": {
        "id": "It3zO_VZ4MSw"
      },
      "execution_count": null,
      "outputs": []
    },
    {
      "cell_type": "code",
      "source": [],
      "metadata": {
        "id": "O5nuZ9BR4MV1"
      },
      "execution_count": null,
      "outputs": []
    },
    {
      "cell_type": "code",
      "source": [],
      "metadata": {
        "id": "WpjjsSsJ4MYC"
      },
      "execution_count": null,
      "outputs": []
    },
    {
      "cell_type": "code",
      "source": [
        "diff = pd.Dataframe({'Actual':Y_test, 'Predicted': Y_pred})"
      ],
      "metadata": {
        "colab": {
          "base_uri": "https://localhost:8080/",
          "height": 290
        },
        "id": "ZDkyOBcwtJR9",
        "outputId": "3637b1c4-0dac-4b1a-bfbc-3fe46832736f"
      },
      "execution_count": 28,
      "outputs": [
        {
          "output_type": "error",
          "ename": "AttributeError",
          "evalue": "ignored",
          "traceback": [
            "\u001b[0;31m---------------------------------------------------------------------------\u001b[0m",
            "\u001b[0;31mAttributeError\u001b[0m                            Traceback (most recent call last)",
            "\u001b[0;32m<ipython-input-28-83532192e013>\u001b[0m in \u001b[0;36m<module>\u001b[0;34m\u001b[0m\n\u001b[0;32m----> 1\u001b[0;31m \u001b[0mdiff\u001b[0m \u001b[0;34m=\u001b[0m \u001b[0mpd\u001b[0m\u001b[0;34m.\u001b[0m\u001b[0mDataframe\u001b[0m\u001b[0;34m(\u001b[0m\u001b[0;34m{\u001b[0m\u001b[0;34m'Actual'\u001b[0m\u001b[0;34m:\u001b[0m\u001b[0mY_test\u001b[0m\u001b[0;34m,\u001b[0m \u001b[0;34m'Predicted'\u001b[0m\u001b[0;34m:\u001b[0m \u001b[0mY_pred\u001b[0m\u001b[0;34m}\u001b[0m\u001b[0;34m)\u001b[0m\u001b[0;34m\u001b[0m\u001b[0;34m\u001b[0m\u001b[0m\n\u001b[0m",
            "\u001b[0;32m/usr/local/lib/python3.9/dist-packages/pandas/__init__.py\u001b[0m in \u001b[0;36m__getattr__\u001b[0;34m(name)\u001b[0m\n\u001b[1;32m    259\u001b[0m         \u001b[0;32mreturn\u001b[0m \u001b[0m_SparseArray\u001b[0m\u001b[0;34m\u001b[0m\u001b[0;34m\u001b[0m\u001b[0m\n\u001b[1;32m    260\u001b[0m \u001b[0;34m\u001b[0m\u001b[0m\n\u001b[0;32m--> 261\u001b[0;31m     \u001b[0;32mraise\u001b[0m \u001b[0mAttributeError\u001b[0m\u001b[0;34m(\u001b[0m\u001b[0;34mf\"module 'pandas' has no attribute '{name}'\"\u001b[0m\u001b[0;34m)\u001b[0m\u001b[0;34m\u001b[0m\u001b[0;34m\u001b[0m\u001b[0m\n\u001b[0m\u001b[1;32m    262\u001b[0m \u001b[0;34m\u001b[0m\u001b[0m\n\u001b[1;32m    263\u001b[0m \u001b[0;34m\u001b[0m\u001b[0m\n",
            "\u001b[0;31mAttributeError\u001b[0m: module 'pandas' has no attribute 'Dataframe'"
          ]
        }
      ]
    },
    {
      "cell_type": "code",
      "source": [],
      "metadata": {
        "id": "vy9ewk9mtJUR"
      },
      "execution_count": null,
      "outputs": []
    },
    {
      "cell_type": "code",
      "source": [],
      "metadata": {
        "id": "ylMtn4GYtJXE"
      },
      "execution_count": null,
      "outputs": []
    },
    {
      "cell_type": "code",
      "source": [],
      "metadata": {
        "id": "rAikaiZZeom1"
      },
      "execution_count": null,
      "outputs": []
    },
    {
      "cell_type": "code",
      "source": [],
      "metadata": {
        "id": "jvJBxwN0eovy"
      },
      "execution_count": null,
      "outputs": []
    },
    {
      "cell_type": "code",
      "source": [],
      "metadata": {
        "id": "0hX9dhp9eoyy"
      },
      "execution_count": null,
      "outputs": []
    },
    {
      "cell_type": "code",
      "source": [],
      "metadata": {
        "id": "z6q-Z-y1eo5D"
      },
      "execution_count": null,
      "outputs": []
    },
    {
      "cell_type": "code",
      "source": [],
      "metadata": {
        "id": "B25EQ7Mreo9S"
      },
      "execution_count": null,
      "outputs": []
    },
    {
      "cell_type": "code",
      "source": [],
      "metadata": {
        "id": "7D6CFxulepA3"
      },
      "execution_count": null,
      "outputs": []
    },
    {
      "cell_type": "code",
      "source": [
        "#Note that after 32 Epochs we could have \"stopped early\" rather than go ghrough 150 eochs since the\n",
        "#numbers are so close MSE is around $163K."
      ],
      "metadata": {
        "id": "4ugb7VFyw3zf"
      },
      "execution_count": null,
      "outputs": []
    },
    {
      "cell_type": "code",
      "source": [
        "## Build the model\n",
        "model = Sequential()\n",
        "model.add(Dense(32, input_dim=4, activation= \"relu\"))\n",
        "model.add(Dense(32, activation= \"relu\"))\n",
        "model.add(Dense(1, activation='linear', name='sales'))\n",
        "\n",
        "\n",
        "## Compile the Model\n",
        "model.compile(loss= \"mean_squared_error\" , \n",
        "              optimizer=\"adam\", \n",
        "              metrics=[\"mean_squared_error\"])\n",
        "\n",
        "\n",
        "## Fit the Model\n",
        "\n",
        "early_stop = EarlyStopping(monitor='val_loss', patience=15) # stops training when it doesn't show improvemnet.\n",
        "\n",
        "history = model.fit(X_train, y_train,\n",
        "          batch_size=32, epochs=100,\n",
        "          validation_data = (X_test, y_test))\n",
        "\n",
        "#train model and perform validation test\n",
        "\n",
        "\n"
      ],
      "metadata": {
        "id": "MCXZzWnsKJjL"
      },
      "execution_count": null,
      "outputs": []
    },
    {
      "cell_type": "code",
      "source": [
        "#Let's show loss as Mean Square Error (MSE)\n",
        "loss, mse = model.evaluate(X_train)\n",
        "\n",
        "print(\"Mean Squared Error\", mse)"
      ],
      "metadata": {
        "id": "z5YSyc-5n6IX"
      },
      "execution_count": null,
      "outputs": []
    },
    {
      "cell_type": "code",
      "source": [
        "# show the graph of model loss in trainig and validation \n",
        "\n",
        "plt.figure(figsize=(15,8))\n",
        "plt.xlabel('Epoch')\n",
        "plt.ylabel('Mean Square Error')\n",
        "plt.plot(history.epoch, history.history['loss'],\n",
        "           label='Train Loss')\n",
        "plt.plot(history.epoch, history.history['val_loss'],\n",
        "           label = 'Val loss')\n",
        "plt.title('Model loss')\n",
        "plt.legend()\n",
        "\n",
        "## TALK ABOUT CONVERGENCE\n"
      ],
      "metadata": {
        "id": "-Pq2v9VPk5Ei"
      },
      "execution_count": null,
      "outputs": []
    },
    {
      "cell_type": "code",
      "source": [
        "# Use matplotlib to draw the model's loss curves for training and validation\n",
        "def plot_curves(history, metrics):\n",
        "    nrows = 1\n",
        "    ncols = 2\n",
        "    fig = plt.figure(figsize=(10, 5))\n",
        "\n",
        "    for idx, key in enumerate(metrics):  \n",
        "        ax = fig.add_subplot(nrows, ncols, idx+1)\n",
        "        plt.plot(history.history[key])\n",
        "        plt.plot(history.history['val_{}'.format(key)])\n",
        "        plt.title('model {}'.format(key))\n",
        "        plt.ylabel(key)\n",
        "        plt.xlabel('epoch')\n",
        "        plt.legend(['train', 'validation'], loc='upper left');  \n"
      ],
      "metadata": {
        "id": "dAnaz94xojQ1"
      },
      "execution_count": null,
      "outputs": []
    },
    {
      "cell_type": "code",
      "source": [
        "plot_curves(history, ['loss', 'mse'])"
      ],
      "metadata": {
        "id": "jjTWkIMzkr22"
      },
      "execution_count": null,
      "outputs": []
    },
    {
      "cell_type": "code",
      "source": [
        "'''=== Visualize the model evaluation skill ==='''\n",
        "\n",
        "\n",
        "# visualize the prediction uisng diagonal line\n",
        "y = test_predictions #y-axis\n",
        "x = y_test #x-axis\n",
        "fig, ax = plt.subplots(figsize=(10,6)) # create figure\n",
        "ax.scatter(x,y) #scatter plots for x,y\n",
        "ax.set(xlim=(0,55), ylim=(0, 55)) #set limit\n",
        "ax.plot(ax.get_xlim(), ax.get_ylim(), color ='red') # draw 45 degree diagonal in figure\n",
        "plt.xlabel('True Values')\n",
        "plt.ylabel('Predicted values')\n",
        "plt.title('Evaluation Result')\n",
        "plt.show()"
      ],
      "metadata": {
        "colab": {
          "base_uri": "https://localhost:8080/",
          "height": 238
        },
        "id": "8b5BnJPDq3uY",
        "outputId": "88351aa8-08bc-439a-9c36-28e27f6b5df9"
      },
      "execution_count": 29,
      "outputs": [
        {
          "output_type": "error",
          "ename": "NameError",
          "evalue": "ignored",
          "traceback": [
            "\u001b[0;31m---------------------------------------------------------------------------\u001b[0m",
            "\u001b[0;31mNameError\u001b[0m                                 Traceback (most recent call last)",
            "\u001b[0;32m<ipython-input-29-d03b9865b812>\u001b[0m in \u001b[0;36m<module>\u001b[0;34m\u001b[0m\n\u001b[1;32m      3\u001b[0m \u001b[0;34m\u001b[0m\u001b[0m\n\u001b[1;32m      4\u001b[0m \u001b[0;31m# visualize the prediction uisng diagonal line\u001b[0m\u001b[0;34m\u001b[0m\u001b[0;34m\u001b[0m\u001b[0m\n\u001b[0;32m----> 5\u001b[0;31m \u001b[0my\u001b[0m \u001b[0;34m=\u001b[0m \u001b[0mtest_predictions\u001b[0m \u001b[0;31m#y-axis\u001b[0m\u001b[0;34m\u001b[0m\u001b[0;34m\u001b[0m\u001b[0m\n\u001b[0m\u001b[1;32m      6\u001b[0m \u001b[0mx\u001b[0m \u001b[0;34m=\u001b[0m \u001b[0my_test\u001b[0m \u001b[0;31m#x-axis\u001b[0m\u001b[0;34m\u001b[0m\u001b[0;34m\u001b[0m\u001b[0m\n\u001b[1;32m      7\u001b[0m \u001b[0mfig\u001b[0m\u001b[0;34m,\u001b[0m \u001b[0max\u001b[0m \u001b[0;34m=\u001b[0m \u001b[0mplt\u001b[0m\u001b[0;34m.\u001b[0m\u001b[0msubplots\u001b[0m\u001b[0;34m(\u001b[0m\u001b[0mfigsize\u001b[0m\u001b[0;34m=\u001b[0m\u001b[0;34m(\u001b[0m\u001b[0;36m10\u001b[0m\u001b[0;34m,\u001b[0m\u001b[0;36m6\u001b[0m\u001b[0;34m)\u001b[0m\u001b[0;34m)\u001b[0m \u001b[0;31m# create figure\u001b[0m\u001b[0;34m\u001b[0m\u001b[0;34m\u001b[0m\u001b[0m\n",
            "\u001b[0;31mNameError\u001b[0m: name 'test_predictions' is not defined"
          ]
        }
      ]
    },
    {
      "cell_type": "code",
      "source": [
        "#check the model performace in test dataset\n",
        "score = model.evaluate(X_test, y_test, verbose=1)\n",
        "print('loss value: ', score[0])\n",
        "print('Mean absolute error: ', score[1])\n"
      ],
      "metadata": {
        "colab": {
          "base_uri": "https://localhost:8080/"
        },
        "id": "gQmqosSnq4q5",
        "outputId": "91b1826b-1917-4a75-fff8-b4d87bedf5b6"
      },
      "execution_count": 30,
      "outputs": [
        {
          "output_type": "stream",
          "name": "stdout",
          "text": [
            "15/15 [==============================] - 0s 2ms/step - loss: 2.9353 - mae: 1.2301\n",
            "loss value:  2.9352686405181885\n",
            "Mean absolute error:  1.2300933599472046\n"
          ]
        }
      ]
    },
    {
      "cell_type": "code",
      "source": [],
      "metadata": {
        "id": "x_mB6HGWq5la"
      },
      "execution_count": null,
      "outputs": []
    },
    {
      "cell_type": "code",
      "source": [
        "'''=== predict the SALES =='''\n",
        "\n",
        "# predict SALES using the test data \n",
        "test_predictions = model.predict(X_test).flatten()\n",
        "print(test_predictions)\n"
      ],
      "metadata": {
        "colab": {
          "base_uri": "https://localhost:8080/"
        },
        "id": "ey9yd5NKX2cA",
        "outputId": "296e8177-e1a5-42b4-e971-8f32859246a9"
      },
      "execution_count": 32,
      "outputs": [
        {
          "output_type": "stream",
          "name": "stdout",
          "text": [
            "15/15 [==============================] - 0s 2ms/step\n",
            "[24.242981  17.615545  15.180934  21.073256  17.748863  23.687344\n",
            " 11.46493   20.175665  18.795527  14.778589   6.939116  16.44095\n",
            "  7.3442397  8.21145   11.511036   7.6814475 21.075594  14.529778\n",
            "  4.5014253 17.682878  23.896791   7.1654    11.686294  12.362489\n",
            "  9.634967   4.5212765 15.800166  18.197998  12.865475   9.782003\n",
            " 14.728499  16.035858  20.360146  16.09847    8.7966175  8.8001795\n",
            " 25.399445  15.092475  13.894523  16.028824  13.950454  15.129639\n",
            "  8.282825  15.015562  15.558661  14.436098   6.7644053 25.399445\n",
            " 13.532619  10.006586   8.81809   11.511036  11.758756  16.246264\n",
            "  4.9512334 18.256573  16.134172  20.630358   9.018981  14.186756\n",
            " 11.826313  11.163275  11.36517   14.352826   8.90522   11.656869\n",
            " 10.375013  22.536224   7.527002  21.643042   6.8142858 23.045895\n",
            "  8.749332  19.903223  12.606467  16.622845  17.214735  12.989614\n",
            " 16.035858  19.710693  16.799067  19.647053  16.532333  17.618595\n",
            " 14.729345  13.533946  12.7912245  9.71216    5.023283  12.318902\n",
            " 21.458908   9.782003  12.877205   9.096104  11.195449  20.265512\n",
            "  5.6238236 21.073256  24.216173  11.929799   5.1954813 15.393842\n",
            "  9.851715  10.385327  24.483559  21.643042   6.1577168  7.7241755\n",
            "  9.229393  11.033554  11.686294   6.5473146 11.580846  20.541952\n",
            " 12.66257   19.46774    5.1954813 19.603159  26.472391   8.72572\n",
            " 16.035858  20.867414  19.647053   3.5803823 22.75267   20.806063\n",
            " 19.365526   8.2802725  5.695242  24.429316  11.790489   4.5014253\n",
            " 19.487621  17.288033  12.344729  22.384638   8.863173  14.367302\n",
            " 14.102789  18.460245   8.2802725 12.606467  11.149155  16.134172\n",
            "  5.6238236  6.331489   9.527524  23.684515   9.385245  18.328735\n",
            " 14.529778  12.965667   9.076395   9.850749  25.789461  12.965667\n",
            " 12.606467  18.717148  20.867191   9.99632   19.46774   14.778589\n",
            " 19.431767  24.483559   7.3522353 17.506289   7.7709875  5.5996614\n",
            "  8.616612  11.158142  15.467153   9.681013  11.594197  22.288004\n",
            " 10.006586  14.778589  22.77205   21.662104  14.450935  21.94499\n",
            " 11.765646   6.704634  16.012003  24.792393  20.46653    9.634967\n",
            "  7.8477626 15.58214    7.5886364 20.23767   18.527409  14.02794\n",
            "  8.982233  11.826313  11.373894   5.1954813 14.436098  13.915876\n",
            "  9.076395  16.593033   4.16862   17.529167  15.7032175  8.528313\n",
            "  6.768784  14.352826   5.023283   3.1870756  9.422061   9.323076\n",
            " 21.421558  17.76272   15.519197  16.799067   9.558966  22.84114\n",
            " 16.184072   9.369652  10.311425  11.765646   9.229393  13.950454\n",
            " 15.7032175  9.385245  17.76272    9.369652   7.6814475 17.506289\n",
            " 10.372089  11.973638  20.806063   6.768784  16.532333   9.490478\n",
            " 15.308001  12.113055   6.606195  24.429316  21.94499    7.372317\n",
            " 12.880196   6.7644053 16.409506  23.1835    16.409506  12.318902\n",
            "  5.023283  10.006586  14.049987   6.9037447 11.552416  11.335233\n",
            " 12.070722   6.1156144 16.598116   9.644681  17.38033   15.308001\n",
            " 10.6867695 13.879525  17.529167  22.894438  16.184072  19.139872\n",
            " 14.186756  15.3880005 19.473814  17.346954  14.28369   11.033554\n",
            " 12.965667  24.464903  17.643782  13.076376  12.113055  14.450935\n",
            "  6.747828   7.31994   13.544255  16.678978  26.472391  11.281804\n",
            " 19.093115   5.432344  17.38033   15.330476  12.973191  19.093115\n",
            "  6.2814813 20.46653   12.271921  22.022917   8.982233  20.23767\n",
            " 11.8071375 18.582903  10.909951   7.7922792  7.4536815 21.520164\n",
            " 22.732288  14.642754   7.552197  21.38455    5.819528  13.211185\n",
            " 22.370064   9.80639   13.980415  20.164602  25.242058   7.2629476\n",
            "  9.562026  15.58214   20.541952   4.5212765 16.340519   9.996321\n",
            "  8.72572   21.22434   15.776839  18.771759  15.4295635 21.075594\n",
            "  9.850749  11.149155  18.685646  14.436098  13.582513   6.1577168\n",
            "  7.7709875 12.877205   9.3354225 25.18187   16.115917  19.431767\n",
            " 16.52509   11.973638  15.3880005 10.421518  11.700319  25.18187\n",
            " 13.472788  11.149155  18.210955   5.819528  19.903223  11.012863\n",
            "  3.461401  23.896791  17.529167   4.1686206 11.21276   18.697714\n",
            " 10.375013  11.09218   17.507877  11.5428705 18.197998  13.938249\n",
            " 13.966943   5.8381553  9.106076  11.163275   9.378255   5.8381553\n",
            " 10.022761  11.173217  21.94499   13.594789  14.851395  17.618595\n",
            " 12.693252   4.9512334  8.32353   12.070722   5.432344   9.385245\n",
            "  3.1870756 11.826313  10.6881    14.727859  15.092475  10.815315\n",
            " 13.774352  16.403778   7.1406717 16.863     13.211185  12.601495\n",
            " 17.411856  11.933431  16.030664  16.44095   13.472788  15.558661\n",
            " 20.00814   15.092475   8.749332  11.195449  16.55479   22.77205\n",
            " 24.235884  16.622845  22.745674  20.695734  13.216205  16.529242\n",
            "  7.3442397  5.5996614 13.076376  13.335562  17.557346   8.219017\n",
            "  7.527002   7.5521975 24.242981  12.335006  13.211185   8.616612\n",
            " 10.988654  16.55479   22.77205   16.678978  16.030664   7.913019\n",
            " 18.477123   9.80639   17.682878  22.384638  20.867191   7.8477626\n",
            "  4.9512334 13.739841  18.477123  16.678978  20.164602  10.910699\n",
            "  7.3729496 15.393842  25.242058   9.293999   9.996321  12.256993\n",
            " 17.197414  15.000101  19.093115  19.487621   4.068713  14.346665\n",
            " 10.433378   5.819528  21.520164  22.07754    9.814227  11.432452\n",
            " 18.68159   16.529242   8.9785385 17.76272   17.748863  18.210955\n",
            " 15.349041   8.480223  21.193441   7.1654    16.529242   4.068713\n",
            " 25.789461  18.197998  20.360146  11.36517    9.782003  22.894438\n",
            " 19.476345  13.739841  11.36517   14.539196   4.5212765 15.6921015]\n"
          ]
        }
      ]
    },
    {
      "cell_type": "code",
      "source": [
        "# show the true value and predicted value in dataframe\n",
        "true_predicted = pd.DataFrame(list(zip(y_test, test_predictions)), \n",
        "                    columns=['True Value','Predicted Value'])\n",
        "true_predicted.head(100)"
      ],
      "metadata": {
        "colab": {
          "base_uri": "https://localhost:8080/",
          "height": 424
        },
        "id": "djjOQoW4YDzy",
        "outputId": "a4b94a59-ae95-4383-8c7c-878f0627e9e6"
      },
      "execution_count": 45,
      "outputs": [
        {
          "output_type": "execute_result",
          "data": {
            "text/plain": [
              "    True Value  Predicted Value\n",
              "0         26.2        24.242981\n",
              "1         19.0        17.615545\n",
              "2         12.8        15.180934\n",
              "3         20.8        21.073256\n",
              "4         16.9        17.748863\n",
              "..         ...              ...\n",
              "95        20.2        20.265512\n",
              "96         8.8         5.623824\n",
              "97        20.8        21.073256\n",
              "98        25.4        24.216173\n",
              "99        12.8        11.929799\n",
              "\n",
              "[100 rows x 2 columns]"
            ],
            "text/html": [
              "\n",
              "  <div id=\"df-96ebf89b-e965-4e1d-9591-07384d667ef4\">\n",
              "    <div class=\"colab-df-container\">\n",
              "      <div>\n",
              "<style scoped>\n",
              "    .dataframe tbody tr th:only-of-type {\n",
              "        vertical-align: middle;\n",
              "    }\n",
              "\n",
              "    .dataframe tbody tr th {\n",
              "        vertical-align: top;\n",
              "    }\n",
              "\n",
              "    .dataframe thead th {\n",
              "        text-align: right;\n",
              "    }\n",
              "</style>\n",
              "<table border=\"1\" class=\"dataframe\">\n",
              "  <thead>\n",
              "    <tr style=\"text-align: right;\">\n",
              "      <th></th>\n",
              "      <th>True Value</th>\n",
              "      <th>Predicted Value</th>\n",
              "    </tr>\n",
              "  </thead>\n",
              "  <tbody>\n",
              "    <tr>\n",
              "      <th>0</th>\n",
              "      <td>26.2</td>\n",
              "      <td>24.242981</td>\n",
              "    </tr>\n",
              "    <tr>\n",
              "      <th>1</th>\n",
              "      <td>19.0</td>\n",
              "      <td>17.615545</td>\n",
              "    </tr>\n",
              "    <tr>\n",
              "      <th>2</th>\n",
              "      <td>12.8</td>\n",
              "      <td>15.180934</td>\n",
              "    </tr>\n",
              "    <tr>\n",
              "      <th>3</th>\n",
              "      <td>20.8</td>\n",
              "      <td>21.073256</td>\n",
              "    </tr>\n",
              "    <tr>\n",
              "      <th>4</th>\n",
              "      <td>16.9</td>\n",
              "      <td>17.748863</td>\n",
              "    </tr>\n",
              "    <tr>\n",
              "      <th>...</th>\n",
              "      <td>...</td>\n",
              "      <td>...</td>\n",
              "    </tr>\n",
              "    <tr>\n",
              "      <th>95</th>\n",
              "      <td>20.2</td>\n",
              "      <td>20.265512</td>\n",
              "    </tr>\n",
              "    <tr>\n",
              "      <th>96</th>\n",
              "      <td>8.8</td>\n",
              "      <td>5.623824</td>\n",
              "    </tr>\n",
              "    <tr>\n",
              "      <th>97</th>\n",
              "      <td>20.8</td>\n",
              "      <td>21.073256</td>\n",
              "    </tr>\n",
              "    <tr>\n",
              "      <th>98</th>\n",
              "      <td>25.4</td>\n",
              "      <td>24.216173</td>\n",
              "    </tr>\n",
              "    <tr>\n",
              "      <th>99</th>\n",
              "      <td>12.8</td>\n",
              "      <td>11.929799</td>\n",
              "    </tr>\n",
              "  </tbody>\n",
              "</table>\n",
              "<p>100 rows × 2 columns</p>\n",
              "</div>\n",
              "      <button class=\"colab-df-convert\" onclick=\"convertToInteractive('df-96ebf89b-e965-4e1d-9591-07384d667ef4')\"\n",
              "              title=\"Convert this dataframe to an interactive table.\"\n",
              "              style=\"display:none;\">\n",
              "        \n",
              "  <svg xmlns=\"http://www.w3.org/2000/svg\" height=\"24px\"viewBox=\"0 0 24 24\"\n",
              "       width=\"24px\">\n",
              "    <path d=\"M0 0h24v24H0V0z\" fill=\"none\"/>\n",
              "    <path d=\"M18.56 5.44l.94 2.06.94-2.06 2.06-.94-2.06-.94-.94-2.06-.94 2.06-2.06.94zm-11 1L8.5 8.5l.94-2.06 2.06-.94-2.06-.94L8.5 2.5l-.94 2.06-2.06.94zm10 10l.94 2.06.94-2.06 2.06-.94-2.06-.94-.94-2.06-.94 2.06-2.06.94z\"/><path d=\"M17.41 7.96l-1.37-1.37c-.4-.4-.92-.59-1.43-.59-.52 0-1.04.2-1.43.59L10.3 9.45l-7.72 7.72c-.78.78-.78 2.05 0 2.83L4 21.41c.39.39.9.59 1.41.59.51 0 1.02-.2 1.41-.59l7.78-7.78 2.81-2.81c.8-.78.8-2.07 0-2.86zM5.41 20L4 18.59l7.72-7.72 1.47 1.35L5.41 20z\"/>\n",
              "  </svg>\n",
              "      </button>\n",
              "      \n",
              "  <style>\n",
              "    .colab-df-container {\n",
              "      display:flex;\n",
              "      flex-wrap:wrap;\n",
              "      gap: 12px;\n",
              "    }\n",
              "\n",
              "    .colab-df-convert {\n",
              "      background-color: #E8F0FE;\n",
              "      border: none;\n",
              "      border-radius: 50%;\n",
              "      cursor: pointer;\n",
              "      display: none;\n",
              "      fill: #1967D2;\n",
              "      height: 32px;\n",
              "      padding: 0 0 0 0;\n",
              "      width: 32px;\n",
              "    }\n",
              "\n",
              "    .colab-df-convert:hover {\n",
              "      background-color: #E2EBFA;\n",
              "      box-shadow: 0px 1px 2px rgba(60, 64, 67, 0.3), 0px 1px 3px 1px rgba(60, 64, 67, 0.15);\n",
              "      fill: #174EA6;\n",
              "    }\n",
              "\n",
              "    [theme=dark] .colab-df-convert {\n",
              "      background-color: #3B4455;\n",
              "      fill: #D2E3FC;\n",
              "    }\n",
              "\n",
              "    [theme=dark] .colab-df-convert:hover {\n",
              "      background-color: #434B5C;\n",
              "      box-shadow: 0px 1px 3px 1px rgba(0, 0, 0, 0.15);\n",
              "      filter: drop-shadow(0px 1px 2px rgba(0, 0, 0, 0.3));\n",
              "      fill: #FFFFFF;\n",
              "    }\n",
              "  </style>\n",
              "\n",
              "      <script>\n",
              "        const buttonEl =\n",
              "          document.querySelector('#df-96ebf89b-e965-4e1d-9591-07384d667ef4 button.colab-df-convert');\n",
              "        buttonEl.style.display =\n",
              "          google.colab.kernel.accessAllowed ? 'block' : 'none';\n",
              "\n",
              "        async function convertToInteractive(key) {\n",
              "          const element = document.querySelector('#df-96ebf89b-e965-4e1d-9591-07384d667ef4');\n",
              "          const dataTable =\n",
              "            await google.colab.kernel.invokeFunction('convertToInteractive',\n",
              "                                                     [key], {});\n",
              "          if (!dataTable) return;\n",
              "\n",
              "          const docLinkHtml = 'Like what you see? Visit the ' +\n",
              "            '<a target=\"_blank\" href=https://colab.research.google.com/notebooks/data_table.ipynb>data table notebook</a>'\n",
              "            + ' to learn more about interactive tables.';\n",
              "          element.innerHTML = '';\n",
              "          dataTable['output_type'] = 'display_data';\n",
              "          await google.colab.output.renderOutput(dataTable, element);\n",
              "          const docLink = document.createElement('div');\n",
              "          docLink.innerHTML = docLinkHtml;\n",
              "          element.appendChild(docLink);\n",
              "        }\n",
              "      </script>\n",
              "    </div>\n",
              "  </div>\n",
              "  "
            ]
          },
          "metadata": {},
          "execution_count": 45
        }
      ]
    },
    {
      "cell_type": "code",
      "source": [
        "# visualize the prediction using diagonal line\n",
        "y = test_predictions #y-axis\n",
        "x = y_test #x-axis\n",
        "fig, ax = plt.subplots(figsize=(10,6)) # create figure\n",
        "ax.scatter(x,y) #scatter plots for x,y\n",
        "ax.set(xlim=(0,55), ylim=(0, 55)) #set limit\n",
        "ax.plot(ax.get_xlim(), ax.get_ylim(), color ='red') # draw 45 degree diagonal in figure\n",
        "plt.xlabel('True Values')\n",
        "plt.ylabel('Predicted values')\n",
        "plt.title('Evaluation Result')\n",
        "plt.show()"
      ],
      "metadata": {
        "colab": {
          "base_uri": "https://localhost:8080/",
          "height": 404
        },
        "id": "WS7EC2t2YGeL",
        "outputId": "7b370be7-fe59-44ed-ff94-0156d5819780"
      },
      "execution_count": 36,
      "outputs": [
        {
          "output_type": "display_data",
          "data": {
            "text/plain": [
              "<Figure size 720x432 with 1 Axes>"
            ],
            "image/png": "[encoded data removed]"
          },
          "metadata": {
            "needs_background": "light"
          }
        }
      ]
    },
    {
      "cell_type": "code",
      "source": [
        "#Accuracy of linear regression on the dataset\n",
        "\n",
        "\n",
        "plt.figure(figsize=(10,5))\n",
        "sns.regplot(x=y_test,y=test_predictions,scatter_kws={'color':'red'})\n"
      ],
      "metadata": {
        "colab": {
          "base_uri": "https://localhost:8080/",
          "height": 352
        },
        "id": "2XKINWwXlxD2",
        "outputId": "d428938e-4b75-4be6-b61f-f6902703107a"
      },
      "execution_count": 44,
      "outputs": [
        {
          "output_type": "execute_result",
          "data": {
            "text/plain": [
              "<Axes: xlabel='sales'>"
            ]
          },
          "metadata": {},
          "execution_count": 44
        },
        {
          "output_type": "display_data",
          "data": {
            "text/plain": [
              "<Figure size 720x360 with 1 Axes>"
            ],
            "image/png": "[encoded data removed]"
          },
          "metadata": {
            "needs_background": "light"
          }
        }
      ]
    },
    {
      "cell_type": "code",
      "source": [
        "## EVALUATE\n",
        "\n"
      ],
      "metadata": {
        "id": "Eixuo_ISWv_3"
      },
      "execution_count": null,
      "outputs": []
    },
    {
      "cell_type": "markdown",
      "source": [
        "NOTHING PAST HERE"
      ],
      "metadata": {
        "id": "A9LUsykitlcd"
      }
    },
    {
      "cell_type": "markdown",
      "metadata": {
        "id": "uh_3f6dgnO2K"
      },
      "source": [
        "## Creating and Training the Model"
      ]
    },
    {
      "cell_type": "markdown",
      "metadata": {
        "id": "hQi2T_gbnO2P"
      },
      "source": [
        "## Model Evaluation\n",
        "\n",
        "Let's evaluate the model by checking out it's coefficients and how you can interpret them."
      ]
    },
    {
      "cell_type": "markdown",
      "source": [],
      "metadata": {
        "id": "wejQSiBitPby"
      }
    },
    {
      "cell_type": "markdown",
      "metadata": {
        "id": "aKW2IiSynO2b"
      },
      "source": [
        "**Residual Histogram**"
      ]
    },
    {
      "cell_type": "markdown",
      "metadata": {
        "id": "Znh-A9YrnO2d"
      },
      "source": [
        "## Regression Evaluation Metrics\n",
        "\n",
        "\n",
        "Here are three common evaluation metrics for regression problems:\n",
        "\n",
        "**Mean Absolute Error** (MAE) is the mean of the absolute value of the errors:\n",
        "\n",
        "$$\\frac 1n\\sum_{i=1}^n|y_i-\\hat{y}_i|$$\n",
        "\n",
        "**Mean Squared Error** (MSE) is the mean of the squared errors:\n",
        "\n",
        "$$\\frac 1n\\sum_{i=1}^n(y_i-\\hat{y}_i)^2$$\n",
        "\n",
        "**Root Mean Squared Error** (RMSE) is the square root of the mean of the squared errors:\n",
        "\n",
        "$$\\sqrt{\\frac 1n\\sum_{i=1}^n(y_i-\\hat{y}_i)^2}$$\n",
        "\n",
        "Comparing these metrics:\n",
        "\n",
        "- **MAE** is the easiest to understand, because it's the average error.\n",
        "- **MSE** is more popular than MAE, because MSE \"punishes\" larger errors, which tends to be useful in the real world.\n",
        "- **RMSE** is even more popular than MSE, because RMSE is interpretable in the \"y\" units.\n",
        "\n",
        "All of these are **loss functions**, because you want to minimize them."
      ]
    },
    {
      "cell_type": "code",
      "execution_count": 40,
      "metadata": {
        "id": "ePMew8WdnO2d"
      },
      "outputs": [],
      "source": [
        "# Importing metrics from sklearn\n",
        "from sklearn import metrics"
      ]
    },
    {
      "cell_type": "code",
      "execution_count": 41,
      "metadata": {
        "id": "Ev152sRanO2f",
        "colab": {
          "base_uri": "https://localhost:8080/"
        },
        "outputId": "39725053-cbf6-491a-d298-3d90f0566ef6"
      },
      "outputs": [
        {
          "output_type": "stream",
          "name": "stdout",
          "text": [
            "MAE: 1.2300932846466701\n",
            "MSE: 2.935268557986242\n",
            "RMSE: 1.7132625478852452\n"
          ]
        }
      ],
      "source": [
        "# Importing metrics from sklearn\n",
        "from sklearn import metrics\n",
        "\n",
        "# Show the values of MAE, MSE, RMSE\n",
        "print('MAE:', metrics.mean_absolute_error(y_test, test_predictions))\n",
        "print('MSE:', metrics.mean_squared_error(y_test, test_predictions))\n",
        "print('RMSE:', np.sqrt(metrics.mean_squared_error(y_test, test_predictions)))"
      ]
    }
  ],
  "metadata": {
    "colab": {
      "provenance": [],
      "include_colab_link": true
    },
    "environment": {
      "kernel": "python3",
      "name": "tf2-gpu.2-6.m87",
      "type": "gcloud",
      "uri": "gcr.io/deeplearning-platform-release/tf2-gpu.2-6:m87"
    },
    "kernelspec": {
      "display_name": "Python 3",
      "language": "python",
      "name": "python3"
    },
    "language_info": {
      "codemirror_mode": {
        "name": "ipython",
        "version": 3
      },
      "file_extension": ".py",
      "mimetype": "text/x-python",
      "name": "python",
      "nbconvert_exporter": "python",
      "pygments_lexer": "ipython3",
      "version": "3.7.12"
    }
  },
  "nbformat": 4,
  "nbformat_minor": 0
}