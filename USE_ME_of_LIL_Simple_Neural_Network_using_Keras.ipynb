{
  "cells": [
    {
      "cell_type": "markdown",
      "metadata": {
        "id": "DGPlYumZnO1t"
      },
      "source": [
        "# Introduction to Linear Regression \n",
        "\n",
        "\n",
        "\n",
        "## Learning objectives\n",
        "\n",
        "1. Analyze a Pandas Dataframe.\n",
        "2. Create Seaborn plots for Exploratory Data Analysis.\n",
        "3. Train a Linear Regression Model using Scikit-Learn.\n",
        "\n",
        "\n",
        "## Introduction \n",
        "This lab is an introduction to linear regression using Python and Scikit-Learn.  This lab serves as a foundation for more complex algorithms and machine learning models that you will encounter in the course. You will train a linear regression model to predict housing price.\n",
        "\n",
        "Each learning objective will correspond to a __#TODO__ in the [student lab notebook](../labs/intro_linear_regression.ipynb) -- try to complete that notebook first before reviewing this solution notebook."
      ]
    },
    {
      "cell_type": "markdown",
      "metadata": {
        "id": "AsHg6SD2nO1v"
      },
      "source": [
        "### Import Libraries"
      ]
    },
    {
      "cell_type": "code",
      "execution_count": 2,
      "metadata": {
        "id": "gEXV-RxPnO1w"
      },
      "outputs": [],
      "source": [
        "# Importing Pandas, a data processing and CSV file I/O libraries\n",
        "import os \n",
        "import pandas as pd\n",
        "import numpy as np\n",
        "import matplotlib.pyplot as plt\n",
        "import seaborn as sns # Seaborn is a Python data visualization library based on matplotlib. \n",
        "%matplotlib inline   \n",
        "import sklearn\n",
        "\n",
        "##Import the libraries\n",
        "#import necessary libraries\n",
        "import pandas as pd\n",
        "import numpy as np\n",
        "import tensorflow as tf\n",
        "from tensorflow import keras\n",
        "import matplotlib.pyplot as plt\n",
        "from sklearn.model_selection import train_test_split\n",
        "from keras.callbacks import EarlyStopping\n",
        "\n",
        "# Keras specific\n",
        "import keras\n",
        "from keras.models import Sequential\n",
        "from keras.layers import Dense"
      ]
    },
    {
      "cell_type": "markdown",
      "metadata": {
        "id": "dr2TkzKRnO1z"
      },
      "source": [
        "###  Load the Dataset\n",
        "\n",
        "You will use the [USA housing prices](https://www.kaggle.com/kanths028/usa-housing) dataset found on Kaggle.  The data contains the following columns:\n",
        "\n",
        "* 'Avg. Area Income': Avg. Income of residents of the city house is located in.\n",
        "* 'Avg. Area House Age': Avg Age of Houses in same city\n",
        "* 'Avg. Area Number of Rooms': Avg Number of Rooms for Houses in same city\n",
        "* 'Avg. Area Number of Bedrooms': Avg Number of Bedrooms for Houses in same city\n",
        "* 'Area Population': Population of city house is located in\n",
        "* 'Price': Price that the house sold at\n",
        "* 'Address': Address for the house"
      ]
    },
    {
      "cell_type": "code",
      "source": [
        "# Next, you read the dataset into a Pandas dataframe.\n",
        "\n",
        "url = 'https://github.com/gstripling00/introduction_to_neural_networks/blob/Datasets/Advertising_2023.csv?raw=true'\n",
        "advertising_df= pd.read_csv(url,index_col=0)"
      ],
      "metadata": {
        "id": "wSDtqpd-Dk9H"
      },
      "execution_count": 8,
      "outputs": []
    },
    {
      "cell_type": "code",
      "source": [
        "advertising_df.head()"
      ],
      "metadata": {
        "colab": {
          "base_uri": "https://localhost:8080/",
          "height": 206
        },
        "id": "Ue_jPccWnT30",
        "outputId": "c3ef6bf6-3d4b-497b-ca13-4135deff40ab"
      },
      "execution_count": 9,
      "outputs": [
        {
          "output_type": "execute_result",
          "data": {
            "text/plain": [
              "   digital     TV  radio  newspaper  sales\n",
              "1   345.15  230.1   37.8       69.2   22.1\n",
              "2    66.75   44.5   39.3       45.1   10.4\n",
              "3    25.80   17.2   45.9       69.3    9.3\n",
              "4   227.25  151.5   41.3       58.5   18.5\n",
              "5   271.20  180.8   10.8       58.4   12.9"
            ],
            "text/html": [
              "\n",
              "  <div id=\"df-99df2659-c836-4b33-8cb9-22229bb38182\">\n",
              "    <div class=\"colab-df-container\">\n",
              "      <div>\n",
              "<style scoped>\n",
              "    .dataframe tbody tr th:only-of-type {\n",
              "        vertical-align: middle;\n",
              "    }\n",
              "\n",
              "    .dataframe tbody tr th {\n",
              "        vertical-align: top;\n",
              "    }\n",
              "\n",
              "    .dataframe thead th {\n",
              "        text-align: right;\n",
              "    }\n",
              "</style>\n",
              "<table border=\"1\" class=\"dataframe\">\n",
              "  <thead>\n",
              "    <tr style=\"text-align: right;\">\n",
              "      <th></th>\n",
              "      <th>digital</th>\n",
              "      <th>TV</th>\n",
              "      <th>radio</th>\n",
              "      <th>newspaper</th>\n",
              "      <th>sales</th>\n",
              "    </tr>\n",
              "  </thead>\n",
              "  <tbody>\n",
              "    <tr>\n",
              "      <th>1</th>\n",
              "      <td>345.15</td>\n",
              "      <td>230.1</td>\n",
              "      <td>37.8</td>\n",
              "      <td>69.2</td>\n",
              "      <td>22.1</td>\n",
              "    </tr>\n",
              "    <tr>\n",
              "      <th>2</th>\n",
              "      <td>66.75</td>\n",
              "      <td>44.5</td>\n",
              "      <td>39.3</td>\n",
              "      <td>45.1</td>\n",
              "      <td>10.4</td>\n",
              "    </tr>\n",
              "    <tr>\n",
              "      <th>3</th>\n",
              "      <td>25.80</td>\n",
              "      <td>17.2</td>\n",
              "      <td>45.9</td>\n",
              "      <td>69.3</td>\n",
              "      <td>9.3</td>\n",
              "    </tr>\n",
              "    <tr>\n",
              "      <th>4</th>\n",
              "      <td>227.25</td>\n",
              "      <td>151.5</td>\n",
              "      <td>41.3</td>\n",
              "      <td>58.5</td>\n",
              "      <td>18.5</td>\n",
              "    </tr>\n",
              "    <tr>\n",
              "      <th>5</th>\n",
              "      <td>271.20</td>\n",
              "      <td>180.8</td>\n",
              "      <td>10.8</td>\n",
              "      <td>58.4</td>\n",
              "      <td>12.9</td>\n",
              "    </tr>\n",
              "  </tbody>\n",
              "</table>\n",
              "</div>\n",
              "      <button class=\"colab-df-convert\" onclick=\"convertToInteractive('df-99df2659-c836-4b33-8cb9-22229bb38182')\"\n",
              "              title=\"Convert this dataframe to an interactive table.\"\n",
              "              style=\"display:none;\">\n",
              "        \n",
              "  <svg xmlns=\"http://www.w3.org/2000/svg\" height=\"24px\"viewBox=\"0 0 24 24\"\n",
              "       width=\"24px\">\n",
              "    <path d=\"M0 0h24v24H0V0z\" fill=\"none\"/>\n",
              "    <path d=\"M18.56 5.44l.94 2.06.94-2.06 2.06-.94-2.06-.94-.94-2.06-.94 2.06-2.06.94zm-11 1L8.5 8.5l.94-2.06 2.06-.94-2.06-.94L8.5 2.5l-.94 2.06-2.06.94zm10 10l.94 2.06.94-2.06 2.06-.94-2.06-.94-.94-2.06-.94 2.06-2.06.94z\"/><path d=\"M17.41 7.96l-1.37-1.37c-.4-.4-.92-.59-1.43-.59-.52 0-1.04.2-1.43.59L10.3 9.45l-7.72 7.72c-.78.78-.78 2.05 0 2.83L4 21.41c.39.39.9.59 1.41.59.51 0 1.02-.2 1.41-.59l7.78-7.78 2.81-2.81c.8-.78.8-2.07 0-2.86zM5.41 20L4 18.59l7.72-7.72 1.47 1.35L5.41 20z\"/>\n",
              "  </svg>\n",
              "      </button>\n",
              "      \n",
              "  <style>\n",
              "    .colab-df-container {\n",
              "      display:flex;\n",
              "      flex-wrap:wrap;\n",
              "      gap: 12px;\n",
              "    }\n",
              "\n",
              "    .colab-df-convert {\n",
              "      background-color: #E8F0FE;\n",
              "      border: none;\n",
              "      border-radius: 50%;\n",
              "      cursor: pointer;\n",
              "      display: none;\n",
              "      fill: #1967D2;\n",
              "      height: 32px;\n",
              "      padding: 0 0 0 0;\n",
              "      width: 32px;\n",
              "    }\n",
              "\n",
              "    .colab-df-convert:hover {\n",
              "      background-color: #E2EBFA;\n",
              "      box-shadow: 0px 1px 2px rgba(60, 64, 67, 0.3), 0px 1px 3px 1px rgba(60, 64, 67, 0.15);\n",
              "      fill: #174EA6;\n",
              "    }\n",
              "\n",
              "    [theme=dark] .colab-df-convert {\n",
              "      background-color: #3B4455;\n",
              "      fill: #D2E3FC;\n",
              "    }\n",
              "\n",
              "    [theme=dark] .colab-df-convert:hover {\n",
              "      background-color: #434B5C;\n",
              "      box-shadow: 0px 1px 3px 1px rgba(0, 0, 0, 0.15);\n",
              "      filter: drop-shadow(0px 1px 2px rgba(0, 0, 0, 0.3));\n",
              "      fill: #FFFFFF;\n",
              "    }\n",
              "  </style>\n",
              "\n",
              "      <script>\n",
              "        const buttonEl =\n",
              "          document.querySelector('#df-99df2659-c836-4b33-8cb9-22229bb38182 button.colab-df-convert');\n",
              "        buttonEl.style.display =\n",
              "          google.colab.kernel.accessAllowed ? 'block' : 'none';\n",
              "\n",
              "        async function convertToInteractive(key) {\n",
              "          const element = document.querySelector('#df-99df2659-c836-4b33-8cb9-22229bb38182');\n",
              "          const dataTable =\n",
              "            await google.colab.kernel.invokeFunction('convertToInteractive',\n",
              "                                                     [key], {});\n",
              "          if (!dataTable) return;\n",
              "\n",
              "          const docLinkHtml = 'Like what you see? Visit the ' +\n",
              "            '<a target=\"_blank\" href=https://colab.research.google.com/notebooks/data_table.ipynb>data table notebook</a>'\n",
              "            + ' to learn more about interactive tables.';\n",
              "          element.innerHTML = '';\n",
              "          dataTable['output_type'] = 'display_data';\n",
              "          await google.colab.output.renderOutput(dataTable, element);\n",
              "          const docLink = document.createElement('div');\n",
              "          docLink.innerHTML = docLinkHtml;\n",
              "          element.appendChild(docLink);\n",
              "        }\n",
              "      </script>\n",
              "    </div>\n",
              "  </div>\n",
              "  "
            ]
          },
          "metadata": {},
          "execution_count": 9
        }
      ]
    },
    {
      "cell_type": "code",
      "source": [
        "# Pandas info() function is used to get a concise summary of the dataframe.\n",
        "advertising_df.info()"
      ],
      "metadata": {
        "colab": {
          "base_uri": "https://localhost:8080/"
        },
        "id": "coiKjFmcnaHU",
        "outputId": "314c590e-54b6-4c34-ce0b-3648656a4720"
      },
      "execution_count": 10,
      "outputs": [
        {
          "output_type": "stream",
          "name": "stdout",
          "text": [
            "<class 'pandas.core.frame.DataFrame'>\n",
            "Int64Index: 600 entries, 1 to 600\n",
            "Data columns (total 5 columns):\n",
            " #   Column     Non-Null Count  Dtype  \n",
            "---  ------     --------------  -----  \n",
            " 0   digital    600 non-null    float64\n",
            " 1   TV         600 non-null    float64\n",
            " 2   radio      600 non-null    float64\n",
            " 3   newspaper  600 non-null    float64\n",
            " 4   sales      600 non-null    float64\n",
            "dtypes: float64(5)\n",
            "memory usage: 28.1 KB\n"
          ]
        }
      ]
    },
    {
      "cell_type": "code",
      "source": [
        "'''====== Data Exploration and Preprocessing ======'''\n",
        "\n",
        "#shape of dataframe - 600 rows, five columns\n",
        "advertising_df.shape"
      ],
      "metadata": {
        "colab": {
          "base_uri": "https://localhost:8080/"
        },
        "id": "IzyfOhGaEzlL",
        "outputId": "a90b2a79-8e3a-4149-f62e-916f862de693"
      },
      "execution_count": 11,
      "outputs": [
        {
          "output_type": "execute_result",
          "data": {
            "text/plain": [
              "(600, 5)"
            ]
          },
          "metadata": {},
          "execution_count": 11
        }
      ]
    },
    {
      "cell_type": "markdown",
      "metadata": {
        "id": "6nNrSEBnBk71"
      },
      "source": [
        "Let's check for any null values."
      ]
    },
    {
      "cell_type": "code",
      "execution_count": 16,
      "metadata": {
        "colab": {
          "base_uri": "https://localhost:8080/"
        },
        "id": "P7gHdfMdBk71",
        "outputId": "c6ed84fb-731c-4153-a3e1-d701b19e514c"
      },
      "outputs": [
        {
          "output_type": "execute_result",
          "data": {
            "text/plain": [
              "digital      0\n",
              "TV           0\n",
              "radio        0\n",
              "newspaper    0\n",
              "sales        0\n",
              "dtype: int64"
            ]
          },
          "metadata": {},
          "execution_count": 16
        }
      ],
      "source": [
        "# The isnull() method is used to check and manage NULL values in a data frame.\n",
        "advertising_df.isnull().sum()"
      ]
    },
    {
      "cell_type": "code",
      "source": [
        "#check there are any NAN values\n",
        "advertising_df.isnull().values.any()"
      ],
      "metadata": {
        "colab": {
          "base_uri": "https://localhost:8080/"
        },
        "id": "hGbU2YpwFBIC",
        "outputId": "83662952-b086-4ca4-bff1-1eaa241ec021"
      },
      "execution_count": 17,
      "outputs": [
        {
          "output_type": "execute_result",
          "data": {
            "text/plain": [
              "False"
            ]
          },
          "metadata": {},
          "execution_count": 17
        }
      ]
    },
    {
      "cell_type": "code",
      "source": [
        "'''=== show the statistics analysis of each attributes ==='''\n",
        "\n",
        "#descriptive statistics \n",
        "advertising_df.describe()"
      ],
      "metadata": {
        "colab": {
          "base_uri": "https://localhost:8080/",
          "height": 300
        },
        "id": "tjdWVA7lFQe0",
        "outputId": "7d38f196-d3b1-4011-9f8a-d5b6702c67c4"
      },
      "execution_count": 18,
      "outputs": [
        {
          "output_type": "execute_result",
          "data": {
            "text/plain": [
              "          digital          TV       radio   newspaper       sales\n",
              "count  600.000000  600.000000  600.000000  600.000000  600.000000\n",
              "mean   220.563750  147.042500   23.264000   30.554000   14.022500\n",
              "std    128.566181   85.710787   14.822002   21.742232    5.208739\n",
              "min      1.050000    0.700000    0.000000    0.300000    1.600000\n",
              "25%    111.562500   74.375000    9.975000   12.750000   10.375000\n",
              "50%    224.625000  149.750000   22.900000   25.750000   12.900000\n",
              "75%    328.237500  218.825000   36.525000   45.100000   17.400000\n",
              "max    444.600000  296.400000   49.600000  114.000000   27.000000"
            ],
            "text/html": [
              "\n",
              "  <div id=\"df-088109d3-31f6-46bb-a719-ef805fbf984e\">\n",
              "    <div class=\"colab-df-container\">\n",
              "      <div>\n",
              "<style scoped>\n",
              "    .dataframe tbody tr th:only-of-type {\n",
              "        vertical-align: middle;\n",
              "    }\n",
              "\n",
              "    .dataframe tbody tr th {\n",
              "        vertical-align: top;\n",
              "    }\n",
              "\n",
              "    .dataframe thead th {\n",
              "        text-align: right;\n",
              "    }\n",
              "</style>\n",
              "<table border=\"1\" class=\"dataframe\">\n",
              "  <thead>\n",
              "    <tr style=\"text-align: right;\">\n",
              "      <th></th>\n",
              "      <th>digital</th>\n",
              "      <th>TV</th>\n",
              "      <th>radio</th>\n",
              "      <th>newspaper</th>\n",
              "      <th>sales</th>\n",
              "    </tr>\n",
              "  </thead>\n",
              "  <tbody>\n",
              "    <tr>\n",
              "      <th>count</th>\n",
              "      <td>600.000000</td>\n",
              "      <td>600.000000</td>\n",
              "      <td>600.000000</td>\n",
              "      <td>600.000000</td>\n",
              "      <td>600.000000</td>\n",
              "    </tr>\n",
              "    <tr>\n",
              "      <th>mean</th>\n",
              "      <td>220.563750</td>\n",
              "      <td>147.042500</td>\n",
              "      <td>23.264000</td>\n",
              "      <td>30.554000</td>\n",
              "      <td>14.022500</td>\n",
              "    </tr>\n",
              "    <tr>\n",
              "      <th>std</th>\n",
              "      <td>128.566181</td>\n",
              "      <td>85.710787</td>\n",
              "      <td>14.822002</td>\n",
              "      <td>21.742232</td>\n",
              "      <td>5.208739</td>\n",
              "    </tr>\n",
              "    <tr>\n",
              "      <th>min</th>\n",
              "      <td>1.050000</td>\n",
              "      <td>0.700000</td>\n",
              "      <td>0.000000</td>\n",
              "      <td>0.300000</td>\n",
              "      <td>1.600000</td>\n",
              "    </tr>\n",
              "    <tr>\n",
              "      <th>25%</th>\n",
              "      <td>111.562500</td>\n",
              "      <td>74.375000</td>\n",
              "      <td>9.975000</td>\n",
              "      <td>12.750000</td>\n",
              "      <td>10.375000</td>\n",
              "    </tr>\n",
              "    <tr>\n",
              "      <th>50%</th>\n",
              "      <td>224.625000</td>\n",
              "      <td>149.750000</td>\n",
              "      <td>22.900000</td>\n",
              "      <td>25.750000</td>\n",
              "      <td>12.900000</td>\n",
              "    </tr>\n",
              "    <tr>\n",
              "      <th>75%</th>\n",
              "      <td>328.237500</td>\n",
              "      <td>218.825000</td>\n",
              "      <td>36.525000</td>\n",
              "      <td>45.100000</td>\n",
              "      <td>17.400000</td>\n",
              "    </tr>\n",
              "    <tr>\n",
              "      <th>max</th>\n",
              "      <td>444.600000</td>\n",
              "      <td>296.400000</td>\n",
              "      <td>49.600000</td>\n",
              "      <td>114.000000</td>\n",
              "      <td>27.000000</td>\n",
              "    </tr>\n",
              "  </tbody>\n",
              "</table>\n",
              "</div>\n",
              "      <button class=\"colab-df-convert\" onclick=\"convertToInteractive('df-088109d3-31f6-46bb-a719-ef805fbf984e')\"\n",
              "              title=\"Convert this dataframe to an interactive table.\"\n",
              "              style=\"display:none;\">\n",
              "        \n",
              "  <svg xmlns=\"http://www.w3.org/2000/svg\" height=\"24px\"viewBox=\"0 0 24 24\"\n",
              "       width=\"24px\">\n",
              "    <path d=\"M0 0h24v24H0V0z\" fill=\"none\"/>\n",
              "    <path d=\"M18.56 5.44l.94 2.06.94-2.06 2.06-.94-2.06-.94-.94-2.06-.94 2.06-2.06.94zm-11 1L8.5 8.5l.94-2.06 2.06-.94-2.06-.94L8.5 2.5l-.94 2.06-2.06.94zm10 10l.94 2.06.94-2.06 2.06-.94-2.06-.94-.94-2.06-.94 2.06-2.06.94z\"/><path d=\"M17.41 7.96l-1.37-1.37c-.4-.4-.92-.59-1.43-.59-.52 0-1.04.2-1.43.59L10.3 9.45l-7.72 7.72c-.78.78-.78 2.05 0 2.83L4 21.41c.39.39.9.59 1.41.59.51 0 1.02-.2 1.41-.59l7.78-7.78 2.81-2.81c.8-.78.8-2.07 0-2.86zM5.41 20L4 18.59l7.72-7.72 1.47 1.35L5.41 20z\"/>\n",
              "  </svg>\n",
              "      </button>\n",
              "      \n",
              "  <style>\n",
              "    .colab-df-container {\n",
              "      display:flex;\n",
              "      flex-wrap:wrap;\n",
              "      gap: 12px;\n",
              "    }\n",
              "\n",
              "    .colab-df-convert {\n",
              "      background-color: #E8F0FE;\n",
              "      border: none;\n",
              "      border-radius: 50%;\n",
              "      cursor: pointer;\n",
              "      display: none;\n",
              "      fill: #1967D2;\n",
              "      height: 32px;\n",
              "      padding: 0 0 0 0;\n",
              "      width: 32px;\n",
              "    }\n",
              "\n",
              "    .colab-df-convert:hover {\n",
              "      background-color: #E2EBFA;\n",
              "      box-shadow: 0px 1px 2px rgba(60, 64, 67, 0.3), 0px 1px 3px 1px rgba(60, 64, 67, 0.15);\n",
              "      fill: #174EA6;\n",
              "    }\n",
              "\n",
              "    [theme=dark] .colab-df-convert {\n",
              "      background-color: #3B4455;\n",
              "      fill: #D2E3FC;\n",
              "    }\n",
              "\n",
              "    [theme=dark] .colab-df-convert:hover {\n",
              "      background-color: #434B5C;\n",
              "      box-shadow: 0px 1px 3px 1px rgba(0, 0, 0, 0.15);\n",
              "      filter: drop-shadow(0px 1px 2px rgba(0, 0, 0, 0.3));\n",
              "      fill: #FFFFFF;\n",
              "    }\n",
              "  </style>\n",
              "\n",
              "      <script>\n",
              "        const buttonEl =\n",
              "          document.querySelector('#df-088109d3-31f6-46bb-a719-ef805fbf984e button.colab-df-convert');\n",
              "        buttonEl.style.display =\n",
              "          google.colab.kernel.accessAllowed ? 'block' : 'none';\n",
              "\n",
              "        async function convertToInteractive(key) {\n",
              "          const element = document.querySelector('#df-088109d3-31f6-46bb-a719-ef805fbf984e');\n",
              "          const dataTable =\n",
              "            await google.colab.kernel.invokeFunction('convertToInteractive',\n",
              "                                                     [key], {});\n",
              "          if (!dataTable) return;\n",
              "\n",
              "          const docLinkHtml = 'Like what you see? Visit the ' +\n",
              "            '<a target=\"_blank\" href=https://colab.research.google.com/notebooks/data_table.ipynb>data table notebook</a>'\n",
              "            + ' to learn more about interactive tables.';\n",
              "          element.innerHTML = '';\n",
              "          dataTable['output_type'] = 'display_data';\n",
              "          await google.colab.output.renderOutput(dataTable, element);\n",
              "          const docLink = document.createElement('div');\n",
              "          docLink.innerHTML = docLinkHtml;\n",
              "          element.appendChild(docLink);\n",
              "        }\n",
              "      </script>\n",
              "    </div>\n",
              "  </div>\n",
              "  "
            ]
          },
          "metadata": {},
          "execution_count": 18
        }
      ]
    },
    {
      "cell_type": "markdown",
      "metadata": {
        "id": "QWVdsrmgnO1_"
      },
      "source": [
        "## Exploratory Data Analysis (EDA)\n",
        "\n",
        "Let's create some simple plots to check out the data!  "
      ]
    },
    {
      "cell_type": "code",
      "source": [
        "# The heatmap is a way of representing the data in a 2-dimensional form. The data values are represented as colors in the graph.\n",
        "# The goal of the heatmap is to provide a colored visual summary of information.\n",
        "sns.heatmap(advertising_df.corr()) "
      ],
      "metadata": {
        "colab": {
          "base_uri": "https://localhost:8080/",
          "height": 286
        },
        "id": "qqsAMR1rov7F",
        "outputId": "afc72654-7e21-4b37-981d-15e6b1e0fbff"
      },
      "execution_count": 19,
      "outputs": [
        {
          "output_type": "execute_result",
          "data": {
            "text/plain": [
              "<Axes: >"
            ]
          },
          "metadata": {},
          "execution_count": 19
        },
        {
          "output_type": "display_data",
          "data": {
            "text/plain": [
              "<Figure size 432x288 with 2 Axes>"
            ],
            "image/png": "[encoded data removed]"
          },
          "metadata": {
            "needs_background": "light"
          }
        }
      ]
    },
    {
      "cell_type": "code",
      "execution_count": 20,
      "metadata": {
        "colab": {
          "base_uri": "https://localhost:8080/",
          "height": 386
        },
        "id": "SOsTLClWnO2B",
        "outputId": "467e24ff-a243-4ec2-e8cc-2406a098b4d9"
      },
      "outputs": [
        {
          "output_type": "execute_result",
          "data": {
            "text/plain": [
              "<seaborn.axisgrid.FacetGrid at 0x7f59402e2940>"
            ]
          },
          "metadata": {},
          "execution_count": 20
        },
        {
          "output_type": "display_data",
          "data": {
            "text/plain": [
              "<Figure size 360x360 with 1 Axes>"
            ],
            "image/png": "[encoded data removed]"
          },
          "metadata": {
            "needs_background": "light"
          }
        }
      ],
      "source": [
        "# It is used basically for univariant set of observations and visualizes it through a histogram i.e. only one observation\n",
        "# and hence you choose one particular column of the dataset.\n",
        "sns.displot(advertising_df['sales'])"
      ]
    },
    {
      "cell_type": "code",
      "source": [
        "'''=== Show the linear relationship between features  and price. Thus, it provides that how the scattered \n",
        "      they are and which features has more impact in prediction of house price. ==='''\n",
        "\n",
        "# visiualize all variables  with price(MEDV)\n",
        "from scipy import stats\n",
        "#creates figure\n",
        "plt.figure(figsize=(18, 18))\n",
        "\n",
        "for i, col in enumerate(advertising_df.columns[0:13]): #iterates over all columns except for price column (last one)\n",
        "    plt.subplot(5, 3, i+1) # each row three figure\n",
        "    x = advertising_df[col] #x-axis\n",
        "    y = advertising_df['sales'] #y-axis\n",
        "    plt.plot(x, y, 'o')\n",
        "    \n",
        "    # Create regression line\n",
        "    plt.plot(np.unique(x), np.poly1d(np.polyfit(x, y, 1)) (np.unique(x)), color='red')\n",
        "    plt.xlabel(col) # x-label\n",
        "    plt.ylabel('sales') # y-label\n",
        "    "
      ],
      "metadata": {
        "colab": {
          "base_uri": "https://localhost:8080/",
          "height": 356
        },
        "id": "otYqhhMapHhY",
        "outputId": "db1af916-1b88-427f-b4c9-41dc8976167e"
      },
      "execution_count": 21,
      "outputs": [
        {
          "output_type": "display_data",
          "data": {
            "text/plain": [
              "<Figure size 1296x1296 with 5 Axes>"
            ],
            "image/png": "[encoded data removed]"
          },
          "metadata": {
            "needs_background": "light"
          }
        }
      ]
    },
    {
      "cell_type": "markdown",
      "metadata": {
        "id": "OIPKB4hanO2F"
      },
      "source": [
        "## Training a Linear Regression Model\n",
        "\n",
        "Regression is a supervised machine learning process.  It is similar to classification, but rather than predicting a label, you try to predict a continuous value.   Linear regression defines the relationship between a target variable (y) and a set of predictive features (x).  Simply stated, If you need to predict a number, then use regression. \n",
        "\n",
        "Let's now begin to train your regression model! You will need to first split up your data into an X array that contains the features to train on, and a y array with the target variable, in this case the Price column. You will toss out the Address column because it only has text info that the linear regression model can't use."
      ]
    },
    {
      "cell_type": "markdown",
      "metadata": {
        "id": "l0NjRPeFBk74"
      },
      "source": [
        "### X (features) and y (target) arrays\n",
        "\n",
        "Next, let's define the features and label.  Briefly, feature is input; label is output. This applies to both classification and regression problems."
      ]
    },
    {
      "cell_type": "code",
      "execution_count": 23,
      "metadata": {
        "id": "ZEEGuBAnnO2F"
      },
      "outputs": [],
      "source": [
        "X = advertising_df[['digital', 'TV', 'radio', 'newspaper']]\n",
        "y = advertising_df['sales']"
      ]
    },
    {
      "cell_type": "markdown",
      "metadata": {
        "id": "X97FWdDOnO2H"
      },
      "source": [
        "## Train - Test - Split\n",
        "\n",
        "Now let's split the data into a training set and a testing set. You will train out model on the training set and then use the test set to evaluate the model.  Note that you are using 40% of the data for testing.  \n",
        "\n",
        "#### What is Random State? \n",
        "If an integer for random state is not specified in the code, then every time the code is executed, a new random value is generated and the train and test datasets will have different values each time.  However, if a fixed value is assigned -- like random_state = 0 or 1 or 101 or any other integer, then no matter how many times you execute your code the result would be the same, e.g. the same values will be in the train and test datasets.  Thus, the random state that you provide is used as a seed to the random number generator. This ensures that the random numbers are generated in the same order. "
      ]
    },
    {
      "cell_type": "code",
      "execution_count": 24,
      "metadata": {
        "id": "fS99Llq8nO2J"
      },
      "outputs": [],
      "source": [
        "# Import train_test_split function from sklearn.model_selection\n",
        "from sklearn.model_selection import train_test_split\n",
        "\n",
        "# Split up the data into a training set\n",
        "X_train, X_test, y_train, y_test = train_test_split(X, y, test_size=0.4, random_state=101)"
      ]
    },
    {
      "cell_type": "code",
      "source": [
        "## Build the model\n",
        "model = Sequential()\n",
        "model.add(Dense(4,activation='relu')) \n",
        "model.add(Dense(3,activation='relu'))\n",
        "model.add(Dense(1))"
      ],
      "metadata": {
        "id": "K-_Vage0th27"
      },
      "execution_count": 25,
      "outputs": []
    },
    {
      "cell_type": "code",
      "source": [
        "## Compile the Model\n",
        "## Compilation - Before training a model, you need to configure the learning process, which is done via the compile method. It receives three arguments\n",
        "\n",
        "# for a mean squared error regression problem\n",
        "\n",
        "model.compile(loss= \"mean_squared_error\" , \n",
        "              optimizer=\"adam\", \n",
        "              metrics=[\"mean_squared_error\"])\n",
        "\n",
        "#model.summary()"
      ],
      "metadata": {
        "id": "OaboGOsKth6Q"
      },
      "execution_count": 29,
      "outputs": []
    },
    {
      "cell_type": "code",
      "source": [
        "## SIMPLE:  Fit the Model\n",
        "# train the model, iterating on the data in batches\n",
        "# of 32 samples\n",
        "model.fit(X_train, y_train, epochs=32)"
      ],
      "metadata": {
        "colab": {
          "base_uri": "https://localhost:8080/"
        },
        "id": "3MZzZhZDthpW",
        "outputId": "1759f80c-2004-42bf-c2e7-a6bb12548f93"
      },
      "execution_count": 30,
      "outputs": [
        {
          "output_type": "stream",
          "name": "stdout",
          "text": [
            "Epoch 1/32\n",
            "12/12 [==============================] - 1s 3ms/step - loss: 41878.7656 - mean_squared_error: 41878.7656\n",
            "Epoch 2/32\n",
            "12/12 [==============================] - 0s 2ms/step - loss: 35430.5430 - mean_squared_error: 35430.5430\n",
            "Epoch 3/32\n",
            "12/12 [==============================] - 0s 2ms/step - loss: 29987.4355 - mean_squared_error: 29987.4355\n",
            "Epoch 4/32\n",
            "12/12 [==============================] - 0s 3ms/step - loss: 25297.4395 - mean_squared_error: 25297.4395\n",
            "Epoch 5/32\n",
            "12/12 [==============================] - 0s 2ms/step - loss: 21529.0508 - mean_squared_error: 21529.0508\n",
            "Epoch 6/32\n",
            "12/12 [==============================] - 0s 2ms/step - loss: 18426.6797 - mean_squared_error: 18426.6797\n",
            "Epoch 7/32\n",
            "12/12 [==============================] - 0s 2ms/step - loss: 15897.4648 - mean_squared_error: 15897.4648\n",
            "Epoch 8/32\n",
            "12/12 [==============================] - 0s 2ms/step - loss: 13701.6279 - mean_squared_error: 13701.6279\n",
            "Epoch 9/32\n",
            "12/12 [==============================] - 0s 2ms/step - loss: 11926.4775 - mean_squared_error: 11926.4775\n",
            "Epoch 10/32\n",
            "12/12 [==============================] - 0s 2ms/step - loss: 10417.2285 - mean_squared_error: 10417.2285\n",
            "Epoch 11/32\n",
            "12/12 [==============================] - 0s 2ms/step - loss: 9130.9961 - mean_squared_error: 9130.9961\n",
            "Epoch 12/32\n",
            "12/12 [==============================] - 0s 2ms/step - loss: 8098.8682 - mean_squared_error: 8098.8682\n",
            "Epoch 13/32\n",
            "12/12 [==============================] - 0s 2ms/step - loss: 7181.3276 - mean_squared_error: 7181.3276\n",
            "Epoch 14/32\n",
            "12/12 [==============================] - 0s 2ms/step - loss: 6381.3950 - mean_squared_error: 6381.3950\n",
            "Epoch 15/32\n",
            "12/12 [==============================] - 0s 2ms/step - loss: 5719.9790 - mean_squared_error: 5719.9790\n",
            "Epoch 16/32\n",
            "12/12 [==============================] - 0s 2ms/step - loss: 5142.7339 - mean_squared_error: 5142.7339\n",
            "Epoch 17/32\n",
            "12/12 [==============================] - 0s 2ms/step - loss: 4613.5557 - mean_squared_error: 4613.5557\n",
            "Epoch 18/32\n",
            "12/12 [==============================] - 0s 2ms/step - loss: 4171.6592 - mean_squared_error: 4171.6592\n",
            "Epoch 19/32\n",
            "12/12 [==============================] - 0s 3ms/step - loss: 3797.5525 - mean_squared_error: 3797.5525\n",
            "Epoch 20/32\n",
            "12/12 [==============================] - 0s 2ms/step - loss: 3449.6326 - mean_squared_error: 3449.6326\n",
            "Epoch 21/32\n",
            "12/12 [==============================] - 0s 3ms/step - loss: 3149.6670 - mean_squared_error: 3149.6670\n",
            "Epoch 22/32\n",
            "12/12 [==============================] - 0s 4ms/step - loss: 2890.9885 - mean_squared_error: 2890.9885\n",
            "Epoch 23/32\n",
            "12/12 [==============================] - 0s 3ms/step - loss: 2643.1650 - mean_squared_error: 2643.1650\n",
            "Epoch 24/32\n",
            "12/12 [==============================] - 0s 2ms/step - loss: 2426.2695 - mean_squared_error: 2426.2695\n",
            "Epoch 25/32\n",
            "12/12 [==============================] - 0s 2ms/step - loss: 2231.4846 - mean_squared_error: 2231.4846\n",
            "Epoch 26/32\n",
            "12/12 [==============================] - 0s 2ms/step - loss: 2053.3860 - mean_squared_error: 2053.3860\n",
            "Epoch 27/32\n",
            "12/12 [==============================] - 0s 3ms/step - loss: 1892.5017 - mean_squared_error: 1892.5017\n",
            "Epoch 28/32\n",
            "12/12 [==============================] - 0s 2ms/step - loss: 1744.3010 - mean_squared_error: 1744.3010\n",
            "Epoch 29/32\n",
            "12/12 [==============================] - 0s 3ms/step - loss: 1613.4301 - mean_squared_error: 1613.4301\n",
            "Epoch 30/32\n",
            "12/12 [==============================] - 0s 2ms/step - loss: 1495.8114 - mean_squared_error: 1495.8114\n",
            "Epoch 31/32\n",
            "12/12 [==============================] - 0s 2ms/step - loss: 1383.9061 - mean_squared_error: 1383.9061\n",
            "Epoch 32/32\n",
            "12/12 [==============================] - 0s 2ms/step - loss: 1284.4822 - mean_squared_error: 1284.4822\n"
          ]
        },
        {
          "output_type": "execute_result",
          "data": {
            "text/plain": [
              "<keras.callbacks.History at 0x7f58b9eebc10>"
            ]
          },
          "metadata": {},
          "execution_count": 30
        }
      ]
    },
    {
      "cell_type": "code",
      "source": [
        "history = model.fit(\n",
        "    X_train, y_train,\n",
        "    validation_data = (X_test, y_test),\n",
        "    epochs = 150\n",
        ")"
      ],
      "metadata": {
        "colab": {
          "base_uri": "https://localhost:8080/"
        },
        "id": "6tNboAUZw3w1",
        "outputId": "16df540e-e2d4-4451-de03-8aaf78a30fe5"
      },
      "execution_count": 32,
      "outputs": [
        {
          "output_type": "stream",
          "name": "stdout",
          "text": [
            "Epoch 1/150\n",
            "12/12 [==============================] - 0s 27ms/step - loss: 1192.8728 - mean_squared_error: 1192.8728 - val_loss: 1129.7104 - val_mean_squared_error: 1129.7104\n",
            "Epoch 2/150\n",
            "12/12 [==============================] - 0s 7ms/step - loss: 1112.1844 - mean_squared_error: 1112.1844 - val_loss: 1052.6677 - val_mean_squared_error: 1052.6677\n",
            "Epoch 3/150\n",
            "12/12 [==============================] - 0s 6ms/step - loss: 1036.2671 - mean_squared_error: 1036.2671 - val_loss: 983.0281 - val_mean_squared_error: 983.0281\n",
            "Epoch 4/150\n",
            "12/12 [==============================] - 0s 6ms/step - loss: 967.5154 - mean_squared_error: 967.5154 - val_loss: 919.1849 - val_mean_squared_error: 919.1849\n",
            "Epoch 5/150\n",
            "12/12 [==============================] - 0s 7ms/step - loss: 904.2274 - mean_squared_error: 904.2274 - val_loss: 860.1757 - val_mean_squared_error: 860.1757\n",
            "Epoch 6/150\n",
            "12/12 [==============================] - 0s 7ms/step - loss: 847.6497 - mean_squared_error: 847.6497 - val_loss: 806.1716 - val_mean_squared_error: 806.1716\n",
            "Epoch 7/150\n",
            "12/12 [==============================] - 0s 6ms/step - loss: 793.9482 - mean_squared_error: 793.9482 - val_loss: 756.6104 - val_mean_squared_error: 756.6104\n",
            "Epoch 8/150\n",
            "12/12 [==============================] - 0s 7ms/step - loss: 744.5005 - mean_squared_error: 744.5005 - val_loss: 709.0624 - val_mean_squared_error: 709.0624\n",
            "Epoch 9/150\n",
            "12/12 [==============================] - 0s 7ms/step - loss: 699.0479 - mean_squared_error: 699.0479 - val_loss: 665.3420 - val_mean_squared_error: 665.3420\n",
            "Epoch 10/150\n",
            "12/12 [==============================] - 0s 7ms/step - loss: 655.5909 - mean_squared_error: 655.5909 - val_loss: 626.2478 - val_mean_squared_error: 626.2478\n",
            "Epoch 11/150\n",
            "12/12 [==============================] - 0s 8ms/step - loss: 616.5140 - mean_squared_error: 616.5140 - val_loss: 588.8703 - val_mean_squared_error: 588.8703\n",
            "Epoch 12/150\n",
            "12/12 [==============================] - 0s 7ms/step - loss: 580.3304 - mean_squared_error: 580.3304 - val_loss: 554.6107 - val_mean_squared_error: 554.6107\n",
            "Epoch 13/150\n",
            "12/12 [==============================] - 0s 6ms/step - loss: 546.8375 - mean_squared_error: 546.8375 - val_loss: 522.6838 - val_mean_squared_error: 522.6838\n",
            "Epoch 14/150\n",
            "12/12 [==============================] - 0s 7ms/step - loss: 515.1174 - mean_squared_error: 515.1174 - val_loss: 492.8941 - val_mean_squared_error: 492.8941\n",
            "Epoch 15/150\n",
            "12/12 [==============================] - 0s 6ms/step - loss: 484.6956 - mean_squared_error: 484.6956 - val_loss: 464.7650 - val_mean_squared_error: 464.7650\n",
            "Epoch 16/150\n",
            "12/12 [==============================] - 0s 7ms/step - loss: 457.5870 - mean_squared_error: 457.5870 - val_loss: 438.9290 - val_mean_squared_error: 438.9290\n",
            "Epoch 17/150\n",
            "12/12 [==============================] - 0s 5ms/step - loss: 432.4032 - mean_squared_error: 432.4032 - val_loss: 415.5569 - val_mean_squared_error: 415.5569\n",
            "Epoch 18/150\n",
            "12/12 [==============================] - 0s 6ms/step - loss: 409.8810 - mean_squared_error: 409.8810 - val_loss: 393.5469 - val_mean_squared_error: 393.5469\n",
            "Epoch 19/150\n",
            "12/12 [==============================] - 0s 6ms/step - loss: 388.6382 - mean_squared_error: 388.6382 - val_loss: 373.4981 - val_mean_squared_error: 373.4981\n",
            "Epoch 20/150\n",
            "12/12 [==============================] - 0s 6ms/step - loss: 368.7901 - mean_squared_error: 368.7901 - val_loss: 354.5144 - val_mean_squared_error: 354.5144\n",
            "Epoch 21/150\n",
            "12/12 [==============================] - 0s 7ms/step - loss: 349.5646 - mean_squared_error: 349.5646 - val_loss: 336.9605 - val_mean_squared_error: 336.9605\n",
            "Epoch 22/150\n",
            "12/12 [==============================] - 0s 8ms/step - loss: 331.9804 - mean_squared_error: 331.9804 - val_loss: 320.1589 - val_mean_squared_error: 320.1589\n",
            "Epoch 23/150\n",
            "12/12 [==============================] - 0s 8ms/step - loss: 315.7961 - mean_squared_error: 315.7961 - val_loss: 304.4547 - val_mean_squared_error: 304.4547\n",
            "Epoch 24/150\n",
            "12/12 [==============================] - 0s 6ms/step - loss: 300.4152 - mean_squared_error: 300.4152 - val_loss: 290.1166 - val_mean_squared_error: 290.1166\n",
            "Epoch 25/150\n",
            "12/12 [==============================] - 0s 6ms/step - loss: 285.8812 - mean_squared_error: 285.8812 - val_loss: 276.4341 - val_mean_squared_error: 276.4341\n",
            "Epoch 26/150\n",
            "12/12 [==============================] - 0s 6ms/step - loss: 272.3982 - mean_squared_error: 272.3982 - val_loss: 264.1863 - val_mean_squared_error: 264.1863\n",
            "Epoch 27/150\n",
            "12/12 [==============================] - 0s 6ms/step - loss: 260.2280 - mean_squared_error: 260.2280 - val_loss: 252.3143 - val_mean_squared_error: 252.3143\n",
            "Epoch 28/150\n",
            "12/12 [==============================] - 0s 7ms/step - loss: 248.6278 - mean_squared_error: 248.6278 - val_loss: 240.7807 - val_mean_squared_error: 240.7807\n",
            "Epoch 29/150\n",
            "12/12 [==============================] - 0s 6ms/step - loss: 237.1386 - mean_squared_error: 237.1386 - val_loss: 229.9756 - val_mean_squared_error: 229.9756\n",
            "Epoch 30/150\n",
            "12/12 [==============================] - 0s 6ms/step - loss: 226.2778 - mean_squared_error: 226.2778 - val_loss: 219.6463 - val_mean_squared_error: 219.6463\n",
            "Epoch 31/150\n",
            "12/12 [==============================] - 0s 6ms/step - loss: 216.1063 - mean_squared_error: 216.1063 - val_loss: 210.0127 - val_mean_squared_error: 210.0127\n",
            "Epoch 32/150\n",
            "12/12 [==============================] - 0s 6ms/step - loss: 206.4268 - mean_squared_error: 206.4268 - val_loss: 201.3355 - val_mean_squared_error: 201.3355\n",
            "Epoch 33/150\n",
            "12/12 [==============================] - 0s 10ms/step - loss: 197.5643 - mean_squared_error: 197.5643 - val_loss: 193.6793 - val_mean_squared_error: 193.6793\n",
            "Epoch 34/150\n",
            "12/12 [==============================] - 0s 5ms/step - loss: 189.2545 - mean_squared_error: 189.2545 - val_loss: 186.8868 - val_mean_squared_error: 186.8868\n",
            "Epoch 35/150\n",
            "12/12 [==============================] - 0s 7ms/step - loss: 181.7454 - mean_squared_error: 181.7454 - val_loss: 180.2806 - val_mean_squared_error: 180.2806\n",
            "Epoch 36/150\n",
            "12/12 [==============================] - 0s 7ms/step - loss: 174.4275 - mean_squared_error: 174.4275 - val_loss: 173.7137 - val_mean_squared_error: 173.7137\n",
            "Epoch 37/150\n",
            "12/12 [==============================] - 0s 7ms/step - loss: 167.8204 - mean_squared_error: 167.8204 - val_loss: 167.6716 - val_mean_squared_error: 167.6716\n",
            "Epoch 38/150\n",
            "12/12 [==============================] - 0s 6ms/step - loss: 161.8387 - mean_squared_error: 161.8387 - val_loss: 161.5780 - val_mean_squared_error: 161.5780\n",
            "Epoch 39/150\n",
            "12/12 [==============================] - 0s 7ms/step - loss: 155.6495 - mean_squared_error: 155.6495 - val_loss: 156.2223 - val_mean_squared_error: 156.2223\n",
            "Epoch 40/150\n",
            "12/12 [==============================] - 0s 5ms/step - loss: 150.6152 - mean_squared_error: 150.6152 - val_loss: 150.9958 - val_mean_squared_error: 150.9958\n",
            "Epoch 41/150\n",
            "12/12 [==============================] - 0s 7ms/step - loss: 145.4252 - mean_squared_error: 145.4252 - val_loss: 146.0924 - val_mean_squared_error: 146.0924\n",
            "Epoch 42/150\n",
            "12/12 [==============================] - 0s 5ms/step - loss: 140.6378 - mean_squared_error: 140.6378 - val_loss: 141.4646 - val_mean_squared_error: 141.4646\n",
            "Epoch 43/150\n",
            "12/12 [==============================] - 0s 6ms/step - loss: 136.3222 - mean_squared_error: 136.3222 - val_loss: 137.2336 - val_mean_squared_error: 137.2336\n",
            "Epoch 44/150\n",
            "12/12 [==============================] - 0s 6ms/step - loss: 131.7287 - mean_squared_error: 131.7287 - val_loss: 132.6300 - val_mean_squared_error: 132.6300\n",
            "Epoch 45/150\n",
            "12/12 [==============================] - 0s 6ms/step - loss: 127.3383 - mean_squared_error: 127.3383 - val_loss: 128.4087 - val_mean_squared_error: 128.4087\n",
            "Epoch 46/150\n",
            "12/12 [==============================] - 0s 7ms/step - loss: 123.5532 - mean_squared_error: 123.5532 - val_loss: 124.1524 - val_mean_squared_error: 124.1524\n",
            "Epoch 47/150\n",
            "12/12 [==============================] - 0s 5ms/step - loss: 119.6923 - mean_squared_error: 119.6923 - val_loss: 120.4583 - val_mean_squared_error: 120.4583\n",
            "Epoch 48/150\n",
            "12/12 [==============================] - 0s 7ms/step - loss: 116.2156 - mean_squared_error: 116.2156 - val_loss: 116.5862 - val_mean_squared_error: 116.5862\n",
            "Epoch 49/150\n",
            "12/12 [==============================] - 0s 6ms/step - loss: 112.8929 - mean_squared_error: 112.8929 - val_loss: 113.0386 - val_mean_squared_error: 113.0386\n",
            "Epoch 50/150\n",
            "12/12 [==============================] - 0s 6ms/step - loss: 109.7238 - mean_squared_error: 109.7238 - val_loss: 109.9823 - val_mean_squared_error: 109.9823\n",
            "Epoch 51/150\n",
            "12/12 [==============================] - 0s 6ms/step - loss: 106.4761 - mean_squared_error: 106.4761 - val_loss: 107.3952 - val_mean_squared_error: 107.3952\n",
            "Epoch 52/150\n",
            "12/12 [==============================] - 0s 6ms/step - loss: 103.0805 - mean_squared_error: 103.0805 - val_loss: 102.5256 - val_mean_squared_error: 102.5256\n",
            "Epoch 53/150\n",
            "12/12 [==============================] - 0s 7ms/step - loss: 99.0631 - mean_squared_error: 99.0631 - val_loss: 98.3616 - val_mean_squared_error: 98.3616\n",
            "Epoch 54/150\n",
            "12/12 [==============================] - 0s 6ms/step - loss: 95.6251 - mean_squared_error: 95.6251 - val_loss: 94.3720 - val_mean_squared_error: 94.3720\n",
            "Epoch 55/150\n",
            "12/12 [==============================] - 0s 6ms/step - loss: 92.1705 - mean_squared_error: 92.1705 - val_loss: 90.6066 - val_mean_squared_error: 90.6066\n",
            "Epoch 56/150\n",
            "12/12 [==============================] - 0s 7ms/step - loss: 88.7285 - mean_squared_error: 88.7285 - val_loss: 87.4229 - val_mean_squared_error: 87.4229\n",
            "Epoch 57/150\n",
            "12/12 [==============================] - 0s 7ms/step - loss: 85.4134 - mean_squared_error: 85.4134 - val_loss: 84.0831 - val_mean_squared_error: 84.0831\n",
            "Epoch 58/150\n",
            "12/12 [==============================] - 0s 5ms/step - loss: 82.4607 - mean_squared_error: 82.4607 - val_loss: 81.0376 - val_mean_squared_error: 81.0376\n",
            "Epoch 59/150\n",
            "12/12 [==============================] - 0s 6ms/step - loss: 80.1948 - mean_squared_error: 80.1948 - val_loss: 78.0559 - val_mean_squared_error: 78.0559\n",
            "Epoch 60/150\n",
            "12/12 [==============================] - 0s 6ms/step - loss: 77.0236 - mean_squared_error: 77.0236 - val_loss: 76.5447 - val_mean_squared_error: 76.5447\n",
            "Epoch 61/150\n",
            "12/12 [==============================] - 0s 9ms/step - loss: 74.8522 - mean_squared_error: 74.8522 - val_loss: 73.4898 - val_mean_squared_error: 73.4898\n",
            "Epoch 62/150\n",
            "12/12 [==============================] - 0s 6ms/step - loss: 72.1636 - mean_squared_error: 72.1636 - val_loss: 70.3211 - val_mean_squared_error: 70.3211\n",
            "Epoch 63/150\n",
            "12/12 [==============================] - 0s 6ms/step - loss: 69.8170 - mean_squared_error: 69.8170 - val_loss: 67.9605 - val_mean_squared_error: 67.9605\n",
            "Epoch 64/150\n",
            "12/12 [==============================] - 0s 7ms/step - loss: 67.3850 - mean_squared_error: 67.3850 - val_loss: 65.6564 - val_mean_squared_error: 65.6564\n",
            "Epoch 65/150\n",
            "12/12 [==============================] - 0s 7ms/step - loss: 65.1521 - mean_squared_error: 65.1521 - val_loss: 63.2003 - val_mean_squared_error: 63.2003\n",
            "Epoch 66/150\n",
            "12/12 [==============================] - 0s 6ms/step - loss: 62.8447 - mean_squared_error: 62.8447 - val_loss: 61.5360 - val_mean_squared_error: 61.5360\n",
            "Epoch 67/150\n",
            "12/12 [==============================] - 0s 6ms/step - loss: 60.9125 - mean_squared_error: 60.9125 - val_loss: 59.1119 - val_mean_squared_error: 59.1119\n",
            "Epoch 68/150\n",
            "12/12 [==============================] - 0s 7ms/step - loss: 59.3527 - mean_squared_error: 59.3527 - val_loss: 57.1419 - val_mean_squared_error: 57.1419\n",
            "Epoch 69/150\n",
            "12/12 [==============================] - 0s 6ms/step - loss: 57.4780 - mean_squared_error: 57.4780 - val_loss: 56.0203 - val_mean_squared_error: 56.0203\n",
            "Epoch 70/150\n",
            "12/12 [==============================] - 0s 7ms/step - loss: 55.2615 - mean_squared_error: 55.2615 - val_loss: 53.9062 - val_mean_squared_error: 53.9062\n",
            "Epoch 71/150\n",
            "12/12 [==============================] - 0s 6ms/step - loss: 53.7918 - mean_squared_error: 53.7918 - val_loss: 52.5933 - val_mean_squared_error: 52.5933\n",
            "Epoch 72/150\n",
            "12/12 [==============================] - 0s 5ms/step - loss: 51.9270 - mean_squared_error: 51.9270 - val_loss: 51.1719 - val_mean_squared_error: 51.1719\n",
            "Epoch 73/150\n",
            "12/12 [==============================] - 0s 7ms/step - loss: 50.7504 - mean_squared_error: 50.7504 - val_loss: 49.8002 - val_mean_squared_error: 49.8002\n",
            "Epoch 74/150\n",
            "12/12 [==============================] - 0s 6ms/step - loss: 49.1273 - mean_squared_error: 49.1273 - val_loss: 48.3177 - val_mean_squared_error: 48.3177\n",
            "Epoch 75/150\n",
            "12/12 [==============================] - 0s 8ms/step - loss: 47.7418 - mean_squared_error: 47.7418 - val_loss: 47.0938 - val_mean_squared_error: 47.0938\n",
            "Epoch 76/150\n",
            "12/12 [==============================] - 0s 7ms/step - loss: 46.6054 - mean_squared_error: 46.6054 - val_loss: 45.8808 - val_mean_squared_error: 45.8808\n",
            "Epoch 77/150\n",
            "12/12 [==============================] - 0s 5ms/step - loss: 45.1702 - mean_squared_error: 45.1702 - val_loss: 44.4835 - val_mean_squared_error: 44.4835\n",
            "Epoch 78/150\n",
            "12/12 [==============================] - 0s 6ms/step - loss: 44.0090 - mean_squared_error: 44.0090 - val_loss: 43.1947 - val_mean_squared_error: 43.1947\n",
            "Epoch 79/150\n",
            "12/12 [==============================] - 0s 7ms/step - loss: 42.8630 - mean_squared_error: 42.8630 - val_loss: 42.0787 - val_mean_squared_error: 42.0787\n",
            "Epoch 80/150\n",
            "12/12 [==============================] - 0s 6ms/step - loss: 41.7223 - mean_squared_error: 41.7223 - val_loss: 41.1088 - val_mean_squared_error: 41.1088\n",
            "Epoch 81/150\n",
            "12/12 [==============================] - 0s 6ms/step - loss: 40.5998 - mean_squared_error: 40.5998 - val_loss: 40.1591 - val_mean_squared_error: 40.1591\n",
            "Epoch 82/150\n",
            "12/12 [==============================] - 0s 6ms/step - loss: 39.5491 - mean_squared_error: 39.5491 - val_loss: 39.2689 - val_mean_squared_error: 39.2689\n",
            "Epoch 83/150\n",
            "12/12 [==============================] - 0s 6ms/step - loss: 38.5409 - mean_squared_error: 38.5409 - val_loss: 38.3951 - val_mean_squared_error: 38.3951\n",
            "Epoch 84/150\n",
            "12/12 [==============================] - 0s 6ms/step - loss: 37.5885 - mean_squared_error: 37.5885 - val_loss: 37.4298 - val_mean_squared_error: 37.4298\n",
            "Epoch 85/150\n",
            "12/12 [==============================] - 0s 7ms/step - loss: 36.6278 - mean_squared_error: 36.6278 - val_loss: 36.5098 - val_mean_squared_error: 36.5098\n",
            "Epoch 86/150\n",
            "12/12 [==============================] - 0s 6ms/step - loss: 35.7861 - mean_squared_error: 35.7861 - val_loss: 35.7948 - val_mean_squared_error: 35.7948\n",
            "Epoch 87/150\n",
            "12/12 [==============================] - 0s 7ms/step - loss: 34.7552 - mean_squared_error: 34.7552 - val_loss: 34.9269 - val_mean_squared_error: 34.9269\n",
            "Epoch 88/150\n",
            "12/12 [==============================] - 0s 8ms/step - loss: 33.9809 - mean_squared_error: 33.9809 - val_loss: 34.0992 - val_mean_squared_error: 34.0992\n",
            "Epoch 89/150\n",
            "12/12 [==============================] - 0s 7ms/step - loss: 33.1075 - mean_squared_error: 33.1075 - val_loss: 33.3295 - val_mean_squared_error: 33.3295\n",
            "Epoch 90/150\n",
            "12/12 [==============================] - 0s 6ms/step - loss: 32.4789 - mean_squared_error: 32.4789 - val_loss: 32.6180 - val_mean_squared_error: 32.6180\n",
            "Epoch 91/150\n",
            "12/12 [==============================] - 0s 6ms/step - loss: 31.5811 - mean_squared_error: 31.5811 - val_loss: 31.7752 - val_mean_squared_error: 31.7752\n",
            "Epoch 92/150\n",
            "12/12 [==============================] - 0s 5ms/step - loss: 30.7798 - mean_squared_error: 30.7798 - val_loss: 31.1104 - val_mean_squared_error: 31.1104\n",
            "Epoch 93/150\n",
            "12/12 [==============================] - 0s 7ms/step - loss: 30.1542 - mean_squared_error: 30.1542 - val_loss: 30.4137 - val_mean_squared_error: 30.4137\n",
            "Epoch 94/150\n",
            "12/12 [==============================] - 0s 8ms/step - loss: 29.4806 - mean_squared_error: 29.4806 - val_loss: 29.7286 - val_mean_squared_error: 29.7286\n",
            "Epoch 95/150\n",
            "12/12 [==============================] - 0s 9ms/step - loss: 28.7957 - mean_squared_error: 28.7957 - val_loss: 29.0457 - val_mean_squared_error: 29.0457\n",
            "Epoch 96/150\n",
            "12/12 [==============================] - 0s 9ms/step - loss: 28.1580 - mean_squared_error: 28.1580 - val_loss: 28.5612 - val_mean_squared_error: 28.5612\n",
            "Epoch 97/150\n",
            "12/12 [==============================] - 0s 10ms/step - loss: 27.4884 - mean_squared_error: 27.4884 - val_loss: 27.9292 - val_mean_squared_error: 27.9292\n",
            "Epoch 98/150\n",
            "12/12 [==============================] - 0s 9ms/step - loss: 26.9347 - mean_squared_error: 26.9347 - val_loss: 27.3890 - val_mean_squared_error: 27.3890\n",
            "Epoch 99/150\n",
            "12/12 [==============================] - 0s 8ms/step - loss: 26.4128 - mean_squared_error: 26.4128 - val_loss: 26.9363 - val_mean_squared_error: 26.9363\n",
            "Epoch 100/150\n",
            "12/12 [==============================] - 0s 8ms/step - loss: 25.8763 - mean_squared_error: 25.8763 - val_loss: 26.4651 - val_mean_squared_error: 26.4651\n",
            "Epoch 101/150\n",
            "12/12 [==============================] - 0s 9ms/step - loss: 25.3047 - mean_squared_error: 25.3047 - val_loss: 25.9464 - val_mean_squared_error: 25.9464\n",
            "Epoch 102/150\n",
            "12/12 [==============================] - 0s 7ms/step - loss: 24.7697 - mean_squared_error: 24.7697 - val_loss: 25.5151 - val_mean_squared_error: 25.5151\n",
            "Epoch 103/150\n",
            "12/12 [==============================] - 0s 8ms/step - loss: 24.3812 - mean_squared_error: 24.3812 - val_loss: 25.1152 - val_mean_squared_error: 25.1152\n",
            "Epoch 104/150\n",
            "12/12 [==============================] - 0s 7ms/step - loss: 23.8725 - mean_squared_error: 23.8725 - val_loss: 24.5784 - val_mean_squared_error: 24.5784\n",
            "Epoch 105/150\n",
            "12/12 [==============================] - 0s 9ms/step - loss: 23.4495 - mean_squared_error: 23.4495 - val_loss: 24.2024 - val_mean_squared_error: 24.2024\n",
            "Epoch 106/150\n",
            "12/12 [==============================] - 0s 8ms/step - loss: 23.0288 - mean_squared_error: 23.0288 - val_loss: 23.8797 - val_mean_squared_error: 23.8797\n",
            "Epoch 107/150\n",
            "12/12 [==============================] - 0s 14ms/step - loss: 22.7058 - mean_squared_error: 22.7058 - val_loss: 23.6033 - val_mean_squared_error: 23.6033\n",
            "Epoch 108/150\n",
            "12/12 [==============================] - 0s 9ms/step - loss: 22.2644 - mean_squared_error: 22.2644 - val_loss: 23.2028 - val_mean_squared_error: 23.2028\n",
            "Epoch 109/150\n",
            "12/12 [==============================] - 0s 8ms/step - loss: 21.8861 - mean_squared_error: 21.8861 - val_loss: 22.8577 - val_mean_squared_error: 22.8577\n",
            "Epoch 110/150\n",
            "12/12 [==============================] - 0s 9ms/step - loss: 21.5781 - mean_squared_error: 21.5781 - val_loss: 22.5245 - val_mean_squared_error: 22.5245\n",
            "Epoch 111/150\n",
            "12/12 [==============================] - 0s 8ms/step - loss: 21.2163 - mean_squared_error: 21.2163 - val_loss: 22.1363 - val_mean_squared_error: 22.1363\n",
            "Epoch 112/150\n",
            "12/12 [==============================] - 0s 8ms/step - loss: 20.8988 - mean_squared_error: 20.8988 - val_loss: 21.8890 - val_mean_squared_error: 21.8890\n",
            "Epoch 113/150\n",
            "12/12 [==============================] - 0s 8ms/step - loss: 20.5660 - mean_squared_error: 20.5660 - val_loss: 21.4532 - val_mean_squared_error: 21.4532\n",
            "Epoch 114/150\n",
            "12/12 [==============================] - 0s 10ms/step - loss: 20.2485 - mean_squared_error: 20.2485 - val_loss: 21.1952 - val_mean_squared_error: 21.1952\n",
            "Epoch 115/150\n",
            "12/12 [==============================] - 0s 8ms/step - loss: 19.9507 - mean_squared_error: 19.9507 - val_loss: 20.9137 - val_mean_squared_error: 20.9137\n",
            "Epoch 116/150\n",
            "12/12 [==============================] - 0s 9ms/step - loss: 19.6468 - mean_squared_error: 19.6468 - val_loss: 20.6377 - val_mean_squared_error: 20.6377\n",
            "Epoch 117/150\n",
            "12/12 [==============================] - 0s 9ms/step - loss: 19.3531 - mean_squared_error: 19.3531 - val_loss: 20.4113 - val_mean_squared_error: 20.4113\n",
            "Epoch 118/150\n",
            "12/12 [==============================] - 0s 9ms/step - loss: 19.0881 - mean_squared_error: 19.0881 - val_loss: 20.1736 - val_mean_squared_error: 20.1736\n",
            "Epoch 119/150\n",
            "12/12 [==============================] - 0s 8ms/step - loss: 18.7751 - mean_squared_error: 18.7751 - val_loss: 19.9374 - val_mean_squared_error: 19.9374\n",
            "Epoch 120/150\n",
            "12/12 [==============================] - 0s 7ms/step - loss: 18.7611 - mean_squared_error: 18.7611 - val_loss: 19.7081 - val_mean_squared_error: 19.7081\n",
            "Epoch 121/150\n",
            "12/12 [==============================] - 0s 5ms/step - loss: 18.2474 - mean_squared_error: 18.2474 - val_loss: 19.5555 - val_mean_squared_error: 19.5555\n",
            "Epoch 122/150\n",
            "12/12 [==============================] - 0s 6ms/step - loss: 18.1573 - mean_squared_error: 18.1573 - val_loss: 19.2737 - val_mean_squared_error: 19.2737\n",
            "Epoch 123/150\n",
            "12/12 [==============================] - 0s 6ms/step - loss: 17.7820 - mean_squared_error: 17.7820 - val_loss: 19.0440 - val_mean_squared_error: 19.0440\n",
            "Epoch 124/150\n",
            "12/12 [==============================] - 0s 5ms/step - loss: 17.5133 - mean_squared_error: 17.5133 - val_loss: 18.8251 - val_mean_squared_error: 18.8251\n",
            "Epoch 125/150\n",
            "12/12 [==============================] - 0s 6ms/step - loss: 17.3201 - mean_squared_error: 17.3201 - val_loss: 18.5033 - val_mean_squared_error: 18.5033\n",
            "Epoch 126/150\n",
            "12/12 [==============================] - 0s 6ms/step - loss: 17.0440 - mean_squared_error: 17.0440 - val_loss: 18.2802 - val_mean_squared_error: 18.2802\n",
            "Epoch 127/150\n",
            "12/12 [==============================] - 0s 6ms/step - loss: 16.7876 - mean_squared_error: 16.7876 - val_loss: 18.0133 - val_mean_squared_error: 18.0133\n",
            "Epoch 128/150\n",
            "12/12 [==============================] - 0s 6ms/step - loss: 16.6025 - mean_squared_error: 16.6025 - val_loss: 17.7536 - val_mean_squared_error: 17.7536\n",
            "Epoch 129/150\n",
            "12/12 [==============================] - 0s 7ms/step - loss: 16.3642 - mean_squared_error: 16.3642 - val_loss: 17.5923 - val_mean_squared_error: 17.5923\n",
            "Epoch 130/150\n",
            "12/12 [==============================] - 0s 7ms/step - loss: 16.1957 - mean_squared_error: 16.1957 - val_loss: 17.4103 - val_mean_squared_error: 17.4103\n",
            "Epoch 131/150\n",
            "12/12 [==============================] - 0s 6ms/step - loss: 15.9710 - mean_squared_error: 15.9710 - val_loss: 17.1060 - val_mean_squared_error: 17.1060\n",
            "Epoch 132/150\n",
            "12/12 [==============================] - 0s 7ms/step - loss: 15.8108 - mean_squared_error: 15.8108 - val_loss: 16.9585 - val_mean_squared_error: 16.9585\n",
            "Epoch 133/150\n",
            "12/12 [==============================] - 0s 6ms/step - loss: 15.6757 - mean_squared_error: 15.6757 - val_loss: 16.8367 - val_mean_squared_error: 16.8367\n",
            "Epoch 134/150\n",
            "12/12 [==============================] - 0s 6ms/step - loss: 15.4589 - mean_squared_error: 15.4589 - val_loss: 16.7216 - val_mean_squared_error: 16.7216\n",
            "Epoch 135/150\n",
            "12/12 [==============================] - 0s 7ms/step - loss: 15.3282 - mean_squared_error: 15.3282 - val_loss: 16.5488 - val_mean_squared_error: 16.5488\n",
            "Epoch 136/150\n",
            "12/12 [==============================] - 0s 6ms/step - loss: 15.1383 - mean_squared_error: 15.1383 - val_loss: 16.4247 - val_mean_squared_error: 16.4247\n",
            "Epoch 137/150\n",
            "12/12 [==============================] - 0s 7ms/step - loss: 14.9810 - mean_squared_error: 14.9810 - val_loss: 16.2813 - val_mean_squared_error: 16.2813\n",
            "Epoch 138/150\n",
            "12/12 [==============================] - 0s 6ms/step - loss: 14.7449 - mean_squared_error: 14.7449 - val_loss: 15.9491 - val_mean_squared_error: 15.9491\n",
            "Epoch 139/150\n",
            "12/12 [==============================] - 0s 7ms/step - loss: 14.5955 - mean_squared_error: 14.5955 - val_loss: 15.8536 - val_mean_squared_error: 15.8536\n",
            "Epoch 140/150\n",
            "12/12 [==============================] - 0s 6ms/step - loss: 14.4249 - mean_squared_error: 14.4249 - val_loss: 15.7630 - val_mean_squared_error: 15.7630\n",
            "Epoch 141/150\n",
            "12/12 [==============================] - 0s 7ms/step - loss: 14.2611 - mean_squared_error: 14.2611 - val_loss: 15.6818 - val_mean_squared_error: 15.6818\n",
            "Epoch 142/150\n",
            "12/12 [==============================] - 0s 7ms/step - loss: 14.1354 - mean_squared_error: 14.1354 - val_loss: 15.5032 - val_mean_squared_error: 15.5032\n",
            "Epoch 143/150\n",
            "12/12 [==============================] - 0s 6ms/step - loss: 14.0292 - mean_squared_error: 14.0292 - val_loss: 15.3562 - val_mean_squared_error: 15.3562\n",
            "Epoch 144/150\n",
            "12/12 [==============================] - 0s 7ms/step - loss: 13.8058 - mean_squared_error: 13.8058 - val_loss: 15.2631 - val_mean_squared_error: 15.2631\n",
            "Epoch 145/150\n",
            "12/12 [==============================] - 0s 6ms/step - loss: 13.7825 - mean_squared_error: 13.7825 - val_loss: 15.1686 - val_mean_squared_error: 15.1686\n",
            "Epoch 146/150\n",
            "12/12 [==============================] - 0s 7ms/step - loss: 13.5740 - mean_squared_error: 13.5740 - val_loss: 15.1010 - val_mean_squared_error: 15.1010\n",
            "Epoch 147/150\n",
            "12/12 [==============================] - 0s 7ms/step - loss: 13.3988 - mean_squared_error: 13.3988 - val_loss: 14.9595 - val_mean_squared_error: 14.9595\n",
            "Epoch 148/150\n",
            "12/12 [==============================] - 0s 6ms/step - loss: 13.3380 - mean_squared_error: 13.3380 - val_loss: 14.9342 - val_mean_squared_error: 14.9342\n",
            "Epoch 149/150\n",
            "12/12 [==============================] - 0s 7ms/step - loss: 13.2550 - mean_squared_error: 13.2550 - val_loss: 14.7728 - val_mean_squared_error: 14.7728\n",
            "Epoch 150/150\n",
            "12/12 [==============================] - 0s 6ms/step - loss: 13.0920 - mean_squared_error: 13.0920 - val_loss: 14.6939 - val_mean_squared_error: 14.6939\n"
          ]
        }
      ]
    },
    {
      "cell_type": "code",
      "source": [
        "# show the graph of model loss in trainig and validation \n",
        "\n",
        "plt.figure(figsize=(15,8))\n",
        "plt.xlabel('Epoch')\n",
        "plt.ylabel('Mean Square Error')\n",
        "plt.plot(history.epoch, history.history['loss'],\n",
        "           label='Train Loss')\n",
        "plt.plot(history.epoch, history.history['val_loss'],\n",
        "           label = 'Val loss')\n",
        "plt.title('Model loss')\n",
        "plt.legend()\n",
        "\n",
        "## TALK ABOUT CONVERGENCE\n"
      ],
      "metadata": {
        "colab": {
          "base_uri": "https://localhost:8080/",
          "height": 550
        },
        "id": "dFMuqr3KV0Mu",
        "outputId": "ebbc5c9b-46bf-4ca0-a306-2c0c0d8bbe4d"
      },
      "execution_count": 33,
      "outputs": [
        {
          "output_type": "execute_result",
          "data": {
            "text/plain": [
              "<matplotlib.legend.Legend at 0x7f58b411cca0>"
            ]
          },
          "metadata": {},
          "execution_count": 33
        },
        {
          "output_type": "display_data",
          "data": {
            "text/plain": [
              "<Figure size 1080x576 with 1 Axes>"
            ],
            "image/png": "[encoded data removed]"
          },
          "metadata": {
            "needs_background": "light"
          }
        }
      ]
    },
    {
      "cell_type": "code",
      "source": [
        "#Note that after 32 Epochs we could have \"stopped early\" rather than go ghrough 150 eochs since the\n",
        "#numbers are so close MSE is around $163K."
      ],
      "metadata": {
        "id": "4ugb7VFyw3zf"
      },
      "execution_count": null,
      "outputs": []
    },
    {
      "cell_type": "code",
      "source": [
        "## Build the model\n",
        "model = Sequential()\n",
        "model.add(Dense(32, input_dim=4, activation= \"relu\"))\n",
        "model.add(Dense(32, activation= \"relu\"))\n",
        "model.add(Dense(1, activation='linear', name='sales'))\n",
        "\n",
        "\n",
        "## Compile the Model\n",
        "model.compile(loss= \"mse\" , \n",
        "              optimizer=\"adam\", \n",
        "              metrics=[\"mse\"])\n",
        "\n",
        "\n",
        "## Fit the Model\n",
        "history = model.fit(X_train, y_train,\n",
        "          batch_size=32, epochs=100,\n",
        "          validation_data = (X_test, y_test))\n"
      ],
      "metadata": {
        "id": "MCXZzWnsKJjL",
        "colab": {
          "base_uri": "https://localhost:8080/"
        },
        "outputId": "b80bc858-a8ce-41c3-f600-68c8460d534b"
      },
      "execution_count": 61,
      "outputs": [
        {
          "output_type": "stream",
          "name": "stdout",
          "text": [
            "Epoch 1/100\n",
            "12/12 [==============================] - 2s 32ms/step - loss: 257.6584 - mse: 257.6584 - val_loss: 92.9133 - val_mse: 92.9133\n",
            "Epoch 2/100\n",
            "12/12 [==============================] - 0s 13ms/step - loss: 60.4959 - mse: 60.4959 - val_loss: 10.5323 - val_mse: 10.5323\n",
            "Epoch 3/100\n",
            "12/12 [==============================] - 0s 6ms/step - loss: 16.7678 - mse: 16.7678 - val_loss: 11.4169 - val_mse: 11.4169\n",
            "Epoch 4/100\n",
            "12/12 [==============================] - 0s 6ms/step - loss: 8.4839 - mse: 8.4839 - val_loss: 8.5762 - val_mse: 8.5762\n",
            "Epoch 5/100\n",
            "12/12 [==============================] - 0s 7ms/step - loss: 6.9638 - mse: 6.9638 - val_loss: 5.6381 - val_mse: 5.6381\n",
            "Epoch 6/100\n",
            "12/12 [==============================] - 0s 8ms/step - loss: 4.8157 - mse: 4.8157 - val_loss: 4.4850 - val_mse: 4.4850\n",
            "Epoch 7/100\n",
            "12/12 [==============================] - 0s 6ms/step - loss: 3.9393 - mse: 3.9393 - val_loss: 4.1782 - val_mse: 4.1782\n",
            "Epoch 8/100\n",
            "12/12 [==============================] - 0s 5ms/step - loss: 3.6626 - mse: 3.6626 - val_loss: 3.9407 - val_mse: 3.9407\n",
            "Epoch 9/100\n",
            "12/12 [==============================] - 0s 6ms/step - loss: 3.5154 - mse: 3.5154 - val_loss: 3.9070 - val_mse: 3.9070\n",
            "Epoch 10/100\n",
            "12/12 [==============================] - 0s 6ms/step - loss: 3.3530 - mse: 3.3530 - val_loss: 3.7543 - val_mse: 3.7543\n",
            "Epoch 11/100\n",
            "12/12 [==============================] - 0s 7ms/step - loss: 3.2346 - mse: 3.2346 - val_loss: 3.7256 - val_mse: 3.7256\n",
            "Epoch 12/100\n",
            "12/12 [==============================] - 0s 6ms/step - loss: 3.1737 - mse: 3.1737 - val_loss: 3.6905 - val_mse: 3.6905\n",
            "Epoch 13/100\n",
            "12/12 [==============================] - 0s 6ms/step - loss: 3.1246 - mse: 3.1246 - val_loss: 3.6182 - val_mse: 3.6182\n",
            "Epoch 14/100\n",
            "12/12 [==============================] - 0s 7ms/step - loss: 3.0320 - mse: 3.0320 - val_loss: 3.6369 - val_mse: 3.6369\n",
            "Epoch 15/100\n",
            "12/12 [==============================] - 0s 6ms/step - loss: 3.0307 - mse: 3.0307 - val_loss: 3.7323 - val_mse: 3.7323\n",
            "Epoch 16/100\n",
            "12/12 [==============================] - 0s 7ms/step - loss: 3.0598 - mse: 3.0598 - val_loss: 3.6335 - val_mse: 3.6335\n",
            "Epoch 17/100\n",
            "12/12 [==============================] - 0s 7ms/step - loss: 2.9183 - mse: 2.9183 - val_loss: 3.6310 - val_mse: 3.6310\n",
            "Epoch 18/100\n",
            "12/12 [==============================] - 0s 6ms/step - loss: 2.8726 - mse: 2.8726 - val_loss: 3.5637 - val_mse: 3.5637\n",
            "Epoch 19/100\n",
            "12/12 [==============================] - 0s 10ms/step - loss: 2.8494 - mse: 2.8494 - val_loss: 3.6237 - val_mse: 3.6237\n",
            "Epoch 20/100\n",
            "12/12 [==============================] - 0s 6ms/step - loss: 2.8419 - mse: 2.8419 - val_loss: 3.5123 - val_mse: 3.5123\n",
            "Epoch 21/100\n",
            "12/12 [==============================] - 0s 6ms/step - loss: 2.7741 - mse: 2.7741 - val_loss: 3.4924 - val_mse: 3.4924\n",
            "Epoch 22/100\n",
            "12/12 [==============================] - 0s 6ms/step - loss: 2.7391 - mse: 2.7391 - val_loss: 3.5185 - val_mse: 3.5185\n",
            "Epoch 23/100\n",
            "12/12 [==============================] - 0s 7ms/step - loss: 2.7587 - mse: 2.7587 - val_loss: 3.6073 - val_mse: 3.6073\n",
            "Epoch 24/100\n",
            "12/12 [==============================] - 0s 6ms/step - loss: 2.7806 - mse: 2.7806 - val_loss: 3.5373 - val_mse: 3.5373\n",
            "Epoch 25/100\n",
            "12/12 [==============================] - 0s 5ms/step - loss: 2.7800 - mse: 2.7800 - val_loss: 3.7013 - val_mse: 3.7013\n",
            "Epoch 26/100\n",
            "12/12 [==============================] - 0s 6ms/step - loss: 2.7299 - mse: 2.7299 - val_loss: 3.5457 - val_mse: 3.5457\n",
            "Epoch 27/100\n",
            "12/12 [==============================] - 0s 6ms/step - loss: 2.7054 - mse: 2.7054 - val_loss: 3.6214 - val_mse: 3.6214\n",
            "Epoch 28/100\n",
            "12/12 [==============================] - 0s 6ms/step - loss: 2.6666 - mse: 2.6666 - val_loss: 3.4694 - val_mse: 3.4694\n",
            "Epoch 29/100\n",
            "12/12 [==============================] - 0s 6ms/step - loss: 2.5613 - mse: 2.5613 - val_loss: 3.4855 - val_mse: 3.4855\n",
            "Epoch 30/100\n",
            "12/12 [==============================] - 0s 7ms/step - loss: 2.5549 - mse: 2.5549 - val_loss: 3.5193 - val_mse: 3.5193\n",
            "Epoch 31/100\n",
            "12/12 [==============================] - 0s 5ms/step - loss: 2.5862 - mse: 2.5862 - val_loss: 3.4111 - val_mse: 3.4111\n",
            "Epoch 32/100\n",
            "12/12 [==============================] - 0s 7ms/step - loss: 2.4860 - mse: 2.4860 - val_loss: 3.4579 - val_mse: 3.4579\n",
            "Epoch 33/100\n",
            "12/12 [==============================] - 0s 7ms/step - loss: 2.5434 - mse: 2.5434 - val_loss: 3.4528 - val_mse: 3.4528\n",
            "Epoch 34/100\n",
            "12/12 [==============================] - 0s 6ms/step - loss: 2.5028 - mse: 2.5028 - val_loss: 3.4715 - val_mse: 3.4715\n",
            "Epoch 35/100\n",
            "12/12 [==============================] - 0s 7ms/step - loss: 2.4409 - mse: 2.4409 - val_loss: 3.3973 - val_mse: 3.3973\n",
            "Epoch 36/100\n",
            "12/12 [==============================] - 0s 6ms/step - loss: 2.4156 - mse: 2.4156 - val_loss: 3.4167 - val_mse: 3.4167\n",
            "Epoch 37/100\n",
            "12/12 [==============================] - 0s 6ms/step - loss: 2.3864 - mse: 2.3864 - val_loss: 3.6126 - val_mse: 3.6126\n",
            "Epoch 38/100\n",
            "12/12 [==============================] - 0s 7ms/step - loss: 2.4256 - mse: 2.4256 - val_loss: 3.3954 - val_mse: 3.3954\n",
            "Epoch 39/100\n",
            "12/12 [==============================] - 0s 5ms/step - loss: 2.3955 - mse: 2.3955 - val_loss: 3.3449 - val_mse: 3.3449\n",
            "Epoch 40/100\n",
            "12/12 [==============================] - 0s 6ms/step - loss: 2.4295 - mse: 2.4295 - val_loss: 3.5308 - val_mse: 3.5308\n",
            "Epoch 41/100\n",
            "12/12 [==============================] - 0s 6ms/step - loss: 2.3440 - mse: 2.3440 - val_loss: 3.4659 - val_mse: 3.4659\n",
            "Epoch 42/100\n",
            "12/12 [==============================] - 0s 7ms/step - loss: 2.2420 - mse: 2.2420 - val_loss: 3.4246 - val_mse: 3.4246\n",
            "Epoch 43/100\n",
            "12/12 [==============================] - 0s 6ms/step - loss: 2.2252 - mse: 2.2252 - val_loss: 3.3755 - val_mse: 3.3755\n",
            "Epoch 44/100\n",
            "12/12 [==============================] - 0s 5ms/step - loss: 2.1808 - mse: 2.1808 - val_loss: 3.4291 - val_mse: 3.4291\n",
            "Epoch 45/100\n",
            "12/12 [==============================] - 0s 6ms/step - loss: 2.2110 - mse: 2.2110 - val_loss: 3.3511 - val_mse: 3.3511\n",
            "Epoch 46/100\n",
            "12/12 [==============================] - 0s 6ms/step - loss: 2.1257 - mse: 2.1257 - val_loss: 3.3536 - val_mse: 3.3536\n",
            "Epoch 47/100\n",
            "12/12 [==============================] - 0s 6ms/step - loss: 2.1247 - mse: 2.1247 - val_loss: 3.3033 - val_mse: 3.3033\n",
            "Epoch 48/100\n",
            "12/12 [==============================] - 0s 7ms/step - loss: 2.1167 - mse: 2.1167 - val_loss: 3.3340 - val_mse: 3.3340\n",
            "Epoch 49/100\n",
            "12/12 [==============================] - 0s 7ms/step - loss: 2.0972 - mse: 2.0972 - val_loss: 3.2778 - val_mse: 3.2778\n",
            "Epoch 50/100\n",
            "12/12 [==============================] - 0s 6ms/step - loss: 2.0653 - mse: 2.0653 - val_loss: 3.2336 - val_mse: 3.2336\n",
            "Epoch 51/100\n",
            "12/12 [==============================] - 0s 6ms/step - loss: 2.0337 - mse: 2.0337 - val_loss: 3.2721 - val_mse: 3.2721\n",
            "Epoch 52/100\n",
            "12/12 [==============================] - 0s 5ms/step - loss: 2.0378 - mse: 2.0378 - val_loss: 3.2931 - val_mse: 3.2931\n",
            "Epoch 53/100\n",
            "12/12 [==============================] - 0s 6ms/step - loss: 2.0410 - mse: 2.0410 - val_loss: 3.3212 - val_mse: 3.3212\n",
            "Epoch 54/100\n",
            "12/12 [==============================] - 0s 7ms/step - loss: 2.0023 - mse: 2.0023 - val_loss: 3.1485 - val_mse: 3.1485\n",
            "Epoch 55/100\n",
            "12/12 [==============================] - 0s 6ms/step - loss: 1.9937 - mse: 1.9937 - val_loss: 3.2143 - val_mse: 3.2143\n",
            "Epoch 56/100\n",
            "12/12 [==============================] - 0s 6ms/step - loss: 1.9550 - mse: 1.9550 - val_loss: 3.2061 - val_mse: 3.2061\n",
            "Epoch 57/100\n",
            "12/12 [==============================] - 0s 7ms/step - loss: 1.9605 - mse: 1.9605 - val_loss: 3.1424 - val_mse: 3.1424\n",
            "Epoch 58/100\n",
            "12/12 [==============================] - 0s 7ms/step - loss: 1.9078 - mse: 1.9078 - val_loss: 3.1072 - val_mse: 3.1072\n",
            "Epoch 59/100\n",
            "12/12 [==============================] - 0s 6ms/step - loss: 1.9004 - mse: 1.9004 - val_loss: 3.3929 - val_mse: 3.3929\n",
            "Epoch 60/100\n",
            "12/12 [==============================] - 0s 6ms/step - loss: 1.9559 - mse: 1.9559 - val_loss: 3.1899 - val_mse: 3.1899\n",
            "Epoch 61/100\n",
            "12/12 [==============================] - 0s 10ms/step - loss: 1.8769 - mse: 1.8769 - val_loss: 3.0977 - val_mse: 3.0977\n",
            "Epoch 62/100\n",
            "12/12 [==============================] - 0s 7ms/step - loss: 1.9544 - mse: 1.9544 - val_loss: 3.0833 - val_mse: 3.0833\n",
            "Epoch 63/100\n",
            "12/12 [==============================] - 0s 6ms/step - loss: 1.8363 - mse: 1.8363 - val_loss: 3.2531 - val_mse: 3.2531\n",
            "Epoch 64/100\n",
            "12/12 [==============================] - 0s 6ms/step - loss: 1.9205 - mse: 1.9205 - val_loss: 3.1696 - val_mse: 3.1696\n",
            "Epoch 65/100\n",
            "12/12 [==============================] - 0s 6ms/step - loss: 1.8630 - mse: 1.8630 - val_loss: 3.1218 - val_mse: 3.1218\n",
            "Epoch 66/100\n",
            "12/12 [==============================] - 0s 6ms/step - loss: 1.9172 - mse: 1.9172 - val_loss: 3.1316 - val_mse: 3.1316\n",
            "Epoch 67/100\n",
            "12/12 [==============================] - 0s 8ms/step - loss: 1.8649 - mse: 1.8649 - val_loss: 3.1280 - val_mse: 3.1280\n",
            "Epoch 68/100\n",
            "12/12 [==============================] - 0s 6ms/step - loss: 1.8636 - mse: 1.8636 - val_loss: 3.0660 - val_mse: 3.0660\n",
            "Epoch 69/100\n",
            "12/12 [==============================] - 0s 7ms/step - loss: 1.9030 - mse: 1.9030 - val_loss: 3.1843 - val_mse: 3.1843\n",
            "Epoch 70/100\n",
            "12/12 [==============================] - 0s 6ms/step - loss: 1.8451 - mse: 1.8451 - val_loss: 3.1983 - val_mse: 3.1983\n",
            "Epoch 71/100\n",
            "12/12 [==============================] - 0s 6ms/step - loss: 1.8245 - mse: 1.8245 - val_loss: 3.0572 - val_mse: 3.0572\n",
            "Epoch 72/100\n",
            "12/12 [==============================] - 0s 6ms/step - loss: 1.7109 - mse: 1.7109 - val_loss: 3.0297 - val_mse: 3.0297\n",
            "Epoch 73/100\n",
            "12/12 [==============================] - 0s 6ms/step - loss: 1.7575 - mse: 1.7575 - val_loss: 2.9805 - val_mse: 2.9805\n",
            "Epoch 74/100\n",
            "12/12 [==============================] - 0s 12ms/step - loss: 1.6787 - mse: 1.6787 - val_loss: 3.0435 - val_mse: 3.0435\n",
            "Epoch 75/100\n",
            "12/12 [==============================] - 0s 9ms/step - loss: 1.6630 - mse: 1.6630 - val_loss: 2.9688 - val_mse: 2.9688\n",
            "Epoch 76/100\n",
            "12/12 [==============================] - 0s 7ms/step - loss: 1.6747 - mse: 1.6747 - val_loss: 3.0820 - val_mse: 3.0820\n",
            "Epoch 77/100\n",
            "12/12 [==============================] - 0s 9ms/step - loss: 1.7166 - mse: 1.7166 - val_loss: 2.9905 - val_mse: 2.9905\n",
            "Epoch 78/100\n",
            "12/12 [==============================] - 0s 8ms/step - loss: 1.6350 - mse: 1.6350 - val_loss: 2.9206 - val_mse: 2.9206\n",
            "Epoch 79/100\n",
            "12/12 [==============================] - 0s 7ms/step - loss: 1.6215 - mse: 1.6215 - val_loss: 3.0183 - val_mse: 3.0183\n",
            "Epoch 80/100\n",
            "12/12 [==============================] - 0s 9ms/step - loss: 1.6472 - mse: 1.6472 - val_loss: 2.8859 - val_mse: 2.8859\n",
            "Epoch 81/100\n",
            "12/12 [==============================] - 0s 8ms/step - loss: 1.5802 - mse: 1.5802 - val_loss: 2.9115 - val_mse: 2.9115\n",
            "Epoch 82/100\n",
            "12/12 [==============================] - 0s 7ms/step - loss: 1.5596 - mse: 1.5596 - val_loss: 2.9514 - val_mse: 2.9514\n",
            "Epoch 83/100\n",
            "12/12 [==============================] - 0s 8ms/step - loss: 1.5439 - mse: 1.5439 - val_loss: 2.9147 - val_mse: 2.9147\n",
            "Epoch 84/100\n",
            "12/12 [==============================] - 0s 7ms/step - loss: 1.5297 - mse: 1.5297 - val_loss: 2.8707 - val_mse: 2.8707\n",
            "Epoch 85/100\n",
            "12/12 [==============================] - 0s 7ms/step - loss: 1.5136 - mse: 1.5136 - val_loss: 2.9457 - val_mse: 2.9457\n",
            "Epoch 86/100\n",
            "12/12 [==============================] - 0s 8ms/step - loss: 1.5257 - mse: 1.5257 - val_loss: 2.8553 - val_mse: 2.8553\n",
            "Epoch 87/100\n",
            "12/12 [==============================] - 0s 8ms/step - loss: 1.4879 - mse: 1.4879 - val_loss: 2.8783 - val_mse: 2.8783\n",
            "Epoch 88/100\n",
            "12/12 [==============================] - 0s 13ms/step - loss: 1.4841 - mse: 1.4841 - val_loss: 2.8915 - val_mse: 2.8915\n",
            "Epoch 89/100\n",
            "12/12 [==============================] - 0s 8ms/step - loss: 1.5035 - mse: 1.5035 - val_loss: 2.9872 - val_mse: 2.9872\n",
            "Epoch 90/100\n",
            "12/12 [==============================] - 0s 8ms/step - loss: 1.4399 - mse: 1.4399 - val_loss: 2.8612 - val_mse: 2.8612\n",
            "Epoch 91/100\n",
            "12/12 [==============================] - 0s 8ms/step - loss: 1.5347 - mse: 1.5347 - val_loss: 3.1013 - val_mse: 3.1013\n",
            "Epoch 92/100\n",
            "12/12 [==============================] - 0s 12ms/step - loss: 1.6019 - mse: 1.6019 - val_loss: 3.5610 - val_mse: 3.5610\n",
            "Epoch 93/100\n",
            "12/12 [==============================] - 0s 8ms/step - loss: 1.7472 - mse: 1.7472 - val_loss: 2.8903 - val_mse: 2.8903\n",
            "Epoch 94/100\n",
            "12/12 [==============================] - 0s 8ms/step - loss: 1.4222 - mse: 1.4222 - val_loss: 2.9099 - val_mse: 2.9099\n",
            "Epoch 95/100\n",
            "12/12 [==============================] - 0s 9ms/step - loss: 1.4924 - mse: 1.4924 - val_loss: 2.8529 - val_mse: 2.8529\n",
            "Epoch 96/100\n",
            "12/12 [==============================] - 0s 9ms/step - loss: 1.4100 - mse: 1.4100 - val_loss: 2.8189 - val_mse: 2.8189\n",
            "Epoch 97/100\n",
            "12/12 [==============================] - 0s 8ms/step - loss: 1.4236 - mse: 1.4236 - val_loss: 2.7191 - val_mse: 2.7191\n",
            "Epoch 98/100\n",
            "12/12 [==============================] - 0s 9ms/step - loss: 1.5573 - mse: 1.5573 - val_loss: 3.4742 - val_mse: 3.4742\n",
            "Epoch 99/100\n",
            "12/12 [==============================] - 0s 8ms/step - loss: 1.7501 - mse: 1.7501 - val_loss: 3.0392 - val_mse: 3.0392\n",
            "Epoch 100/100\n",
            "12/12 [==============================] - 0s 10ms/step - loss: 1.3619 - mse: 1.3619 - val_loss: 2.7231 - val_mse: 2.7231\n"
          ]
        }
      ]
    },
    {
      "cell_type": "code",
      "source": [
        "#Let's show loss as Mean Square Error (MSE)\n",
        "loss, mse = model.evaluate(X_train)\n",
        "\n",
        "print(\"Mean Squared Error\", mse)"
      ],
      "metadata": {
        "colab": {
          "base_uri": "https://localhost:8080/"
        },
        "id": "z5YSyc-5n6IX",
        "outputId": "2620f6d6-4077-44a5-d357-5e6d1223228d"
      },
      "execution_count": 63,
      "outputs": [
        {
          "output_type": "stream",
          "name": "stdout",
          "text": [
            "12/12 [==============================] - 0s 2ms/step - loss: 0.0000e+00 - mse: 0.0000e+00\n",
            "Mean Squared Error 0.0\n"
          ]
        }
      ]
    },
    {
      "cell_type": "code",
      "source": [
        "# show the graph of model loss in trainig and validation \n",
        "\n",
        "plt.figure(figsize=(15,8))\n",
        "plt.xlabel('Epoch')\n",
        "plt.ylabel('Mean Square Error')\n",
        "plt.plot(history.epoch, history.history['loss'],\n",
        "           label='Train Loss')\n",
        "plt.plot(history.epoch, history.history['val_loss'],\n",
        "           label = 'Val loss')\n",
        "plt.title('Model loss')\n",
        "plt.legend()\n",
        "\n",
        "## TALK ABOUT CONVERGENCE\n"
      ],
      "metadata": {
        "colab": {
          "base_uri": "https://localhost:8080/",
          "height": 512
        },
        "id": "-Pq2v9VPk5Ei",
        "outputId": "da69a2c8-7827-403b-a893-abde053948a1"
      },
      "execution_count": 64,
      "outputs": [
        {
          "output_type": "execute_result",
          "data": {
            "text/plain": [
              "<matplotlib.legend.Legend at 0x7f58b4807ac0>"
            ]
          },
          "metadata": {},
          "execution_count": 64
        },
        {
          "output_type": "display_data",
          "data": {
            "text/plain": [
              "<Figure size 1080x576 with 1 Axes>"
            ],
            "image/png": "[encoded data removed]"
          },
          "metadata": {
            "needs_background": "light"
          }
        }
      ]
    },
    {
      "cell_type": "code",
      "source": [
        "# Use matplotlib to draw the model's loss curves for training and validation\n",
        "def plot_curves(history, metrics):\n",
        "    nrows = 1\n",
        "    ncols = 2\n",
        "    fig = plt.figure(figsize=(10, 5))\n",
        "\n",
        "    for idx, key in enumerate(metrics):  \n",
        "        ax = fig.add_subplot(nrows, ncols, idx+1)\n",
        "        plt.plot(history.history[key])\n",
        "        plt.plot(history.history['val_{}'.format(key)])\n",
        "        plt.title('model {}'.format(key))\n",
        "        plt.ylabel(key)\n",
        "        plt.xlabel('epoch')\n",
        "        plt.legend(['train', 'validation'], loc='upper left');  \n"
      ],
      "metadata": {
        "id": "dAnaz94xojQ1"
      },
      "execution_count": 66,
      "outputs": []
    },
    {
      "cell_type": "code",
      "source": [
        "plot_curves(history, ['loss', 'mse'])"
      ],
      "metadata": {
        "colab": {
          "base_uri": "https://localhost:8080/",
          "height": 350
        },
        "id": "jjTWkIMzkr22",
        "outputId": "0d49036e-4f4b-4958-c0ab-083e581ac896"
      },
      "execution_count": 67,
      "outputs": [
        {
          "output_type": "display_data",
          "data": {
            "text/plain": [
              "<Figure size 720x360 with 2 Axes>"
            ],
            "image/png": "[encoded data removed]"
          },
          "metadata": {
            "needs_background": "light"
          }
        }
      ]
    },
    {
      "cell_type": "code",
      "source": [
        "'''=== Visualize the model evaluation skill ==='''\n",
        "\n",
        "\n",
        "# visualize the prediction uisng diagonal line\n",
        "y = test_predictions #y-axis\n",
        "x = y_test #x-axis\n",
        "fig, ax = plt.subplots(figsize=(10,6)) # create figure\n",
        "ax.scatter(x,y) #scatter plots for x,y\n",
        "ax.set(xlim=(0,55), ylim=(0, 55)) #set limit\n",
        "ax.plot(ax.get_xlim(), ax.get_ylim(), color ='red') # draw 45 degree diagonal in figure\n",
        "plt.xlabel('True Values')\n",
        "plt.ylabel('Predicted values')\n",
        "plt.title('Evaluation Result')\n",
        "plt.show()"
      ],
      "metadata": {
        "colab": {
          "base_uri": "https://localhost:8080/",
          "height": 404
        },
        "id": "8b5BnJPDq3uY",
        "outputId": "ccb49366-3eaf-48f0-f53a-2548a77cc369"
      },
      "execution_count": 68,
      "outputs": [
        {
          "output_type": "display_data",
          "data": {
            "text/plain": [
              "<Figure size 720x432 with 1 Axes>"
            ],
            "image/png": "[encoded data removed]"
          },
          "metadata": {
            "needs_background": "light"
          }
        }
      ]
    },
    {
      "cell_type": "code",
      "source": [
        "#check the model performace in test dataset\n",
        "score = model.evaluate(X_test, y_test, verbose=1)\n",
        "print('loss value: ', score[0])\n",
        "print('Mean absolute error: ', score[1])\n"
      ],
      "metadata": {
        "colab": {
          "base_uri": "https://localhost:8080/"
        },
        "id": "gQmqosSnq4q5",
        "outputId": "996c68dd-927c-4230-a1c0-02bd9e757452"
      },
      "execution_count": 69,
      "outputs": [
        {
          "output_type": "stream",
          "name": "stdout",
          "text": [
            "8/8 [==============================] - 0s 3ms/step - loss: 2.7231 - mse: 2.7231\n",
            "loss value:  2.7230706214904785\n",
            "Mean absolute error:  2.7230706214904785\n"
          ]
        }
      ]
    },
    {
      "cell_type": "code",
      "source": [],
      "metadata": {
        "id": "x_mB6HGWq5la"
      },
      "execution_count": null,
      "outputs": []
    },
    {
      "cell_type": "code",
      "source": [
        "'''=== predict the house price ==='''\n",
        "\n",
        "# predict house price using the test data \n",
        "test_predictions = model.predict(X_test).flatten()\n",
        "print(test_predictions)\n"
      ],
      "metadata": {
        "colab": {
          "base_uri": "https://localhost:8080/"
        },
        "id": "ey9yd5NKX2cA",
        "outputId": "bfb7976b-9c06-4f7f-8d93-be60d7fd016c"
      },
      "execution_count": 70,
      "outputs": [
        {
          "output_type": "stream",
          "name": "stdout",
          "text": [
            "8/8 [==============================] - 0s 2ms/step\n",
            "[16.162144  20.889862  17.068348   9.355356  10.387813  13.303375\n",
            " 10.006567  12.68465   12.281933  10.894365   8.221563  15.688934\n",
            " 22.77667    7.0543737 16.18763   23.468468  23.911903  22.77667\n",
            " 15.612095  26.572826  14.846441  11.334549  11.271816   7.7347856\n",
            " 15.296593  19.326927  19.70158   10.133791  15.56493   24.69651\n",
            " 15.210399  14.349319   7.710481  12.989916  21.509962   8.941726\n",
            " 15.965275   9.082462   5.0832887 23.969208  25.063477   7.7475743\n",
            "  6.1281457 20.06674    7.0536456 19.150011   2.3180323 10.816845\n",
            " 25.160004  22.366802  12.68465   15.086807  13.321719   5.49966\n",
            " 15.56493    9.355356  10.4301815 17.616638   9.264477  24.48395\n",
            " 16.32272    8.473941  17.647652  22.80146    9.773467   8.221563\n",
            " 21.777473  11.95537   18.392391  17.95203   12.126272  17.085495\n",
            " 13.401993  17.510643   5.7770333 12.7384205 15.622597   2.2675884\n",
            " 17.251675  22.744469  13.369343  22.274803  23.3214     7.710481\n",
            "  6.7579713 11.95537    6.734329  19.446411  13.566311   8.602945\n",
            "  8.5581045  7.3659472 17.923355   9.082462  21.777485  13.3738365\n",
            " 15.56493   19.326927  10.325796  11.438858  19.150011  16.040442\n",
            "  7.710481  10.502226   5.7309766  8.207445   9.217989  13.051659\n",
            " 11.334549  10.387545  11.422234   8.21424   15.643408   8.393721\n",
            " 11.203405   9.697111  11.2058525 17.550093   4.880729  17.550093\n",
            " 10.999855  10.387545  15.612095  20.362427  20.344004  18.13224\n",
            "  3.166985  13.645341  20.889862   5.0832887  8.5581045 24.69651\n",
            "  6.7363667 25.063477  19.454163  15.1200695 22.77667   14.381248\n",
            "  9.217989  17.647663  11.846441   6.3569155  7.7347856 14.394222\n",
            "  8.901686  22.491459   9.697111   9.773467  16.651924   4.9433227\n",
            "  2.2675884  6.7579713 20.344004  17.053394  21.507065   8.207445\n",
            " 22.356445  11.95537   16.011436  20.988956  15.1200695 11.659705\n",
            "  6.7363667  5.49966   11.271816  23.468468  14.454781   3.166985\n",
            " 20.344004   8.731935  17.336288  15.965275  22.801468   6.163677\n",
            "  4.6063333 22.366802   7.597999   6.4570384 17.251675  13.3738365\n",
            " 20.359537  14.593748  17.053394  19.454163  14.349316   5.49966\n",
            " 13.321719  17.053394  13.697533  22.356445   8.282487   8.393719\n",
            " 22.744469   6.3569155 17.616638  22.274803   4.880729   9.382444\n",
            "  7.7475743  9.197779  19.454163  11.119747   6.1281457 19.446411\n",
            " 13.321719   4.9433227 12.644846  14.3684845 20.359537  19.759716\n",
            "  9.264477  22.801468  17.085495  22.366802  18.392647  21.777473\n",
            "  4.5283484 17.95203   18.162094  25.359627   9.382444   5.99951\n",
            " 21.507065   3.166985  12.264744  24.48395   12.68465   13.069927\n",
            "  7.597999  15.688934   4.9433227 11.438858   7.0536456  6.734329\n",
            "  8.941726   8.282487   4.5283484 16.651924  12.644846  23.949707 ]\n"
          ]
        }
      ]
    },
    {
      "cell_type": "code",
      "source": [
        "# show the true value and predicted value in dataframe\n",
        "true_predicted = pd.DataFrame(list(zip(y_test, test_predictions)), \n",
        "                    columns=['True Value','Predicted Value'])\n",
        "true_predicted.head(10)"
      ],
      "metadata": {
        "colab": {
          "base_uri": "https://localhost:8080/",
          "height": 363
        },
        "id": "djjOQoW4YDzy",
        "outputId": "0a5a13b6-166d-4291-a56d-62bc2db6f2d7"
      },
      "execution_count": 71,
      "outputs": [
        {
          "output_type": "execute_result",
          "data": {
            "text/plain": [
              "   True Value  Predicted Value\n",
              "0        16.6        16.162144\n",
              "1        20.7        20.889862\n",
              "2        17.4        17.068348\n",
              "3         9.5         9.355356\n",
              "4        12.4        10.387813\n",
              "5        13.2        13.303375\n",
              "6        11.5        10.006567\n",
              "7        12.3        12.684650\n",
              "8        12.9        12.281933\n",
              "9        10.9        10.894365"
            ],
            "text/html": [
              "\n",
              "  <div id=\"df-5e6b5d4d-d6a0-4233-b27a-926ce4b8e75b\">\n",
              "    <div class=\"colab-df-container\">\n",
              "      <div>\n",
              "<style scoped>\n",
              "    .dataframe tbody tr th:only-of-type {\n",
              "        vertical-align: middle;\n",
              "    }\n",
              "\n",
              "    .dataframe tbody tr th {\n",
              "        vertical-align: top;\n",
              "    }\n",
              "\n",
              "    .dataframe thead th {\n",
              "        text-align: right;\n",
              "    }\n",
              "</style>\n",
              "<table border=\"1\" class=\"dataframe\">\n",
              "  <thead>\n",
              "    <tr style=\"text-align: right;\">\n",
              "      <th></th>\n",
              "      <th>True Value</th>\n",
              "      <th>Predicted Value</th>\n",
              "    </tr>\n",
              "  </thead>\n",
              "  <tbody>\n",
              "    <tr>\n",
              "      <th>0</th>\n",
              "      <td>16.6</td>\n",
              "      <td>16.162144</td>\n",
              "    </tr>\n",
              "    <tr>\n",
              "      <th>1</th>\n",
              "      <td>20.7</td>\n",
              "      <td>20.889862</td>\n",
              "    </tr>\n",
              "    <tr>\n",
              "      <th>2</th>\n",
              "      <td>17.4</td>\n",
              "      <td>17.068348</td>\n",
              "    </tr>\n",
              "    <tr>\n",
              "      <th>3</th>\n",
              "      <td>9.5</td>\n",
              "      <td>9.355356</td>\n",
              "    </tr>\n",
              "    <tr>\n",
              "      <th>4</th>\n",
              "      <td>12.4</td>\n",
              "      <td>10.387813</td>\n",
              "    </tr>\n",
              "    <tr>\n",
              "      <th>5</th>\n",
              "      <td>13.2</td>\n",
              "      <td>13.303375</td>\n",
              "    </tr>\n",
              "    <tr>\n",
              "      <th>6</th>\n",
              "      <td>11.5</td>\n",
              "      <td>10.006567</td>\n",
              "    </tr>\n",
              "    <tr>\n",
              "      <th>7</th>\n",
              "      <td>12.3</td>\n",
              "      <td>12.684650</td>\n",
              "    </tr>\n",
              "    <tr>\n",
              "      <th>8</th>\n",
              "      <td>12.9</td>\n",
              "      <td>12.281933</td>\n",
              "    </tr>\n",
              "    <tr>\n",
              "      <th>9</th>\n",
              "      <td>10.9</td>\n",
              "      <td>10.894365</td>\n",
              "    </tr>\n",
              "  </tbody>\n",
              "</table>\n",
              "</div>\n",
              "      <button class=\"colab-df-convert\" onclick=\"convertToInteractive('df-5e6b5d4d-d6a0-4233-b27a-926ce4b8e75b')\"\n",
              "              title=\"Convert this dataframe to an interactive table.\"\n",
              "              style=\"display:none;\">\n",
              "        \n",
              "  <svg xmlns=\"http://www.w3.org/2000/svg\" height=\"24px\"viewBox=\"0 0 24 24\"\n",
              "       width=\"24px\">\n",
              "    <path d=\"M0 0h24v24H0V0z\" fill=\"none\"/>\n",
              "    <path d=\"M18.56 5.44l.94 2.06.94-2.06 2.06-.94-2.06-.94-.94-2.06-.94 2.06-2.06.94zm-11 1L8.5 8.5l.94-2.06 2.06-.94-2.06-.94L8.5 2.5l-.94 2.06-2.06.94zm10 10l.94 2.06.94-2.06 2.06-.94-2.06-.94-.94-2.06-.94 2.06-2.06.94z\"/><path d=\"M17.41 7.96l-1.37-1.37c-.4-.4-.92-.59-1.43-.59-.52 0-1.04.2-1.43.59L10.3 9.45l-7.72 7.72c-.78.78-.78 2.05 0 2.83L4 21.41c.39.39.9.59 1.41.59.51 0 1.02-.2 1.41-.59l7.78-7.78 2.81-2.81c.8-.78.8-2.07 0-2.86zM5.41 20L4 18.59l7.72-7.72 1.47 1.35L5.41 20z\"/>\n",
              "  </svg>\n",
              "      </button>\n",
              "      \n",
              "  <style>\n",
              "    .colab-df-container {\n",
              "      display:flex;\n",
              "      flex-wrap:wrap;\n",
              "      gap: 12px;\n",
              "    }\n",
              "\n",
              "    .colab-df-convert {\n",
              "      background-color: #E8F0FE;\n",
              "      border: none;\n",
              "      border-radius: 50%;\n",
              "      cursor: pointer;\n",
              "      display: none;\n",
              "      fill: #1967D2;\n",
              "      height: 32px;\n",
              "      padding: 0 0 0 0;\n",
              "      width: 32px;\n",
              "    }\n",
              "\n",
              "    .colab-df-convert:hover {\n",
              "      background-color: #E2EBFA;\n",
              "      box-shadow: 0px 1px 2px rgba(60, 64, 67, 0.3), 0px 1px 3px 1px rgba(60, 64, 67, 0.15);\n",
              "      fill: #174EA6;\n",
              "    }\n",
              "\n",
              "    [theme=dark] .colab-df-convert {\n",
              "      background-color: #3B4455;\n",
              "      fill: #D2E3FC;\n",
              "    }\n",
              "\n",
              "    [theme=dark] .colab-df-convert:hover {\n",
              "      background-color: #434B5C;\n",
              "      box-shadow: 0px 1px 3px 1px rgba(0, 0, 0, 0.15);\n",
              "      filter: drop-shadow(0px 1px 2px rgba(0, 0, 0, 0.3));\n",
              "      fill: #FFFFFF;\n",
              "    }\n",
              "  </style>\n",
              "\n",
              "      <script>\n",
              "        const buttonEl =\n",
              "          document.querySelector('#df-5e6b5d4d-d6a0-4233-b27a-926ce4b8e75b button.colab-df-convert');\n",
              "        buttonEl.style.display =\n",
              "          google.colab.kernel.accessAllowed ? 'block' : 'none';\n",
              "\n",
              "        async function convertToInteractive(key) {\n",
              "          const element = document.querySelector('#df-5e6b5d4d-d6a0-4233-b27a-926ce4b8e75b');\n",
              "          const dataTable =\n",
              "            await google.colab.kernel.invokeFunction('convertToInteractive',\n",
              "                                                     [key], {});\n",
              "          if (!dataTable) return;\n",
              "\n",
              "          const docLinkHtml = 'Like what you see? Visit the ' +\n",
              "            '<a target=\"_blank\" href=https://colab.research.google.com/notebooks/data_table.ipynb>data table notebook</a>'\n",
              "            + ' to learn more about interactive tables.';\n",
              "          element.innerHTML = '';\n",
              "          dataTable['output_type'] = 'display_data';\n",
              "          await google.colab.output.renderOutput(dataTable, element);\n",
              "          const docLink = document.createElement('div');\n",
              "          docLink.innerHTML = docLinkHtml;\n",
              "          element.appendChild(docLink);\n",
              "        }\n",
              "      </script>\n",
              "    </div>\n",
              "  </div>\n",
              "  "
            ]
          },
          "metadata": {},
          "execution_count": 71
        }
      ]
    },
    {
      "cell_type": "code",
      "source": [
        "# visualize the prediction uisng diagonal line\n",
        "y = test_predictions #y-axis\n",
        "x = y_test #x-axis\n",
        "fig, ax = plt.subplots(figsize=(10,6)) # create figure\n",
        "ax.scatter(x,y) #scatter plots for x,y\n",
        "ax.set(xlim=(0,55), ylim=(0, 55)) #set limit\n",
        "ax.plot(ax.get_xlim(), ax.get_ylim(), color ='red') # draw 45 degree diagonal in figure\n",
        "plt.xlabel('True Values')\n",
        "plt.ylabel('Predicted values')\n",
        "plt.title('Evaluation Result')\n",
        "plt.show()"
      ],
      "metadata": {
        "colab": {
          "base_uri": "https://localhost:8080/",
          "height": 404
        },
        "id": "WS7EC2t2YGeL",
        "outputId": "f8be95b8-1453-4cd0-fede-6d2849f57818"
      },
      "execution_count": 79,
      "outputs": [
        {
          "output_type": "display_data",
          "data": {
            "text/plain": [
              "<Figure size 720x432 with 1 Axes>"
            ],
            "image/png": "[encoded data removed]"
          },
          "metadata": {
            "needs_background": "light"
          }
        }
      ]
    },
    {
      "cell_type": "code",
      "source": [
        "## EVALUATE\n",
        "\n"
      ],
      "metadata": {
        "id": "Eixuo_ISWv_3"
      },
      "execution_count": null,
      "outputs": []
    },
    {
      "cell_type": "markdown",
      "source": [
        "NOTHING PAST HERE"
      ],
      "metadata": {
        "id": "A9LUsykitlcd"
      }
    },
    {
      "cell_type": "markdown",
      "metadata": {
        "id": "uh_3f6dgnO2K"
      },
      "source": [
        "## Creating and Training the Model"
      ]
    },
    {
      "cell_type": "markdown",
      "metadata": {
        "id": "hQi2T_gbnO2P"
      },
      "source": [
        "## Model Evaluation\n",
        "\n",
        "Let's evaluate the model by checking out it's coefficients and how you can interpret them."
      ]
    },
    {
      "cell_type": "markdown",
      "source": [],
      "metadata": {
        "id": "wejQSiBitPby"
      }
    },
    {
      "cell_type": "markdown",
      "metadata": {
        "id": "aKW2IiSynO2b"
      },
      "source": [
        "**Residual Histogram**"
      ]
    },
    {
      "cell_type": "markdown",
      "metadata": {
        "id": "Znh-A9YrnO2d"
      },
      "source": [
        "## Regression Evaluation Metrics\n",
        "\n",
        "\n",
        "Here are three common evaluation metrics for regression problems:\n",
        "\n",
        "**Mean Absolute Error** (MAE) is the mean of the absolute value of the errors:\n",
        "\n",
        "$$\\frac 1n\\sum_{i=1}^n|y_i-\\hat{y}_i|$$\n",
        "\n",
        "**Mean Squared Error** (MSE) is the mean of the squared errors:\n",
        "\n",
        "$$\\frac 1n\\sum_{i=1}^n(y_i-\\hat{y}_i)^2$$\n",
        "\n",
        "**Root Mean Squared Error** (RMSE) is the square root of the mean of the squared errors:\n",
        "\n",
        "$$\\sqrt{\\frac 1n\\sum_{i=1}^n(y_i-\\hat{y}_i)^2}$$\n",
        "\n",
        "Comparing these metrics:\n",
        "\n",
        "- **MAE** is the easiest to understand, because it's the average error.\n",
        "- **MSE** is more popular than MAE, because MSE \"punishes\" larger errors, which tends to be useful in the real world.\n",
        "- **RMSE** is even more popular than MSE, because RMSE is interpretable in the \"y\" units.\n",
        "\n",
        "All of these are **loss functions**, because you want to minimize them."
      ]
    },
    {
      "cell_type": "code",
      "execution_count": 80,
      "metadata": {
        "id": "ePMew8WdnO2d"
      },
      "outputs": [],
      "source": [
        "# Importing metrics from sklearn\n",
        "from sklearn import metrics"
      ]
    },
    {
      "cell_type": "code",
      "execution_count": 82,
      "metadata": {
        "id": "Ev152sRanO2f",
        "colab": {
          "base_uri": "https://localhost:8080/"
        },
        "outputId": "fd8d0a3b-9eb9-4dec-eda4-c9685461175c"
      },
      "outputs": [
        {
          "output_type": "stream",
          "name": "stdout",
          "text": [
            "MAE: 0.9615543619791665\n",
            "MSE: 2.723070308722161\n",
            "RMSE: 1.6501728117752277\n"
          ]
        }
      ],
      "source": [
        "# Show the values of MAE, MSE, RMSE\n",
        "print('MAE:', metrics.mean_absolute_error(y_test, test_predictions))\n",
        "print('MSE:', metrics.mean_squared_error(y_test, test_predictions))\n",
        "print('RMSE:', np.sqrt(metrics.mean_squared_error(y_test, test_predictions)))"
      ]
    }
  ],
  "metadata": {
    "colab": {
      "provenance": []
    },
    "environment": {
      "kernel": "python3",
      "name": "tf2-gpu.2-6.m87",
      "type": "gcloud",
      "uri": "gcr.io/deeplearning-platform-release/tf2-gpu.2-6:m87"
    },
    "kernelspec": {
      "display_name": "Python 3",
      "language": "python",
      "name": "python3"
    },
    "language_info": {
      "codemirror_mode": {
        "name": "ipython",
        "version": 3
      },
      "file_extension": ".py",
      "mimetype": "text/x-python",
      "name": "python",
      "nbconvert_exporter": "python",
      "pygments_lexer": "ipython3",
      "version": "3.7.12"
    }
  },
  "nbformat": 4,
  "nbformat_minor": 0
}